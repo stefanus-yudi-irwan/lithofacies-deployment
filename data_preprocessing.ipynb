{
 "cells": [
  {
   "cell_type": "markdown",
   "metadata": {},
   "source": [
    "# Data Pipeline"
   ]
  },
  {
   "cell_type": "markdown",
   "metadata": {},
   "source": [
    "## A. Import Library"
   ]
  },
  {
   "cell_type": "code",
   "execution_count": 47,
   "metadata": {},
   "outputs": [],
   "source": [
    "import os     # for interacting with directory\n",
    "import numpy as np     # for calculation\n",
    "import pandas as pd     # for manipulating DataFrame\n",
    "import seaborn as sns     # for plotting data\n",
    "import matplotlib.pyplot as plt     # for plotting data\n",
    "import yaml     # for interacting with config.yaml  \n",
    "import src.util as util     # import common function\n",
    "from sklearn.model_selection import train_test_split     # for splitting train and test data"
   ]
  },
  {
   "cell_type": "markdown",
   "metadata": {},
   "source": [
    "## B. Import Raw Data"
   ]
  },
  {
   "cell_type": "code",
   "execution_count": 48,
   "metadata": {},
   "outputs": [
    {
     "data": {
      "text/plain": [
       "{'raw_dataset_dir': 'data/raw/',\n",
       " 'raw_data_path': 'data/processed/raw_data.pkl',\n",
       " 'data_train_path': ['data/processed/X_train_clean.pkl',\n",
       "  'data/processed/y_train_clean.pkl'],\n",
       " 'data_test_path': ['data/processed/X_test_clean.pkl',\n",
       "  'data/processed/y_test_clean.pkl'],\n",
       " 'data_modeling_path': ['data/processed/train_data_modeling.pkl',\n",
       "  'data/processed/test_data_modeling.pkl'],\n",
       " 'ohe_train_path': 'models/ohe_train.pkl',\n",
       " 'standard_scaler_path': 'models/standard_scaler_train.pkl',\n",
       " 'modeling_summary': 'models/modeling_summary.pkl',\n",
       " 'production_model': 'models/production_model.pkl',\n",
       " 'api_columns': ['GR', 'ILD_log10', 'DeltaPHI', 'PHIND', 'PE', 'NM_M']}"
      ]
     },
     "execution_count": 48,
     "metadata": {},
     "output_type": "execute_result"
    }
   ],
   "source": [
    "config = util.load_config()\n",
    "config"
   ]
  },
  {
   "cell_type": "code",
   "execution_count": 49,
   "metadata": {},
   "outputs": [],
   "source": [
    "def populate_raw_data(directory:str) -> pd.DataFrame:\n",
    "    raw_data = pd.DataFrame()\n",
    "    for well_data in os.listdir(directory):\n",
    "        raw_data = pd.concat([raw_data,pd.read_csv(directory+well_data)],\n",
    "                             axis=0,\n",
    "                             ignore_index=True)\n",
    "    print(f\"raw data consist of {raw_data.shape[0]} row, and {raw_data.shape[1]} columns\")\n",
    "    return raw_data"
   ]
  },
  {
   "cell_type": "code",
   "execution_count": 50,
   "metadata": {},
   "outputs": [
    {
     "name": "stdout",
     "output_type": "stream",
     "text": [
      "raw data consist of 4149 row, and 11 columns\n"
     ]
    }
   ],
   "source": [
    "raw_data = populate_raw_data(directory=config[\"raw_dataset_dir\"])"
   ]
  },
  {
   "cell_type": "code",
   "execution_count": 51,
   "metadata": {},
   "outputs": [],
   "source": [
    "util.dump_pickle(raw_data,config[\"raw_data_path\"])"
   ]
  },
  {
   "cell_type": "code",
   "execution_count": 52,
   "metadata": {},
   "outputs": [
    {
     "data": {
      "text/html": [
       "<div>\n",
       "<style scoped>\n",
       "    .dataframe tbody tr th:only-of-type {\n",
       "        vertical-align: middle;\n",
       "    }\n",
       "\n",
       "    .dataframe tbody tr th {\n",
       "        vertical-align: top;\n",
       "    }\n",
       "\n",
       "    .dataframe thead th {\n",
       "        text-align: right;\n",
       "    }\n",
       "</style>\n",
       "<table border=\"1\" class=\"dataframe\">\n",
       "  <thead>\n",
       "    <tr style=\"text-align: right;\">\n",
       "      <th></th>\n",
       "      <th>Facies</th>\n",
       "      <th>Formation</th>\n",
       "      <th>Well Name</th>\n",
       "      <th>Depth</th>\n",
       "      <th>GR</th>\n",
       "      <th>ILD_log10</th>\n",
       "      <th>DeltaPHI</th>\n",
       "      <th>PHIND</th>\n",
       "      <th>PE</th>\n",
       "      <th>NM_M</th>\n",
       "      <th>RELPOS</th>\n",
       "    </tr>\n",
       "  </thead>\n",
       "  <tbody>\n",
       "    <tr>\n",
       "      <th>0</th>\n",
       "      <td>CSiS</td>\n",
       "      <td>A1 SH</td>\n",
       "      <td>NOLAN</td>\n",
       "      <td>2853.5</td>\n",
       "      <td>106.813</td>\n",
       "      <td>0.533</td>\n",
       "      <td>9.339</td>\n",
       "      <td>15.222</td>\n",
       "      <td>3.500</td>\n",
       "      <td>1</td>\n",
       "      <td>1.000</td>\n",
       "    </tr>\n",
       "    <tr>\n",
       "      <th>1</th>\n",
       "      <td>FSiS</td>\n",
       "      <td>A1 SH</td>\n",
       "      <td>NOLAN</td>\n",
       "      <td>2854.0</td>\n",
       "      <td>100.938</td>\n",
       "      <td>0.542</td>\n",
       "      <td>8.857</td>\n",
       "      <td>15.313</td>\n",
       "      <td>3.416</td>\n",
       "      <td>1</td>\n",
       "      <td>0.977</td>\n",
       "    </tr>\n",
       "    <tr>\n",
       "      <th>2</th>\n",
       "      <td>FSiS</td>\n",
       "      <td>A1 SH</td>\n",
       "      <td>NOLAN</td>\n",
       "      <td>2854.5</td>\n",
       "      <td>94.375</td>\n",
       "      <td>0.553</td>\n",
       "      <td>7.097</td>\n",
       "      <td>14.583</td>\n",
       "      <td>3.195</td>\n",
       "      <td>1</td>\n",
       "      <td>0.955</td>\n",
       "    </tr>\n",
       "    <tr>\n",
       "      <th>3</th>\n",
       "      <td>FSiS</td>\n",
       "      <td>A1 SH</td>\n",
       "      <td>NOLAN</td>\n",
       "      <td>2855.0</td>\n",
       "      <td>89.813</td>\n",
       "      <td>0.554</td>\n",
       "      <td>7.081</td>\n",
       "      <td>14.110</td>\n",
       "      <td>2.963</td>\n",
       "      <td>1</td>\n",
       "      <td>0.932</td>\n",
       "    </tr>\n",
       "    <tr>\n",
       "      <th>4</th>\n",
       "      <td>FSiS</td>\n",
       "      <td>A1 SH</td>\n",
       "      <td>NOLAN</td>\n",
       "      <td>2855.5</td>\n",
       "      <td>91.563</td>\n",
       "      <td>0.560</td>\n",
       "      <td>6.733</td>\n",
       "      <td>13.189</td>\n",
       "      <td>2.979</td>\n",
       "      <td>1</td>\n",
       "      <td>0.909</td>\n",
       "    </tr>\n",
       "  </tbody>\n",
       "</table>\n",
       "</div>"
      ],
      "text/plain": [
       "  Facies Formation Well Name   Depth       GR  ILD_log10  DeltaPHI   PHIND  \\\n",
       "0   CSiS     A1 SH     NOLAN  2853.5  106.813      0.533     9.339  15.222   \n",
       "1   FSiS     A1 SH     NOLAN  2854.0  100.938      0.542     8.857  15.313   \n",
       "2   FSiS     A1 SH     NOLAN  2854.5   94.375      0.553     7.097  14.583   \n",
       "3   FSiS     A1 SH     NOLAN  2855.0   89.813      0.554     7.081  14.110   \n",
       "4   FSiS     A1 SH     NOLAN  2855.5   91.563      0.560     6.733  13.189   \n",
       "\n",
       "      PE  NM_M  RELPOS  \n",
       "0  3.500     1   1.000  \n",
       "1  3.416     1   0.977  \n",
       "2  3.195     1   0.955  \n",
       "3  2.963     1   0.932  \n",
       "4  2.979     1   0.909  "
      ]
     },
     "execution_count": 52,
     "metadata": {},
     "output_type": "execute_result"
    }
   ],
   "source": [
    "raw_data.head(5)"
   ]
  },
  {
   "cell_type": "code",
   "execution_count": 53,
   "metadata": {},
   "outputs": [
    {
     "name": "stdout",
     "output_type": "stream",
     "text": [
      "<class 'pandas.core.frame.DataFrame'>\n",
      "RangeIndex: 4149 entries, 0 to 4148\n",
      "Data columns (total 11 columns):\n",
      " #   Column     Non-Null Count  Dtype  \n",
      "---  ------     --------------  -----  \n",
      " 0   Facies     4149 non-null   object \n",
      " 1   Formation  4149 non-null   object \n",
      " 2   Well Name  4149 non-null   object \n",
      " 3   Depth      4149 non-null   float64\n",
      " 4   GR         4149 non-null   float64\n",
      " 5   ILD_log10  4149 non-null   float64\n",
      " 6   DeltaPHI   4149 non-null   float64\n",
      " 7   PHIND      4149 non-null   float64\n",
      " 8   PE         3232 non-null   float64\n",
      " 9   NM_M       4149 non-null   int64  \n",
      " 10  RELPOS     4149 non-null   float64\n",
      "dtypes: float64(7), int64(1), object(3)\n",
      "memory usage: 356.7+ KB\n"
     ]
    }
   ],
   "source": [
    "raw_data.info()"
   ]
  },
  {
   "cell_type": "code",
   "execution_count": 54,
   "metadata": {},
   "outputs": [
    {
     "data": {
      "text/html": [
       "<div>\n",
       "<style scoped>\n",
       "    .dataframe tbody tr th:only-of-type {\n",
       "        vertical-align: middle;\n",
       "    }\n",
       "\n",
       "    .dataframe tbody tr th {\n",
       "        vertical-align: top;\n",
       "    }\n",
       "\n",
       "    .dataframe thead th {\n",
       "        text-align: right;\n",
       "    }\n",
       "</style>\n",
       "<table border=\"1\" class=\"dataframe\">\n",
       "  <thead>\n",
       "    <tr style=\"text-align: right;\">\n",
       "      <th></th>\n",
       "      <th>Depth</th>\n",
       "      <th>GR</th>\n",
       "      <th>ILD_log10</th>\n",
       "      <th>DeltaPHI</th>\n",
       "      <th>PHIND</th>\n",
       "      <th>PE</th>\n",
       "      <th>NM_M</th>\n",
       "      <th>RELPOS</th>\n",
       "    </tr>\n",
       "  </thead>\n",
       "  <tbody>\n",
       "    <tr>\n",
       "      <th>count</th>\n",
       "      <td>4149.000000</td>\n",
       "      <td>4149.000000</td>\n",
       "      <td>4149.000000</td>\n",
       "      <td>4149.000000</td>\n",
       "      <td>4149.000000</td>\n",
       "      <td>3232.000000</td>\n",
       "      <td>4149.000000</td>\n",
       "      <td>4149.000000</td>\n",
       "    </tr>\n",
       "    <tr>\n",
       "      <th>mean</th>\n",
       "      <td>2906.867438</td>\n",
       "      <td>64.933985</td>\n",
       "      <td>0.659566</td>\n",
       "      <td>4.402484</td>\n",
       "      <td>13.201066</td>\n",
       "      <td>3.725014</td>\n",
       "      <td>1.518438</td>\n",
       "      <td>0.521852</td>\n",
       "    </tr>\n",
       "    <tr>\n",
       "      <th>std</th>\n",
       "      <td>133.300164</td>\n",
       "      <td>30.302530</td>\n",
       "      <td>0.252703</td>\n",
       "      <td>5.274947</td>\n",
       "      <td>7.132846</td>\n",
       "      <td>0.896152</td>\n",
       "      <td>0.499720</td>\n",
       "      <td>0.286644</td>\n",
       "    </tr>\n",
       "    <tr>\n",
       "      <th>min</th>\n",
       "      <td>2573.500000</td>\n",
       "      <td>10.149000</td>\n",
       "      <td>-0.025949</td>\n",
       "      <td>-21.832000</td>\n",
       "      <td>0.550000</td>\n",
       "      <td>0.200000</td>\n",
       "      <td>1.000000</td>\n",
       "      <td>0.000000</td>\n",
       "    </tr>\n",
       "    <tr>\n",
       "      <th>25%</th>\n",
       "      <td>2821.500000</td>\n",
       "      <td>44.730000</td>\n",
       "      <td>0.498000</td>\n",
       "      <td>1.600000</td>\n",
       "      <td>8.500000</td>\n",
       "      <td>3.100000</td>\n",
       "      <td>1.000000</td>\n",
       "      <td>0.277000</td>\n",
       "    </tr>\n",
       "    <tr>\n",
       "      <th>50%</th>\n",
       "      <td>2932.500000</td>\n",
       "      <td>64.990000</td>\n",
       "      <td>0.639000</td>\n",
       "      <td>4.300000</td>\n",
       "      <td>12.020000</td>\n",
       "      <td>3.551500</td>\n",
       "      <td>2.000000</td>\n",
       "      <td>0.528000</td>\n",
       "    </tr>\n",
       "    <tr>\n",
       "      <th>75%</th>\n",
       "      <td>3007.000000</td>\n",
       "      <td>79.438000</td>\n",
       "      <td>0.822000</td>\n",
       "      <td>7.500000</td>\n",
       "      <td>16.050000</td>\n",
       "      <td>4.300000</td>\n",
       "      <td>2.000000</td>\n",
       "      <td>0.769000</td>\n",
       "    </tr>\n",
       "    <tr>\n",
       "      <th>max</th>\n",
       "      <td>3138.000000</td>\n",
       "      <td>361.150000</td>\n",
       "      <td>1.800000</td>\n",
       "      <td>19.312000</td>\n",
       "      <td>84.400000</td>\n",
       "      <td>8.094000</td>\n",
       "      <td>2.000000</td>\n",
       "      <td>1.000000</td>\n",
       "    </tr>\n",
       "  </tbody>\n",
       "</table>\n",
       "</div>"
      ],
      "text/plain": [
       "             Depth           GR    ILD_log10     DeltaPHI        PHIND  \\\n",
       "count  4149.000000  4149.000000  4149.000000  4149.000000  4149.000000   \n",
       "mean   2906.867438    64.933985     0.659566     4.402484    13.201066   \n",
       "std     133.300164    30.302530     0.252703     5.274947     7.132846   \n",
       "min    2573.500000    10.149000    -0.025949   -21.832000     0.550000   \n",
       "25%    2821.500000    44.730000     0.498000     1.600000     8.500000   \n",
       "50%    2932.500000    64.990000     0.639000     4.300000    12.020000   \n",
       "75%    3007.000000    79.438000     0.822000     7.500000    16.050000   \n",
       "max    3138.000000   361.150000     1.800000    19.312000    84.400000   \n",
       "\n",
       "                PE         NM_M       RELPOS  \n",
       "count  3232.000000  4149.000000  4149.000000  \n",
       "mean      3.725014     1.518438     0.521852  \n",
       "std       0.896152     0.499720     0.286644  \n",
       "min       0.200000     1.000000     0.000000  \n",
       "25%       3.100000     1.000000     0.277000  \n",
       "50%       3.551500     2.000000     0.528000  \n",
       "75%       4.300000     2.000000     0.769000  \n",
       "max       8.094000     2.000000     1.000000  "
      ]
     },
     "execution_count": 54,
     "metadata": {},
     "output_type": "execute_result"
    }
   ],
   "source": [
    "raw_data.describe()"
   ]
  },
  {
   "cell_type": "code",
   "execution_count": 55,
   "metadata": {},
   "outputs": [
    {
     "data": {
      "text/plain": [
       "Facies         0\n",
       "Formation      0\n",
       "Well Name      0\n",
       "Depth          0\n",
       "GR             0\n",
       "ILD_log10      0\n",
       "DeltaPHI       0\n",
       "PHIND          0\n",
       "PE           917\n",
       "NM_M           0\n",
       "RELPOS         0\n",
       "dtype: int64"
      ]
     },
     "execution_count": 55,
     "metadata": {},
     "output_type": "execute_result"
    }
   ],
   "source": [
    "raw_data.isnull().sum()"
   ]
  },
  {
   "cell_type": "markdown",
   "metadata": {},
   "source": [
    "We found that there are missing data in **PE** column, hence this raw data need data cleaning first"
   ]
  },
  {
   "cell_type": "markdown",
   "metadata": {},
   "source": [
    "## C. Data Overview"
   ]
  },
  {
   "cell_type": "markdown",
   "metadata": {},
   "source": [
    "There are seven predictor variable for the facies label : \n",
    "\n",
    "Features | Explanation | Value | Measurement Type\n",
    ":---: | :--: | :--: | :--: \n",
    "GR | Gamma Ray | 10.14 - 361.15 | Wireline Measurement \n",
    "ILD_log10 | Resistivity Logging | -0.03 - 1.8 | Wireline Measurement \n",
    "PE | Photoelectric Effect | 0.2 - 8.09 | Wireline Measurement\n",
    "DeltaPHI | Neutron-Density Porosity Difference | -21.83 - 19.31 | Wireline Measurement \n",
    "PHIND | Average Neutron-Density Porosity | 0.55 - 84.4 | Wireline Measurement\n",
    "NM_M | Non-Marine Marine Indicator | 1 or 2 |  Geologic Constraining Variables \n",
    "RELPOS | Relative Position | 0 - 1 | Geologic Constraining Variables\n",
    "\n",
    "And there are nine different facies labels :\n",
    "\n",
    "Facies| Adjacent Facies | Classes of Rocks \n",
    ":---: |:--: |:--:\n",
    "SS| CSiS | Sandstone\n",
    "CSiS| SS,FSiS | Coarse Siltstone\n",
    "FSiS| CSiS | Fine Siltstone\n",
    "SiSh| MS | Marine Siltstone and Shale\n",
    "MS| SiSh,WS | Mudstone (limestone)\n",
    "WS| MS,D | Wackestone (limestone)\n",
    "D| WS,PS | Dolomite\n",
    "PS| WS,D,BS | Packstone-grainstone (limestone)\n",
    "BS| D, PS | Phylloid-algal bafflestone (limestone)"
   ]
  },
  {
   "cell_type": "code",
   "execution_count": 56,
   "metadata": {},
   "outputs": [
    {
     "data": {
      "text/plain": [
       "<AxesSubplot:xlabel='count', ylabel='Well Name'>"
      ]
     },
     "execution_count": 56,
     "metadata": {},
     "output_type": "execute_result"
    },
    {
     "data": {
      "image/png": "[encoded data removed]",
      "text/plain": [
       "<Figure size 432x288 with 1 Axes>"
      ]
     },
     "metadata": {
      "needs_background": "light"
     },
     "output_type": "display_data"
    }
   ],
   "source": [
    "sns.countplot(data=raw_data, y=\"Well Name\", order=raw_data[\"Well Name\"].value_counts().index)"
   ]
  },
  {
   "cell_type": "markdown",
   "metadata": {},
   "source": [
    "We have data from 10 well measurement : **NOLAN, LUKE G U, CROSS H CATTLE, KIMZEY A, SHRIMPLIN, NEWBY, Recruit F9, SHANKLE, CHURCHMAN BIBLE, and ALEXANDER D**. Value counts shows us that for every well the amount is simillar except Recruit F9 well which just has 80 raw data."
   ]
  },
  {
   "cell_type": "code",
   "execution_count": 57,
   "metadata": {},
   "outputs": [
    {
     "data": {
      "text/plain": [
       "CSiS    0.226561\n",
       "FSiS    0.187997\n",
       "PS      0.165341\n",
       "WS      0.140275\n",
       "MS      0.071342\n",
       "SiSh    0.065317\n",
       "SS      0.064594\n",
       "BS      0.044589\n",
       "D       0.033984\n",
       "Name: Facies, dtype: float64"
      ]
     },
     "execution_count": 57,
     "metadata": {},
     "output_type": "execute_result"
    }
   ],
   "source": [
    "raw_data[\"Facies\"].value_counts(normalize=True)"
   ]
  },
  {
   "cell_type": "markdown",
   "metadata": {},
   "source": [
    "Value counts also show us that this raw data has **imbalance category** for facies."
   ]
  },
  {
   "cell_type": "markdown",
   "metadata": {},
   "source": [
    "## D. Split Train and Test Data"
   ]
  },
  {
   "cell_type": "code",
   "execution_count": 58,
   "metadata": {},
   "outputs": [],
   "source": [
    "def split_train_test_data(raw_data:pd.DataFrame, output:'str'='Facies') -> pd.DataFrame:\n",
    "    X=raw_data.drop(columns=output, axis=1)\n",
    "    y=raw_data[output]\n",
    "    X_train, X_test, y_train, y_test = train_test_split(X,y,test_size=0.2, random_state=123, stratify=y)\n",
    "    print(f\"Train data consist of X_train : {X_train.shape[0]} row and y_train : {y_train.shape[0]} row\")\n",
    "    print(f\"Test data consist of X_test : {X_test.shape[0]} row and y_test : {y_test.shape[0]} row\")\n",
    "\n",
    "    return X_train, y_train, X_test, y_test"
   ]
  },
  {
   "cell_type": "code",
   "execution_count": 59,
   "metadata": {},
   "outputs": [
    {
     "name": "stdout",
     "output_type": "stream",
     "text": [
      "Train data consist of X_train : 3319 row and y_train : 3319 row\n",
      "Test data consist of X_test : 830 row and y_test : 830 row\n"
     ]
    }
   ],
   "source": [
    "X_train_unclean, y_train_unclean, X_test_unclean, y_test_unclean = split_train_test_data(raw_data = raw_data, output='Facies')\n"
   ]
  },
  {
   "cell_type": "code",
   "execution_count": 60,
   "metadata": {},
   "outputs": [
    {
     "data": {
      "text/plain": [
       "Formation      0\n",
       "Well Name      0\n",
       "Depth          0\n",
       "GR             0\n",
       "ILD_log10      0\n",
       "DeltaPHI       0\n",
       "PHIND          0\n",
       "PE           750\n",
       "NM_M           0\n",
       "RELPOS         0\n",
       "dtype: int64"
      ]
     },
     "execution_count": 60,
     "metadata": {},
     "output_type": "execute_result"
    }
   ],
   "source": [
    "X_train_unclean.isnull().sum()"
   ]
  },
  {
   "cell_type": "code",
   "execution_count": 61,
   "metadata": {},
   "outputs": [
    {
     "data": {
      "text/plain": [
       "0"
      ]
     },
     "execution_count": 61,
     "metadata": {},
     "output_type": "execute_result"
    }
   ],
   "source": [
    "y_train_unclean.isnull().sum()"
   ]
  },
  {
   "cell_type": "code",
   "execution_count": 62,
   "metadata": {},
   "outputs": [
    {
     "data": {
      "text/plain": [
       "Formation      0\n",
       "Well Name      0\n",
       "Depth          0\n",
       "GR             0\n",
       "ILD_log10      0\n",
       "DeltaPHI       0\n",
       "PHIND          0\n",
       "PE           167\n",
       "NM_M           0\n",
       "RELPOS         0\n",
       "dtype: int64"
      ]
     },
     "execution_count": 62,
     "metadata": {},
     "output_type": "execute_result"
    }
   ],
   "source": [
    "X_test_unclean.isnull().sum()"
   ]
  },
  {
   "cell_type": "code",
   "execution_count": 63,
   "metadata": {},
   "outputs": [
    {
     "data": {
      "text/plain": [
       "0"
      ]
     },
     "execution_count": 63,
     "metadata": {},
     "output_type": "execute_result"
    }
   ],
   "source": [
    "y_test_unclean.isnull().sum()"
   ]
  },
  {
   "cell_type": "code",
   "execution_count": 64,
   "metadata": {},
   "outputs": [
    {
     "data": {
      "text/plain": [
       "CSiS    0.226574\n",
       "FSiS    0.188008\n",
       "PS      0.165411\n",
       "WS      0.140102\n",
       "MS      0.071407\n",
       "SiSh    0.065381\n",
       "SS      0.064477\n",
       "BS      0.044592\n",
       "D       0.034046\n",
       "Name: Facies, dtype: float64"
      ]
     },
     "execution_count": 64,
     "metadata": {},
     "output_type": "execute_result"
    }
   ],
   "source": [
    "y_train_unclean.value_counts(normalize=True)"
   ]
  },
  {
   "cell_type": "code",
   "execution_count": 65,
   "metadata": {},
   "outputs": [
    {
     "data": {
      "text/plain": [
       "CSiS    0.226506\n",
       "FSiS    0.187952\n",
       "PS      0.165060\n",
       "WS      0.140964\n",
       "MS      0.071084\n",
       "SS      0.065060\n",
       "SiSh    0.065060\n",
       "BS      0.044578\n",
       "D       0.033735\n",
       "Name: Facies, dtype: float64"
      ]
     },
     "execution_count": 65,
     "metadata": {},
     "output_type": "execute_result"
    }
   ],
   "source": [
    "y_test_unclean.value_counts(normalize=True)"
   ]
  },
  {
   "cell_type": "markdown",
   "metadata": {},
   "source": [
    "After splitting train and test data, we have null value for **Photo-Electric** measurement in both train data and test data, hence we need to handle this null value."
   ]
  },
  {
   "cell_type": "markdown",
   "metadata": {},
   "source": [
    "## E. Impute Data"
   ]
  },
  {
   "cell_type": "code",
   "execution_count": 66,
   "metadata": {},
   "outputs": [],
   "source": [
    "def impute_PE_data_train(X_data:pd.DataFrame, y_data:pd.DataFrame) -> pd.DataFrame:\n",
    "    if X_data[\"PE\"].isnull().sum() == 0:\n",
    "        pass\n",
    "    else :\n",
    "        data = pd.concat([X_data, y_data], axis=1)\n",
    "        PE_mean_data = data.loc[~(data[\"PE\"].isnull()),[\"Facies\",\"PE\"]].groupby(\"Facies\").agg('mean')\n",
    "        PE_nan_data = data.loc[data[\"PE\"].isnull(),[\"Facies\",\"PE\"]]\n",
    "        facies_labels = data[\"Facies\"].unique().tolist()\n",
    "        for facies in facies_labels:\n",
    "            index_PE_nan_by_categories = PE_nan_data[PE_nan_data['Facies']==facies].index.to_list()    \n",
    "            data.loc[index_PE_nan_by_categories,'PE'] = PE_mean_data.loc[facies].values[0]\n",
    "        X_data = data.drop(columns='Facies', axis=1)\n",
    "        y_data = data['Facies']\n",
    "    return X_data, y_data"
   ]
  },
  {
   "cell_type": "code",
   "execution_count": 67,
   "metadata": {},
   "outputs": [],
   "source": [
    "X_train_clean, y_train_clean = impute_PE_data_train(X_data=X_train_unclean, y_data=y_train_unclean)"
   ]
  },
  {
   "cell_type": "code",
   "execution_count": 68,
   "metadata": {},
   "outputs": [
    {
     "data": {
      "text/html": [
       "<div>\n",
       "<style scoped>\n",
       "    .dataframe tbody tr th:only-of-type {\n",
       "        vertical-align: middle;\n",
       "    }\n",
       "\n",
       "    .dataframe tbody tr th {\n",
       "        vertical-align: top;\n",
       "    }\n",
       "\n",
       "    .dataframe thead th {\n",
       "        text-align: right;\n",
       "    }\n",
       "</style>\n",
       "<table border=\"1\" class=\"dataframe\">\n",
       "  <thead>\n",
       "    <tr style=\"text-align: right;\">\n",
       "      <th></th>\n",
       "      <th>PE</th>\n",
       "    </tr>\n",
       "    <tr>\n",
       "      <th>Facies</th>\n",
       "      <th></th>\n",
       "    </tr>\n",
       "  </thead>\n",
       "  <tbody>\n",
       "    <tr>\n",
       "      <th>BS</th>\n",
       "      <td>5.289046</td>\n",
       "    </tr>\n",
       "    <tr>\n",
       "      <th>CSiS</th>\n",
       "      <td>3.204093</td>\n",
       "    </tr>\n",
       "    <tr>\n",
       "      <th>D</th>\n",
       "      <td>3.722568</td>\n",
       "    </tr>\n",
       "    <tr>\n",
       "      <th>FSiS</th>\n",
       "      <td>3.130259</td>\n",
       "    </tr>\n",
       "    <tr>\n",
       "      <th>MS</th>\n",
       "      <td>3.961130</td>\n",
       "    </tr>\n",
       "    <tr>\n",
       "      <th>PS</th>\n",
       "      <td>4.517453</td>\n",
       "    </tr>\n",
       "    <tr>\n",
       "      <th>SS</th>\n",
       "      <td>2.918517</td>\n",
       "    </tr>\n",
       "    <tr>\n",
       "      <th>SiSh</th>\n",
       "      <td>3.805842</td>\n",
       "    </tr>\n",
       "    <tr>\n",
       "      <th>WS</th>\n",
       "      <td>4.234412</td>\n",
       "    </tr>\n",
       "  </tbody>\n",
       "</table>\n",
       "</div>"
      ],
      "text/plain": [
       "              PE\n",
       "Facies          \n",
       "BS      5.289046\n",
       "CSiS    3.204093\n",
       "D       3.722568\n",
       "FSiS    3.130259\n",
       "MS      3.961130\n",
       "PS      4.517453\n",
       "SS      2.918517\n",
       "SiSh    3.805842\n",
       "WS      4.234412"
      ]
     },
     "execution_count": 68,
     "metadata": {},
     "output_type": "execute_result"
    }
   ],
   "source": [
    "data = pd.concat([X_train_unclean, y_train_unclean], axis=1)\n",
    "PE_mean_data = data.loc[~(data[\"PE\"].isnull()),[\"Facies\",\"PE\"]].groupby(\"Facies\").agg('mean')\n",
    "PE_mean_data"
   ]
  },
  {
   "cell_type": "code",
   "execution_count": 69,
   "metadata": {},
   "outputs": [
    {
     "data": {
      "text/html": [
       "<div>\n",
       "<style scoped>\n",
       "    .dataframe tbody tr th:only-of-type {\n",
       "        vertical-align: middle;\n",
       "    }\n",
       "\n",
       "    .dataframe tbody tr th {\n",
       "        vertical-align: top;\n",
       "    }\n",
       "\n",
       "    .dataframe thead th {\n",
       "        text-align: right;\n",
       "    }\n",
       "</style>\n",
       "<table border=\"1\" class=\"dataframe\">\n",
       "  <thead>\n",
       "    <tr style=\"text-align: right;\">\n",
       "      <th></th>\n",
       "      <th>PE</th>\n",
       "    </tr>\n",
       "    <tr>\n",
       "      <th>Facies</th>\n",
       "      <th></th>\n",
       "    </tr>\n",
       "  </thead>\n",
       "  <tbody>\n",
       "    <tr>\n",
       "      <th>BS</th>\n",
       "      <td>5.289046</td>\n",
       "    </tr>\n",
       "    <tr>\n",
       "      <th>CSiS</th>\n",
       "      <td>3.204093</td>\n",
       "    </tr>\n",
       "    <tr>\n",
       "      <th>D</th>\n",
       "      <td>3.722568</td>\n",
       "    </tr>\n",
       "    <tr>\n",
       "      <th>FSiS</th>\n",
       "      <td>3.130259</td>\n",
       "    </tr>\n",
       "    <tr>\n",
       "      <th>MS</th>\n",
       "      <td>3.961130</td>\n",
       "    </tr>\n",
       "    <tr>\n",
       "      <th>PS</th>\n",
       "      <td>4.517453</td>\n",
       "    </tr>\n",
       "    <tr>\n",
       "      <th>SS</th>\n",
       "      <td>2.918517</td>\n",
       "    </tr>\n",
       "    <tr>\n",
       "      <th>SiSh</th>\n",
       "      <td>3.805842</td>\n",
       "    </tr>\n",
       "    <tr>\n",
       "      <th>WS</th>\n",
       "      <td>4.234412</td>\n",
       "    </tr>\n",
       "  </tbody>\n",
       "</table>\n",
       "</div>"
      ],
      "text/plain": [
       "              PE\n",
       "Facies          \n",
       "BS      5.289046\n",
       "CSiS    3.204093\n",
       "D       3.722568\n",
       "FSiS    3.130259\n",
       "MS      3.961130\n",
       "PS      4.517453\n",
       "SS      2.918517\n",
       "SiSh    3.805842\n",
       "WS      4.234412"
      ]
     },
     "execution_count": 69,
     "metadata": {},
     "output_type": "execute_result"
    }
   ],
   "source": [
    "data = pd.concat([X_train_clean, y_train_clean], axis=1)\n",
    "PE_mean_data = data.loc[~(data[\"PE\"].isnull()),[\"Facies\",\"PE\"]].groupby(\"Facies\").agg('mean')\n",
    "PE_mean_data"
   ]
  },
  {
   "cell_type": "code",
   "execution_count": 70,
   "metadata": {},
   "outputs": [
    {
     "data": {
      "text/plain": [
       "Formation    0\n",
       "Well Name    0\n",
       "Depth        0\n",
       "GR           0\n",
       "ILD_log10    0\n",
       "DeltaPHI     0\n",
       "PHIND        0\n",
       "PE           0\n",
       "NM_M         0\n",
       "RELPOS       0\n",
       "dtype: int64"
      ]
     },
     "execution_count": 70,
     "metadata": {},
     "output_type": "execute_result"
    }
   ],
   "source": [
    "X_train_clean.isnull().sum()"
   ]
  },
  {
   "cell_type": "code",
   "execution_count": 71,
   "metadata": {},
   "outputs": [
    {
     "data": {
      "text/plain": [
       "0"
      ]
     },
     "execution_count": 71,
     "metadata": {},
     "output_type": "execute_result"
    }
   ],
   "source": [
    "y_train_clean.isnull().sum()"
   ]
  },
  {
   "cell_type": "code",
   "execution_count": 72,
   "metadata": {},
   "outputs": [],
   "source": [
    "def impute_PE_data_test(X_data:pd.DataFrame, y_data:pd.DataFrame, X_imputer:pd.DataFrame, y_imputer:pd.DataFrame) -> pd.DataFrame:\n",
    "    if X_data[\"PE\"].isnull().sum() == 0:\n",
    "        pass\n",
    "    else :\n",
    "        data = pd.concat([X_data, y_data], axis=1)\n",
    "        imputer_data = pd.concat([X_imputer, y_imputer], axis=1)\n",
    "        PE_mean_data = imputer_data.loc[~(imputer_data[\"PE\"].isnull()),[\"Facies\",\"PE\"]].groupby(\"Facies\").agg('mean')\n",
    "        PE_nan_data = data.loc[data[\"PE\"].isnull(),[\"Facies\",\"PE\"]]\n",
    "        facies_labels = data[\"Facies\"].unique().tolist()\n",
    "        for facies in facies_labels:\n",
    "            index_PE_nan_by_categories = PE_nan_data[PE_nan_data['Facies']==facies].index.to_list()    \n",
    "            data.loc[index_PE_nan_by_categories,'PE'] = PE_mean_data.loc[facies].values[0]\n",
    "        X_data = data.drop(columns='Facies', axis=1)\n",
    "        y_data = data['Facies']\n",
    "    return X_data, y_data"
   ]
  },
  {
   "cell_type": "code",
   "execution_count": 73,
   "metadata": {},
   "outputs": [],
   "source": [
    "X_test_clean, y_test_clean = impute_PE_data_test(X_data=X_test_unclean, y_data=y_test_unclean,\n",
    "                                                 X_imputer=X_train_unclean, y_imputer=y_train_unclean)"
   ]
  },
  {
   "cell_type": "code",
   "execution_count": 74,
   "metadata": {},
   "outputs": [
    {
     "data": {
      "text/html": [
       "<div>\n",
       "<style scoped>\n",
       "    .dataframe tbody tr th:only-of-type {\n",
       "        vertical-align: middle;\n",
       "    }\n",
       "\n",
       "    .dataframe tbody tr th {\n",
       "        vertical-align: top;\n",
       "    }\n",
       "\n",
       "    .dataframe thead th {\n",
       "        text-align: right;\n",
       "    }\n",
       "</style>\n",
       "<table border=\"1\" class=\"dataframe\">\n",
       "  <thead>\n",
       "    <tr style=\"text-align: right;\">\n",
       "      <th></th>\n",
       "      <th>PE</th>\n",
       "    </tr>\n",
       "    <tr>\n",
       "      <th>Facies</th>\n",
       "      <th></th>\n",
       "    </tr>\n",
       "  </thead>\n",
       "  <tbody>\n",
       "    <tr>\n",
       "      <th>BS</th>\n",
       "      <td>5.324774</td>\n",
       "    </tr>\n",
       "    <tr>\n",
       "      <th>CSiS</th>\n",
       "      <td>3.259811</td>\n",
       "    </tr>\n",
       "    <tr>\n",
       "      <th>D</th>\n",
       "      <td>3.513167</td>\n",
       "    </tr>\n",
       "    <tr>\n",
       "      <th>FSiS</th>\n",
       "      <td>3.140258</td>\n",
       "    </tr>\n",
       "    <tr>\n",
       "      <th>MS</th>\n",
       "      <td>4.115083</td>\n",
       "    </tr>\n",
       "    <tr>\n",
       "      <th>PS</th>\n",
       "      <td>4.523143</td>\n",
       "    </tr>\n",
       "    <tr>\n",
       "      <th>SS</th>\n",
       "      <td>2.891560</td>\n",
       "    </tr>\n",
       "    <tr>\n",
       "      <th>SiSh</th>\n",
       "      <td>3.787974</td>\n",
       "    </tr>\n",
       "    <tr>\n",
       "      <th>WS</th>\n",
       "      <td>4.233011</td>\n",
       "    </tr>\n",
       "  </tbody>\n",
       "</table>\n",
       "</div>"
      ],
      "text/plain": [
       "              PE\n",
       "Facies          \n",
       "BS      5.324774\n",
       "CSiS    3.259811\n",
       "D       3.513167\n",
       "FSiS    3.140258\n",
       "MS      4.115083\n",
       "PS      4.523143\n",
       "SS      2.891560\n",
       "SiSh    3.787974\n",
       "WS      4.233011"
      ]
     },
     "execution_count": 74,
     "metadata": {},
     "output_type": "execute_result"
    }
   ],
   "source": [
    "data = pd.concat([X_test_unclean, y_test_unclean], axis=1)\n",
    "PE_mean_data = data.loc[~(data[\"PE\"].isnull()),[\"Facies\",\"PE\"]].groupby(\"Facies\").agg('mean')\n",
    "PE_mean_data"
   ]
  },
  {
   "cell_type": "code",
   "execution_count": 75,
   "metadata": {},
   "outputs": [
    {
     "data": {
      "text/html": [
       "<div>\n",
       "<style scoped>\n",
       "    .dataframe tbody tr th:only-of-type {\n",
       "        vertical-align: middle;\n",
       "    }\n",
       "\n",
       "    .dataframe tbody tr th {\n",
       "        vertical-align: top;\n",
       "    }\n",
       "\n",
       "    .dataframe thead th {\n",
       "        text-align: right;\n",
       "    }\n",
       "</style>\n",
       "<table border=\"1\" class=\"dataframe\">\n",
       "  <thead>\n",
       "    <tr style=\"text-align: right;\">\n",
       "      <th></th>\n",
       "      <th>PE</th>\n",
       "    </tr>\n",
       "    <tr>\n",
       "      <th>Facies</th>\n",
       "      <th></th>\n",
       "    </tr>\n",
       "  </thead>\n",
       "  <tbody>\n",
       "    <tr>\n",
       "      <th>BS</th>\n",
       "      <td>5.318980</td>\n",
       "    </tr>\n",
       "    <tr>\n",
       "      <th>CSiS</th>\n",
       "      <td>3.247956</td>\n",
       "    </tr>\n",
       "    <tr>\n",
       "      <th>D</th>\n",
       "      <td>3.543081</td>\n",
       "    </tr>\n",
       "    <tr>\n",
       "      <th>FSiS</th>\n",
       "      <td>3.138463</td>\n",
       "    </tr>\n",
       "    <tr>\n",
       "      <th>MS</th>\n",
       "      <td>4.086380</td>\n",
       "    </tr>\n",
       "    <tr>\n",
       "      <th>PS</th>\n",
       "      <td>4.521814</td>\n",
       "    </tr>\n",
       "    <tr>\n",
       "      <th>SS</th>\n",
       "      <td>2.893557</td>\n",
       "    </tr>\n",
       "    <tr>\n",
       "      <th>SiSh</th>\n",
       "      <td>3.793268</td>\n",
       "    </tr>\n",
       "    <tr>\n",
       "      <th>WS</th>\n",
       "      <td>4.233322</td>\n",
       "    </tr>\n",
       "  </tbody>\n",
       "</table>\n",
       "</div>"
      ],
      "text/plain": [
       "              PE\n",
       "Facies          \n",
       "BS      5.318980\n",
       "CSiS    3.247956\n",
       "D       3.543081\n",
       "FSiS    3.138463\n",
       "MS      4.086380\n",
       "PS      4.521814\n",
       "SS      2.893557\n",
       "SiSh    3.793268\n",
       "WS      4.233322"
      ]
     },
     "execution_count": 75,
     "metadata": {},
     "output_type": "execute_result"
    }
   ],
   "source": [
    "data = pd.concat([X_test_clean, y_test_clean], axis=1)\n",
    "PE_mean_data = data.loc[~(data[\"PE\"].isnull()),[\"Facies\",\"PE\"]].groupby(\"Facies\").agg('mean')\n",
    "PE_mean_data"
   ]
  },
  {
   "cell_type": "code",
   "execution_count": 76,
   "metadata": {},
   "outputs": [
    {
     "data": {
      "text/plain": [
       "Formation    0\n",
       "Well Name    0\n",
       "Depth        0\n",
       "GR           0\n",
       "ILD_log10    0\n",
       "DeltaPHI     0\n",
       "PHIND        0\n",
       "PE           0\n",
       "NM_M         0\n",
       "RELPOS       0\n",
       "dtype: int64"
      ]
     },
     "execution_count": 76,
     "metadata": {},
     "output_type": "execute_result"
    }
   ],
   "source": [
    "X_test_clean.isnull().sum()"
   ]
  },
  {
   "cell_type": "code",
   "execution_count": 77,
   "metadata": {},
   "outputs": [
    {
     "data": {
      "text/plain": [
       "0"
      ]
     },
     "execution_count": 77,
     "metadata": {},
     "output_type": "execute_result"
    }
   ],
   "source": [
    "y_test_clean.isnull().sum()"
   ]
  },
  {
   "cell_type": "markdown",
   "metadata": {},
   "source": [
    "## F. Check Data Type"
   ]
  },
  {
   "cell_type": "code",
   "execution_count": 78,
   "metadata": {},
   "outputs": [],
   "source": [
    "def check_data_type(input_data:pd.DataFrame, output_data:pd.DataFrame) -> pd.DataFrame :\n",
    "    output_data = output_data.astype('str')\n",
    "    input_data[['Formation','Well Name']] = input_data[['Formation','Well Name']].astype('str')\n",
    "    input_data[['GR','ILD_log10','DeltaPHI','PHIND','PE','RELPOS']] = input_data[['GR','ILD_log10','DeltaPHI','PHIND','PE','RELPOS']].astype('float64')\n",
    "    input_data['NM_M'] = input_data['NM_M'].astype('int64')\n",
    "    \n",
    "    return input_data, output_data"
   ]
  },
  {
   "cell_type": "code",
   "execution_count": 79,
   "metadata": {},
   "outputs": [],
   "source": [
    "X_train_clean, y_train_clean = check_data_type(input_data=X_train_clean,\n",
    "                                               output_data=y_train_clean)"
   ]
  },
  {
   "cell_type": "code",
   "execution_count": 80,
   "metadata": {},
   "outputs": [],
   "source": [
    "X_test_clean, y_test_clean = check_data_type(input_data=X_test_clean,\n",
    "                                               output_data=y_test_clean)"
   ]
  },
  {
   "cell_type": "markdown",
   "metadata": {},
   "source": [
    "## G. Check Data Range"
   ]
  },
  {
   "cell_type": "code",
   "execution_count": 81,
   "metadata": {},
   "outputs": [],
   "source": [
    "def check_data_range(input_data:pd.DataFrame, output_data:pd.DataFrame) -> pd.DataFrame :\n",
    "    # value check range\n",
    "    gr_range = [10.1, 361.2]\n",
    "    ild_range = [-0.03, 1.81]\n",
    "    deltaphi_range = [-22, 19.4]\n",
    "    phind_range = [0.54, 84.5]\n",
    "    pe_range = [0.19, 8.11]\n",
    "    nm_m_range = set([1,2])\n",
    "    facies_range = set(['CSiS', 'FSiS', 'MS', 'PS', 'WS', 'SiSh', 'D', 'SS', 'BS'])\n",
    "    \n",
    "    assert (input_data['GR'] >= gr_range[0]).all() and (input_data['GR'] <= gr_range[1]).all(), \"GR data out of range\"\n",
    "    assert (input_data['ILD_log10'] >= ild_range[0]).all() and (input_data['ILD_log10'] <= ild_range[1]).all(), \"ILD_log10 data out of range\"\n",
    "    assert (input_data['DeltaPHI'] >= deltaphi_range[0]).all() and (input_data['DeltaPHI'] <= deltaphi_range[1]).all(), \"DeltaPHI data out of range\"\n",
    "    assert (input_data['PHIND'] >= phind_range[0]).all() and (input_data['PHIND'] <= phind_range[1]).all(), \"PHIND data out of range\"\n",
    "    assert (input_data['PE'] >= pe_range[0]).all() and (input_data['PE'] <= pe_range[1]).all(), \"PE data out of range\"\n",
    "    assert set(input_data['NM_M'].unique().tolist()).issubset(nm_m_range), \"NM_M data Out of Category\"\n",
    "    assert set(output_data.unique().tolist()).issubset(facies_range), \"Facies data Out Of Category\"\n",
    "    \n",
    "    print(\"=== All data Checked and Verified ===\")"
   ]
  },
  {
   "cell_type": "code",
   "execution_count": 82,
   "metadata": {},
   "outputs": [
    {
     "name": "stdout",
     "output_type": "stream",
     "text": [
      "=== All data Checked and Verified ===\n"
     ]
    }
   ],
   "source": [
    "check_data_range(input_data=X_train_clean, output_data=y_train_clean)"
   ]
  },
  {
   "cell_type": "code",
   "execution_count": 83,
   "metadata": {},
   "outputs": [
    {
     "name": "stdout",
     "output_type": "stream",
     "text": [
      "=== All data Checked and Verified ===\n"
     ]
    }
   ],
   "source": [
    "check_data_range(input_data=X_test_clean, output_data=y_test_clean)"
   ]
  },
  {
   "cell_type": "code",
   "execution_count": 32,
   "metadata": {},
   "outputs": [],
   "source": [
    "util.dump_pickle(data=X_train_clean, file_path=config['data_train_path'][0])\n",
    "util.dump_pickle(data=y_train_clean, file_path=config['data_train_path'][1])\n",
    "util.dump_pickle(data=X_test_clean, file_path=config['data_test_path'][0])\n",
    "util.dump_pickle(data=y_test_clean, file_path=config['data_test_path'][1])"
   ]
  },
  {
   "cell_type": "markdown",
   "metadata": {},
   "source": [
    "This is the end of data pipeline for this project, we can create the clean data for modeling, next we will continue to feature engineering section"
   ]
  }
 ],
 "metadata": {
  "kernelspec": {
   "display_name": "Python 3.9.12 ('base')",
   "language": "python",
   "name": "python3"
  },
  "language_info": {
   "codemirror_mode": {
    "name": "ipython",
    "version": 3
   },
   "file_extension": ".py",
   "mimetype": "text/x-python",
   "name": "python",
   "nbconvert_exporter": "python",
   "pygments_lexer": "ipython3",
   "version": "3.9.12"
  },
  "orig_nbformat": 4,
  "vscode": {
   "interpreter": {
    "hash": "34e617279dcb4f9d491a2221293956721f8be46cd74f3e42d7ebd6a28f1373b7"
   }
  }
 },
 "nbformat": 4,
 "nbformat_minor": 2
}
