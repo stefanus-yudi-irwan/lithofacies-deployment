{
 "cells": [
  {
   "cell_type": "markdown",
   "metadata": {},
   "source": [
    "# Feature Engineering"
   ]
  },
  {
   "cell_type": "markdown",
   "metadata": {},
   "source": [
    "## A. Import Library"
   ]
  },
  {
   "cell_type": "code",
   "execution_count": 44,
   "metadata": {},
   "outputs": [],
   "source": [
    "import numpy as np     # for calculation\n",
    "import pandas as pd     # for manipulating DataFrame\n",
    "import seaborn as sns     # for plotting data\n",
    "import matplotlib.pyplot as plt     # for plotting data\n",
    "import yaml     # for interacting with config.yaml  \n",
    "import src.util as util     # import common function\n",
    "from sklearn.preprocessing import OneHotEncoder     # for manipulating categorical data\n",
    "from sklearn.preprocessing import StandardScaler     # for normalize data\n",
    "from imblearn.under_sampling import RandomUnderSampler     # for creating random under sample data\n",
    "from imblearn.over_sampling import RandomOverSampler, SMOTE     # for creating random over sample and SMOTE data"
   ]
  },
  {
   "cell_type": "markdown",
   "metadata": {},
   "source": [
    "## B. Import Data"
   ]
  },
  {
   "cell_type": "code",
   "execution_count": 45,
   "metadata": {},
   "outputs": [
    {
     "name": "stdout",
     "output_type": "stream",
     "text": [
      "loading configuration file .....\n",
      "configuration file loaded\n"
     ]
    }
   ],
   "source": [
    "config = util.load_config()"
   ]
  },
  {
   "cell_type": "code",
   "execution_count": 46,
   "metadata": {},
   "outputs": [
    {
     "data": {
      "text/plain": [
       "{'raw_dataset_dir': 'data/raw/',\n",
       " 'raw_data_path': 'data/processed/raw_data.pkl',\n",
       " 'data_train_path': ['data/processed/X_train_clean.pkl',\n",
       "  'data/processed/y_train_clean.pkl'],\n",
       " 'data_test_path': ['data/processed/X_test_clean.pkl',\n",
       "  'data/processed/y_test_clean.pkl'],\n",
       " 'data_modeling_path': ['data/processed/train_data_modeling.pkl',\n",
       "  'data/processed/test_data_modeling.pkl'],\n",
       " 'ohe_train_path': 'models/ohe_train.pkl',\n",
       " 'standard_scaler_path': 'models/standard_scaler_train.pkl',\n",
       " 'modeling_summary': 'models/modeling_summary.pkl',\n",
       " 'production_model': 'models/production_model.pkl',\n",
       " 'api_columns': ['GR', 'ILD_log10', 'DeltaPHI', 'PHIND', 'PE', 'NM_M']}"
      ]
     },
     "execution_count": 46,
     "metadata": {},
     "output_type": "execute_result"
    }
   ],
   "source": [
    "config"
   ]
  },
  {
   "cell_type": "code",
   "execution_count": 47,
   "metadata": {},
   "outputs": [],
   "source": [
    "X_train_clean = util.load_pickle(file_path=config['data_train_path'][0])\n",
    "y_train_clean = util.load_pickle(file_path=config['data_train_path'][1])\n",
    "X_test_clean = util.load_pickle(file_path=config['data_test_path'][0])\n",
    "y_test_clean = util.load_pickle(file_path=config['data_test_path'][1])"
   ]
  },
  {
   "cell_type": "markdown",
   "metadata": {},
   "source": [
    "## C. Feature Selection Data Train"
   ]
  },
  {
   "cell_type": "markdown",
   "metadata": {},
   "source": [
    "### C.1. RELPOS Feature"
   ]
  },
  {
   "cell_type": "code",
   "execution_count": 48,
   "metadata": {},
   "outputs": [
    {
     "data": {
      "text/html": [
       "<div>\n",
       "<style scoped>\n",
       "    .dataframe tbody tr th:only-of-type {\n",
       "        vertical-align: middle;\n",
       "    }\n",
       "\n",
       "    .dataframe tbody tr th {\n",
       "        vertical-align: top;\n",
       "    }\n",
       "\n",
       "    .dataframe thead tr th {\n",
       "        text-align: left;\n",
       "    }\n",
       "\n",
       "    .dataframe thead tr:last-of-type th {\n",
       "        text-align: right;\n",
       "    }\n",
       "</style>\n",
       "<table border=\"1\" class=\"dataframe\">\n",
       "  <thead>\n",
       "    <tr>\n",
       "      <th></th>\n",
       "      <th></th>\n",
       "      <th colspan=\"2\" halign=\"left\">Depth</th>\n",
       "      <th colspan=\"2\" halign=\"left\">RELPOS</th>\n",
       "    </tr>\n",
       "    <tr>\n",
       "      <th></th>\n",
       "      <th></th>\n",
       "      <th>min</th>\n",
       "      <th>max</th>\n",
       "      <th>min</th>\n",
       "      <th>max</th>\n",
       "    </tr>\n",
       "    <tr>\n",
       "      <th>Well Name</th>\n",
       "      <th>Formation</th>\n",
       "      <th></th>\n",
       "      <th></th>\n",
       "      <th></th>\n",
       "      <th></th>\n",
       "    </tr>\n",
       "  </thead>\n",
       "  <tbody>\n",
       "    <tr>\n",
       "      <th rowspan=\"5\" valign=\"top\">ALEXANDER D</th>\n",
       "      <th>A1 LM</th>\n",
       "      <td>2907.5</td>\n",
       "      <td>2939.0</td>\n",
       "      <td>0.015</td>\n",
       "      <td>0.985</td>\n",
       "    </tr>\n",
       "    <tr>\n",
       "      <th>A1 SH</th>\n",
       "      <td>2887.5</td>\n",
       "      <td>2906.5</td>\n",
       "      <td>0.026</td>\n",
       "      <td>1.000</td>\n",
       "    </tr>\n",
       "    <tr>\n",
       "      <th>B1 LM</th>\n",
       "      <td>2956.0</td>\n",
       "      <td>2966.0</td>\n",
       "      <td>0.048</td>\n",
       "      <td>1.000</td>\n",
       "    </tr>\n",
       "    <tr>\n",
       "      <th>B1 SH</th>\n",
       "      <td>2939.5</td>\n",
       "      <td>2955.5</td>\n",
       "      <td>0.031</td>\n",
       "      <td>1.000</td>\n",
       "    </tr>\n",
       "    <tr>\n",
       "      <th>B2 LM</th>\n",
       "      <td>2978.0</td>\n",
       "      <td>2987.5</td>\n",
       "      <td>0.050</td>\n",
       "      <td>1.000</td>\n",
       "    </tr>\n",
       "    <tr>\n",
       "      <th>...</th>\n",
       "      <th>...</th>\n",
       "      <td>...</td>\n",
       "      <td>...</td>\n",
       "      <td>...</td>\n",
       "      <td>...</td>\n",
       "    </tr>\n",
       "    <tr>\n",
       "      <th rowspan=\"5\" valign=\"top\">SHRIMPLIN</th>\n",
       "      <th>B4 SH</th>\n",
       "      <td>2911.0</td>\n",
       "      <td>2925.0</td>\n",
       "      <td>0.034</td>\n",
       "      <td>1.000</td>\n",
       "    </tr>\n",
       "    <tr>\n",
       "      <th>B5 LM</th>\n",
       "      <td>2938.0</td>\n",
       "      <td>2948.0</td>\n",
       "      <td>0.050</td>\n",
       "      <td>1.000</td>\n",
       "    </tr>\n",
       "    <tr>\n",
       "      <th>B5 SH</th>\n",
       "      <td>2930.0</td>\n",
       "      <td>2937.5</td>\n",
       "      <td>0.118</td>\n",
       "      <td>1.000</td>\n",
       "    </tr>\n",
       "    <tr>\n",
       "      <th>C LM</th>\n",
       "      <td>2977.5</td>\n",
       "      <td>3028.0</td>\n",
       "      <td>0.010</td>\n",
       "      <td>0.990</td>\n",
       "    </tr>\n",
       "    <tr>\n",
       "      <th>C SH</th>\n",
       "      <td>2948.5</td>\n",
       "      <td>2976.5</td>\n",
       "      <td>0.018</td>\n",
       "      <td>1.000</td>\n",
       "    </tr>\n",
       "  </tbody>\n",
       "</table>\n",
       "<p>127 rows × 4 columns</p>\n",
       "</div>"
      ],
      "text/plain": [
       "                        Depth         RELPOS       \n",
       "                          min     max    min    max\n",
       "Well Name   Formation                              \n",
       "ALEXANDER D A1 LM      2907.5  2939.0  0.015  0.985\n",
       "            A1 SH      2887.5  2906.5  0.026  1.000\n",
       "            B1 LM      2956.0  2966.0  0.048  1.000\n",
       "            B1 SH      2939.5  2955.5  0.031  1.000\n",
       "            B2 LM      2978.0  2987.5  0.050  1.000\n",
       "...                       ...     ...    ...    ...\n",
       "SHRIMPLIN   B4 SH      2911.0  2925.0  0.034  1.000\n",
       "            B5 LM      2938.0  2948.0  0.050  1.000\n",
       "            B5 SH      2930.0  2937.5  0.118  1.000\n",
       "            C LM       2977.5  3028.0  0.010  0.990\n",
       "            C SH       2948.5  2976.5  0.018  1.000\n",
       "\n",
       "[127 rows x 4 columns]"
      ]
     },
     "execution_count": 48,
     "metadata": {},
     "output_type": "execute_result"
    }
   ],
   "source": [
    "X_train_clean.groupby([\"Well Name\",\"Formation\"]).aggregate({'Depth':['min','max'],'RELPOS':['min','max']})"
   ]
  },
  {
   "cell_type": "code",
   "execution_count": 49,
   "metadata": {},
   "outputs": [
    {
     "data": {
      "text/html": [
       "<div>\n",
       "<style scoped>\n",
       "    .dataframe tbody tr th:only-of-type {\n",
       "        vertical-align: middle;\n",
       "    }\n",
       "\n",
       "    .dataframe tbody tr th {\n",
       "        vertical-align: top;\n",
       "    }\n",
       "\n",
       "    .dataframe thead th {\n",
       "        text-align: right;\n",
       "    }\n",
       "</style>\n",
       "<table border=\"1\" class=\"dataframe\">\n",
       "  <thead>\n",
       "    <tr style=\"text-align: right;\">\n",
       "      <th></th>\n",
       "      <th>Depth</th>\n",
       "      <th>RELPOS</th>\n",
       "    </tr>\n",
       "  </thead>\n",
       "  <tbody>\n",
       "    <tr>\n",
       "      <th>Depth</th>\n",
       "      <td>1.0</td>\n",
       "      <td>-1.0</td>\n",
       "    </tr>\n",
       "    <tr>\n",
       "      <th>RELPOS</th>\n",
       "      <td>-1.0</td>\n",
       "      <td>1.0</td>\n",
       "    </tr>\n",
       "  </tbody>\n",
       "</table>\n",
       "</div>"
      ],
      "text/plain": [
       "        Depth  RELPOS\n",
       "Depth     1.0    -1.0\n",
       "RELPOS   -1.0     1.0"
      ]
     },
     "execution_count": 49,
     "metadata": {},
     "output_type": "execute_result"
    }
   ],
   "source": [
    "X_train_clean.loc[(X_train_clean[\"Well Name\"]=='ALEXANDER D') & (X_train_clean[\"Formation\"]=='A1 SH')][['Depth','RELPOS']].corr()"
   ]
  },
  {
   "cell_type": "markdown",
   "metadata": {},
   "source": [
    "from this analysis we know that variable depth and RELPOS are strongly correlated, we can say that RELPOS is MinMaxScaller of depth for every formation group, hence for modeling purpose we could drop **Depth, RELPOS and, Formation**"
   ]
  },
  {
   "cell_type": "markdown",
   "metadata": {},
   "source": [
    "### C.2. Formation Features"
   ]
  },
  {
   "cell_type": "code",
   "execution_count": 50,
   "metadata": {},
   "outputs": [
    {
     "data": {
      "text/plain": [
       "array(['C LM', 'A1 LM', 'B4 LM', 'B2 LM', 'B1 SH', 'B2 SH', 'B1 LM',\n",
       "       'A1 SH', 'C SH', 'B5 SH', 'B3 SH', 'B4 SH', 'B5 LM', 'B3 LM'],\n",
       "      dtype=object)"
      ]
     },
     "execution_count": 50,
     "metadata": {},
     "output_type": "execute_result"
    }
   ],
   "source": [
    "X_train_clean[\"Formation\"].unique()"
   ]
  },
  {
   "cell_type": "markdown",
   "metadata": {},
   "source": [
    "formation data contains formation name in every well data, this is just a naming convention for labeling the reservoar under the surface. This data is meaningless for lithofacies classification so I would drop it from the feature modeling"
   ]
  },
  {
   "cell_type": "markdown",
   "metadata": {},
   "source": [
    "### C.3. Depth Features"
   ]
  },
  {
   "cell_type": "code",
   "execution_count": 51,
   "metadata": {},
   "outputs": [
    {
     "data": {
      "text/plain": [
       "3319"
      ]
     },
     "execution_count": 51,
     "metadata": {},
     "output_type": "execute_result"
    }
   ],
   "source": [
    "X_train_clean[\"Depth\"].value_counts().sum()"
   ]
  },
  {
   "cell_type": "markdown",
   "metadata": {},
   "source": [
    "because depth is highly unique, and I know that there are no correlation between depth and lithofacies category, hence for modeling purpose I would drop this features"
   ]
  },
  {
   "cell_type": "markdown",
   "metadata": {},
   "source": [
    "### C.4. Well Name Features"
   ]
  },
  {
   "cell_type": "code",
   "execution_count": 52,
   "metadata": {},
   "outputs": [
    {
     "data": {
      "text/plain": [
       "array(['NEWBY', 'CHURCHMAN BIBLE', 'Recruit F9', 'SHRIMPLIN', 'KIMZEY A',\n",
       "       'CROSS H CATTLE', 'ALEXANDER D', 'SHANKLE', 'LUKE G U', 'NOLAN'],\n",
       "      dtype=object)"
      ]
     },
     "execution_count": 52,
     "metadata": {},
     "output_type": "execute_result"
    }
   ],
   "source": [
    "X_train_clean[\"Well Name\"].unique()"
   ]
  },
  {
   "cell_type": "markdown",
   "metadata": {},
   "source": [
    "well data feature is just an identifier for the source of the data, hence this feature isn't important for this lithofacies classification. From this feature selection activity we know that our input for classification problem is come from wireline measurement feature (GR, ILD_log10, PE, DeltaPHI, PHIND) and the output for classification is Facies Label, the rest of the feature will be dropped from modeling"
   ]
  },
  {
   "cell_type": "code",
   "execution_count": 53,
   "metadata": {},
   "outputs": [],
   "source": [
    "def split_numerical_categorical(data:pd.DataFrame):\n",
    "    data = data[[\"GR\",\"ILD_log10\",\"DeltaPHI\",\"PHIND\",\"PE\",\"NM_M\"]]\n",
    "    X_train_categorical = data[\"NM_M\"]\n",
    "    X_train_numerical = data.drop(columns=\"NM_M\", axis=1)\n",
    "    \n",
    "    return X_train_numerical, X_train_categorical"
   ]
  },
  {
   "cell_type": "code",
   "execution_count": 54,
   "metadata": {},
   "outputs": [],
   "source": [
    "X_train_numerical, X_train_categorical = split_numerical_categorical(data=X_train_clean)"
   ]
  },
  {
   "cell_type": "code",
   "execution_count": 55,
   "metadata": {},
   "outputs": [
    {
     "data": {
      "text/html": [
       "<div>\n",
       "<style scoped>\n",
       "    .dataframe tbody tr th:only-of-type {\n",
       "        vertical-align: middle;\n",
       "    }\n",
       "\n",
       "    .dataframe tbody tr th {\n",
       "        vertical-align: top;\n",
       "    }\n",
       "\n",
       "    .dataframe thead th {\n",
       "        text-align: right;\n",
       "    }\n",
       "</style>\n",
       "<table border=\"1\" class=\"dataframe\">\n",
       "  <thead>\n",
       "    <tr style=\"text-align: right;\">\n",
       "      <th></th>\n",
       "      <th>GR</th>\n",
       "      <th>ILD_log10</th>\n",
       "      <th>DeltaPHI</th>\n",
       "      <th>PHIND</th>\n",
       "      <th>PE</th>\n",
       "    </tr>\n",
       "  </thead>\n",
       "  <tbody>\n",
       "    <tr>\n",
       "      <th>2720</th>\n",
       "      <td>48.640</td>\n",
       "      <td>0.940</td>\n",
       "      <td>4.100</td>\n",
       "      <td>6.850</td>\n",
       "      <td>4.100</td>\n",
       "    </tr>\n",
       "    <tr>\n",
       "      <th>3372</th>\n",
       "      <td>50.469</td>\n",
       "      <td>0.805</td>\n",
       "      <td>6.166</td>\n",
       "      <td>10.680</td>\n",
       "      <td>3.141</td>\n",
       "    </tr>\n",
       "    <tr>\n",
       "      <th>3327</th>\n",
       "      <td>99.188</td>\n",
       "      <td>0.573</td>\n",
       "      <td>3.866</td>\n",
       "      <td>13.175</td>\n",
       "      <td>3.232</td>\n",
       "    </tr>\n",
       "    <tr>\n",
       "      <th>2756</th>\n",
       "      <td>39.750</td>\n",
       "      <td>0.733</td>\n",
       "      <td>0.900</td>\n",
       "      <td>10.040</td>\n",
       "      <td>5.500</td>\n",
       "    </tr>\n",
       "    <tr>\n",
       "      <th>3299</th>\n",
       "      <td>40.250</td>\n",
       "      <td>0.873</td>\n",
       "      <td>-1.021</td>\n",
       "      <td>5.318</td>\n",
       "      <td>4.520</td>\n",
       "    </tr>\n",
       "  </tbody>\n",
       "</table>\n",
       "</div>"
      ],
      "text/plain": [
       "          GR  ILD_log10  DeltaPHI   PHIND     PE\n",
       "2720  48.640      0.940     4.100   6.850  4.100\n",
       "3372  50.469      0.805     6.166  10.680  3.141\n",
       "3327  99.188      0.573     3.866  13.175  3.232\n",
       "2756  39.750      0.733     0.900  10.040  5.500\n",
       "3299  40.250      0.873    -1.021   5.318  4.520"
      ]
     },
     "execution_count": 55,
     "metadata": {},
     "output_type": "execute_result"
    }
   ],
   "source": [
    "X_train_numerical.head(5)"
   ]
  },
  {
   "cell_type": "code",
   "execution_count": 56,
   "metadata": {},
   "outputs": [
    {
     "data": {
      "text/plain": [
       "2720    2\n",
       "3372    2\n",
       "3327    2\n",
       "2756    2\n",
       "3299    2\n",
       "Name: NM_M, dtype: int32"
      ]
     },
     "execution_count": 56,
     "metadata": {},
     "output_type": "execute_result"
    }
   ],
   "source": [
    "X_train_categorical.head(5)"
   ]
  },
  {
   "cell_type": "markdown",
   "metadata": {},
   "source": [
    "## D. Handling Categorical Data"
   ]
  },
  {
   "cell_type": "code",
   "execution_count": 57,
   "metadata": {},
   "outputs": [],
   "source": [
    "def categorical_handling(data:pd.Series) -> pd.DataFrame:\n",
    "    non_marine_marine_label = {1:\"non_marine\",2:\"marine\"}\n",
    "    data_marine = data.map(non_marine_marine_label)\n",
    "    ohe_train = OneHotEncoder(sparse=False)\n",
    "    ohe_train.fit(np.array([\"non_marine\",\"marine\"]).reshape(-1,1))\n",
    "    ohe_data = ohe_train.transform(np.array(data_marine.to_list()).reshape(-1,1))\n",
    "    ohe_data = pd.DataFrame(data=ohe_data, columns=list(ohe_train.categories_[0]), index=data_marine.index)\n",
    "    \n",
    "    return ohe_data, ohe_train"
   ]
  },
  {
   "cell_type": "code",
   "execution_count": 58,
   "metadata": {},
   "outputs": [],
   "source": [
    "X_train_categorical, ohe_train = categorical_handling(data=X_train_categorical)"
   ]
  },
  {
   "cell_type": "code",
   "execution_count": 59,
   "metadata": {},
   "outputs": [
    {
     "data": {
      "text/html": [
       "<style>#sk-container-id-3 {color: black;background-color: white;}#sk-container-id-3 pre{padding: 0;}#sk-container-id-3 div.sk-toggleable {background-color: white;}#sk-container-id-3 label.sk-toggleable__label {cursor: pointer;display: block;width: 100%;margin-bottom: 0;padding: 0.3em;box-sizing: border-box;text-align: center;}#sk-container-id-3 label.sk-toggleable__label-arrow:before {content: \"▸\";float: left;margin-right: 0.25em;color: #696969;}#sk-container-id-3 label.sk-toggleable__label-arrow:hover:before {color: black;}#sk-container-id-3 div.sk-estimator:hover label.sk-toggleable__label-arrow:before {color: black;}#sk-container-id-3 div.sk-toggleable__content {max-height: 0;max-width: 0;overflow: hidden;text-align: left;background-color: #f0f8ff;}#sk-container-id-3 div.sk-toggleable__content pre {margin: 0.2em;color: black;border-radius: 0.25em;background-color: #f0f8ff;}#sk-container-id-3 input.sk-toggleable__control:checked~div.sk-toggleable__content {max-height: 200px;max-width: 100%;overflow: auto;}#sk-container-id-3 input.sk-toggleable__control:checked~label.sk-toggleable__label-arrow:before {content: \"▾\";}#sk-container-id-3 div.sk-estimator input.sk-toggleable__control:checked~label.sk-toggleable__label {background-color: #d4ebff;}#sk-container-id-3 div.sk-label input.sk-toggleable__control:checked~label.sk-toggleable__label {background-color: #d4ebff;}#sk-container-id-3 input.sk-hidden--visually {border: 0;clip: rect(1px 1px 1px 1px);clip: rect(1px, 1px, 1px, 1px);height: 1px;margin: -1px;overflow: hidden;padding: 0;position: absolute;width: 1px;}#sk-container-id-3 div.sk-estimator {font-family: monospace;background-color: #f0f8ff;border: 1px dotted black;border-radius: 0.25em;box-sizing: border-box;margin-bottom: 0.5em;}#sk-container-id-3 div.sk-estimator:hover {background-color: #d4ebff;}#sk-container-id-3 div.sk-parallel-item::after {content: \"\";width: 100%;border-bottom: 1px solid gray;flex-grow: 1;}#sk-container-id-3 div.sk-label:hover label.sk-toggleable__label {background-color: #d4ebff;}#sk-container-id-3 div.sk-serial::before {content: \"\";position: absolute;border-left: 1px solid gray;box-sizing: border-box;top: 0;bottom: 0;left: 50%;z-index: 0;}#sk-container-id-3 div.sk-serial {display: flex;flex-direction: column;align-items: center;background-color: white;padding-right: 0.2em;padding-left: 0.2em;position: relative;}#sk-container-id-3 div.sk-item {position: relative;z-index: 1;}#sk-container-id-3 div.sk-parallel {display: flex;align-items: stretch;justify-content: center;background-color: white;position: relative;}#sk-container-id-3 div.sk-item::before, #sk-container-id-3 div.sk-parallel-item::before {content: \"\";position: absolute;border-left: 1px solid gray;box-sizing: border-box;top: 0;bottom: 0;left: 50%;z-index: -1;}#sk-container-id-3 div.sk-parallel-item {display: flex;flex-direction: column;z-index: 1;position: relative;background-color: white;}#sk-container-id-3 div.sk-parallel-item:first-child::after {align-self: flex-end;width: 50%;}#sk-container-id-3 div.sk-parallel-item:last-child::after {align-self: flex-start;width: 50%;}#sk-container-id-3 div.sk-parallel-item:only-child::after {width: 0;}#sk-container-id-3 div.sk-dashed-wrapped {border: 1px dashed gray;margin: 0 0.4em 0.5em 0.4em;box-sizing: border-box;padding-bottom: 0.4em;background-color: white;}#sk-container-id-3 div.sk-label label {font-family: monospace;font-weight: bold;display: inline-block;line-height: 1.2em;}#sk-container-id-3 div.sk-label-container {text-align: center;}#sk-container-id-3 div.sk-container {/* jupyter's `normalize.less` sets `[hidden] { display: none; }` but bootstrap.min.css set `[hidden] { display: none !important; }` so we also need the `!important` here to be able to override the default hidden behavior on the sphinx rendered scikit-learn.org. See: https://github.com/scikit-learn/scikit-learn/issues/21755 */display: inline-block !important;position: relative;}#sk-container-id-3 div.sk-text-repr-fallback {display: none;}</style><div id=\"sk-container-id-3\" class=\"sk-top-container\"><div class=\"sk-text-repr-fallback\"><pre>OneHotEncoder(sparse=False)</pre><b>In a Jupyter environment, please rerun this cell to show the HTML representation or trust the notebook. <br />On GitHub, the HTML representation is unable to render, please try loading this page with nbviewer.org.</b></div><div class=\"sk-container\" hidden><div class=\"sk-item\"><div class=\"sk-estimator sk-toggleable\"><input class=\"sk-toggleable__control sk-hidden--visually\" id=\"sk-estimator-id-3\" type=\"checkbox\" checked><label for=\"sk-estimator-id-3\" class=\"sk-toggleable__label sk-toggleable__label-arrow\">OneHotEncoder</label><div class=\"sk-toggleable__content\"><pre>OneHotEncoder(sparse=False)</pre></div></div></div></div></div>"
      ],
      "text/plain": [
       "OneHotEncoder(sparse=False)"
      ]
     },
     "execution_count": 59,
     "metadata": {},
     "output_type": "execute_result"
    }
   ],
   "source": [
    "ohe_train"
   ]
  },
  {
   "cell_type": "code",
   "execution_count": 60,
   "metadata": {},
   "outputs": [],
   "source": [
    "util.dump_pickle(data=ohe_train, file_path=config[\"ohe_train_path\"])"
   ]
  },
  {
   "cell_type": "code",
   "execution_count": 61,
   "metadata": {},
   "outputs": [
    {
     "data": {
      "text/html": [
       "<div>\n",
       "<style scoped>\n",
       "    .dataframe tbody tr th:only-of-type {\n",
       "        vertical-align: middle;\n",
       "    }\n",
       "\n",
       "    .dataframe tbody tr th {\n",
       "        vertical-align: top;\n",
       "    }\n",
       "\n",
       "    .dataframe thead th {\n",
       "        text-align: right;\n",
       "    }\n",
       "</style>\n",
       "<table border=\"1\" class=\"dataframe\">\n",
       "  <thead>\n",
       "    <tr style=\"text-align: right;\">\n",
       "      <th></th>\n",
       "      <th>marine</th>\n",
       "      <th>non_marine</th>\n",
       "    </tr>\n",
       "  </thead>\n",
       "  <tbody>\n",
       "    <tr>\n",
       "      <th>2720</th>\n",
       "      <td>1.0</td>\n",
       "      <td>0.0</td>\n",
       "    </tr>\n",
       "    <tr>\n",
       "      <th>3372</th>\n",
       "      <td>1.0</td>\n",
       "      <td>0.0</td>\n",
       "    </tr>\n",
       "    <tr>\n",
       "      <th>3327</th>\n",
       "      <td>1.0</td>\n",
       "      <td>0.0</td>\n",
       "    </tr>\n",
       "    <tr>\n",
       "      <th>2756</th>\n",
       "      <td>1.0</td>\n",
       "      <td>0.0</td>\n",
       "    </tr>\n",
       "    <tr>\n",
       "      <th>3299</th>\n",
       "      <td>1.0</td>\n",
       "      <td>0.0</td>\n",
       "    </tr>\n",
       "  </tbody>\n",
       "</table>\n",
       "</div>"
      ],
      "text/plain": [
       "      marine  non_marine\n",
       "2720     1.0         0.0\n",
       "3372     1.0         0.0\n",
       "3327     1.0         0.0\n",
       "2756     1.0         0.0\n",
       "3299     1.0         0.0"
      ]
     },
     "execution_count": 61,
     "metadata": {},
     "output_type": "execute_result"
    }
   ],
   "source": [
    "X_train_categorical.head(5)"
   ]
  },
  {
   "cell_type": "markdown",
   "metadata": {},
   "source": [
    "## E. Normalize Feature Value"
   ]
  },
  {
   "cell_type": "code",
   "execution_count": 62,
   "metadata": {},
   "outputs": [],
   "source": [
    "def normalize_data(numerical_data:pd.DataFrame, categorical_data:pd.DataFrame) -> pd.DataFrame:\n",
    "    data = pd.concat([numerical_data, categorical_data], axis=1)\n",
    "    standard_scaler_train = StandardScaler()\n",
    "    standard_scaler_train.fit(data.values)\n",
    "    normalized_data = standard_scaler_train.transform(data.values)\n",
    "    normalized_data = pd.DataFrame(data=normalized_data, index=data.index, columns=data.columns)\n",
    "    \n",
    "    return normalized_data, standard_scaler_train"
   ]
  },
  {
   "cell_type": "code",
   "execution_count": 63,
   "metadata": {},
   "outputs": [],
   "source": [
    "X_train, standard_scaler_train = normalize_data(numerical_data=X_train_numerical,\n",
    "                                                categorical_data=X_train_categorical)"
   ]
  },
  {
   "cell_type": "code",
   "execution_count": 64,
   "metadata": {},
   "outputs": [
    {
     "data": {
      "text/html": [
       "<style>#sk-container-id-4 {color: black;background-color: white;}#sk-container-id-4 pre{padding: 0;}#sk-container-id-4 div.sk-toggleable {background-color: white;}#sk-container-id-4 label.sk-toggleable__label {cursor: pointer;display: block;width: 100%;margin-bottom: 0;padding: 0.3em;box-sizing: border-box;text-align: center;}#sk-container-id-4 label.sk-toggleable__label-arrow:before {content: \"▸\";float: left;margin-right: 0.25em;color: #696969;}#sk-container-id-4 label.sk-toggleable__label-arrow:hover:before {color: black;}#sk-container-id-4 div.sk-estimator:hover label.sk-toggleable__label-arrow:before {color: black;}#sk-container-id-4 div.sk-toggleable__content {max-height: 0;max-width: 0;overflow: hidden;text-align: left;background-color: #f0f8ff;}#sk-container-id-4 div.sk-toggleable__content pre {margin: 0.2em;color: black;border-radius: 0.25em;background-color: #f0f8ff;}#sk-container-id-4 input.sk-toggleable__control:checked~div.sk-toggleable__content {max-height: 200px;max-width: 100%;overflow: auto;}#sk-container-id-4 input.sk-toggleable__control:checked~label.sk-toggleable__label-arrow:before {content: \"▾\";}#sk-container-id-4 div.sk-estimator input.sk-toggleable__control:checked~label.sk-toggleable__label {background-color: #d4ebff;}#sk-container-id-4 div.sk-label input.sk-toggleable__control:checked~label.sk-toggleable__label {background-color: #d4ebff;}#sk-container-id-4 input.sk-hidden--visually {border: 0;clip: rect(1px 1px 1px 1px);clip: rect(1px, 1px, 1px, 1px);height: 1px;margin: -1px;overflow: hidden;padding: 0;position: absolute;width: 1px;}#sk-container-id-4 div.sk-estimator {font-family: monospace;background-color: #f0f8ff;border: 1px dotted black;border-radius: 0.25em;box-sizing: border-box;margin-bottom: 0.5em;}#sk-container-id-4 div.sk-estimator:hover {background-color: #d4ebff;}#sk-container-id-4 div.sk-parallel-item::after {content: \"\";width: 100%;border-bottom: 1px solid gray;flex-grow: 1;}#sk-container-id-4 div.sk-label:hover label.sk-toggleable__label {background-color: #d4ebff;}#sk-container-id-4 div.sk-serial::before {content: \"\";position: absolute;border-left: 1px solid gray;box-sizing: border-box;top: 0;bottom: 0;left: 50%;z-index: 0;}#sk-container-id-4 div.sk-serial {display: flex;flex-direction: column;align-items: center;background-color: white;padding-right: 0.2em;padding-left: 0.2em;position: relative;}#sk-container-id-4 div.sk-item {position: relative;z-index: 1;}#sk-container-id-4 div.sk-parallel {display: flex;align-items: stretch;justify-content: center;background-color: white;position: relative;}#sk-container-id-4 div.sk-item::before, #sk-container-id-4 div.sk-parallel-item::before {content: \"\";position: absolute;border-left: 1px solid gray;box-sizing: border-box;top: 0;bottom: 0;left: 50%;z-index: -1;}#sk-container-id-4 div.sk-parallel-item {display: flex;flex-direction: column;z-index: 1;position: relative;background-color: white;}#sk-container-id-4 div.sk-parallel-item:first-child::after {align-self: flex-end;width: 50%;}#sk-container-id-4 div.sk-parallel-item:last-child::after {align-self: flex-start;width: 50%;}#sk-container-id-4 div.sk-parallel-item:only-child::after {width: 0;}#sk-container-id-4 div.sk-dashed-wrapped {border: 1px dashed gray;margin: 0 0.4em 0.5em 0.4em;box-sizing: border-box;padding-bottom: 0.4em;background-color: white;}#sk-container-id-4 div.sk-label label {font-family: monospace;font-weight: bold;display: inline-block;line-height: 1.2em;}#sk-container-id-4 div.sk-label-container {text-align: center;}#sk-container-id-4 div.sk-container {/* jupyter's `normalize.less` sets `[hidden] { display: none; }` but bootstrap.min.css set `[hidden] { display: none !important; }` so we also need the `!important` here to be able to override the default hidden behavior on the sphinx rendered scikit-learn.org. See: https://github.com/scikit-learn/scikit-learn/issues/21755 */display: inline-block !important;position: relative;}#sk-container-id-4 div.sk-text-repr-fallback {display: none;}</style><div id=\"sk-container-id-4\" class=\"sk-top-container\"><div class=\"sk-text-repr-fallback\"><pre>StandardScaler()</pre><b>In a Jupyter environment, please rerun this cell to show the HTML representation or trust the notebook. <br />On GitHub, the HTML representation is unable to render, please try loading this page with nbviewer.org.</b></div><div class=\"sk-container\" hidden><div class=\"sk-item\"><div class=\"sk-estimator sk-toggleable\"><input class=\"sk-toggleable__control sk-hidden--visually\" id=\"sk-estimator-id-4\" type=\"checkbox\" checked><label for=\"sk-estimator-id-4\" class=\"sk-toggleable__label sk-toggleable__label-arrow\">StandardScaler</label><div class=\"sk-toggleable__content\"><pre>StandardScaler()</pre></div></div></div></div></div>"
      ],
      "text/plain": [
       "StandardScaler()"
      ]
     },
     "execution_count": 64,
     "metadata": {},
     "output_type": "execute_result"
    }
   ],
   "source": [
    "standard_scaler_train"
   ]
  },
  {
   "cell_type": "code",
   "execution_count": 65,
   "metadata": {},
   "outputs": [],
   "source": [
    "util.dump_pickle(data=standard_scaler_train, file_path=config['standard_scaler_path'])"
   ]
  },
  {
   "cell_type": "code",
   "execution_count": 66,
   "metadata": {},
   "outputs": [
    {
     "data": {
      "text/html": [
       "<div>\n",
       "<style scoped>\n",
       "    .dataframe tbody tr th:only-of-type {\n",
       "        vertical-align: middle;\n",
       "    }\n",
       "\n",
       "    .dataframe tbody tr th {\n",
       "        vertical-align: top;\n",
       "    }\n",
       "\n",
       "    .dataframe thead th {\n",
       "        text-align: right;\n",
       "    }\n",
       "</style>\n",
       "<table border=\"1\" class=\"dataframe\">\n",
       "  <thead>\n",
       "    <tr style=\"text-align: right;\">\n",
       "      <th></th>\n",
       "      <th>GR</th>\n",
       "      <th>ILD_log10</th>\n",
       "      <th>DeltaPHI</th>\n",
       "      <th>PHIND</th>\n",
       "      <th>PE</th>\n",
       "      <th>marine</th>\n",
       "      <th>non_marine</th>\n",
       "    </tr>\n",
       "  </thead>\n",
       "  <tbody>\n",
       "    <tr>\n",
       "      <th>2720</th>\n",
       "      <td>-0.547132</td>\n",
       "      <td>1.102230</td>\n",
       "      <td>-0.059163</td>\n",
       "      <td>-0.881636</td>\n",
       "      <td>0.431062</td>\n",
       "      <td>0.964766</td>\n",
       "      <td>-0.964766</td>\n",
       "    </tr>\n",
       "    <tr>\n",
       "      <th>3372</th>\n",
       "      <td>-0.484870</td>\n",
       "      <td>0.567029</td>\n",
       "      <td>0.328611</td>\n",
       "      <td>-0.348468</td>\n",
       "      <td>-0.709061</td>\n",
       "      <td>0.964766</td>\n",
       "      <td>-0.964766</td>\n",
       "    </tr>\n",
       "    <tr>\n",
       "      <th>3327</th>\n",
       "      <td>1.173602</td>\n",
       "      <td>-0.352723</td>\n",
       "      <td>-0.103083</td>\n",
       "      <td>-0.001143</td>\n",
       "      <td>-0.600875</td>\n",
       "      <td>0.964766</td>\n",
       "      <td>-0.964766</td>\n",
       "    </tr>\n",
       "    <tr>\n",
       "      <th>2756</th>\n",
       "      <td>-0.849761</td>\n",
       "      <td>0.281589</td>\n",
       "      <td>-0.659780</td>\n",
       "      <td>-0.437561</td>\n",
       "      <td>2.095475</td>\n",
       "      <td>0.964766</td>\n",
       "      <td>-0.964766</td>\n",
       "    </tr>\n",
       "    <tr>\n",
       "      <th>3299</th>\n",
       "      <td>-0.832740</td>\n",
       "      <td>0.836612</td>\n",
       "      <td>-1.020339</td>\n",
       "      <td>-1.094904</td>\n",
       "      <td>0.930386</td>\n",
       "      <td>0.964766</td>\n",
       "      <td>-0.964766</td>\n",
       "    </tr>\n",
       "  </tbody>\n",
       "</table>\n",
       "</div>"
      ],
      "text/plain": [
       "            GR  ILD_log10  DeltaPHI     PHIND        PE    marine  non_marine\n",
       "2720 -0.547132   1.102230 -0.059163 -0.881636  0.431062  0.964766   -0.964766\n",
       "3372 -0.484870   0.567029  0.328611 -0.348468 -0.709061  0.964766   -0.964766\n",
       "3327  1.173602  -0.352723 -0.103083 -0.001143 -0.600875  0.964766   -0.964766\n",
       "2756 -0.849761   0.281589 -0.659780 -0.437561  2.095475  0.964766   -0.964766\n",
       "3299 -0.832740   0.836612 -1.020339 -1.094904  0.930386  0.964766   -0.964766"
      ]
     },
     "execution_count": 66,
     "metadata": {},
     "output_type": "execute_result"
    }
   ],
   "source": [
    "X_train.head(5)"
   ]
  },
  {
   "cell_type": "code",
   "execution_count": 67,
   "metadata": {},
   "outputs": [
    {
     "data": {
      "text/html": [
       "<div>\n",
       "<style scoped>\n",
       "    .dataframe tbody tr th:only-of-type {\n",
       "        vertical-align: middle;\n",
       "    }\n",
       "\n",
       "    .dataframe tbody tr th {\n",
       "        vertical-align: top;\n",
       "    }\n",
       "\n",
       "    .dataframe thead th {\n",
       "        text-align: right;\n",
       "    }\n",
       "</style>\n",
       "<table border=\"1\" class=\"dataframe\">\n",
       "  <thead>\n",
       "    <tr style=\"text-align: right;\">\n",
       "      <th></th>\n",
       "      <th>GR</th>\n",
       "      <th>ILD_log10</th>\n",
       "      <th>DeltaPHI</th>\n",
       "      <th>PHIND</th>\n",
       "      <th>PE</th>\n",
       "      <th>marine</th>\n",
       "      <th>non_marine</th>\n",
       "    </tr>\n",
       "  </thead>\n",
       "  <tbody>\n",
       "    <tr>\n",
       "      <th>count</th>\n",
       "      <td>3.319000e+03</td>\n",
       "      <td>3.319000e+03</td>\n",
       "      <td>3.319000e+03</td>\n",
       "      <td>3.319000e+03</td>\n",
       "      <td>3.319000e+03</td>\n",
       "      <td>3.319000e+03</td>\n",
       "      <td>3.319000e+03</td>\n",
       "    </tr>\n",
       "    <tr>\n",
       "      <th>mean</th>\n",
       "      <td>-4.103125e-17</td>\n",
       "      <td>4.282337e-16</td>\n",
       "      <td>-6.489402e-17</td>\n",
       "      <td>1.729392e-16</td>\n",
       "      <td>3.260088e-16</td>\n",
       "      <td>-1.631048e-16</td>\n",
       "      <td>1.703301e-16</td>\n",
       "    </tr>\n",
       "    <tr>\n",
       "      <th>std</th>\n",
       "      <td>1.000151e+00</td>\n",
       "      <td>1.000151e+00</td>\n",
       "      <td>1.000151e+00</td>\n",
       "      <td>1.000151e+00</td>\n",
       "      <td>1.000151e+00</td>\n",
       "      <td>1.000151e+00</td>\n",
       "      <td>1.000151e+00</td>\n",
       "    </tr>\n",
       "    <tr>\n",
       "      <th>min</th>\n",
       "      <td>-1.857426e+00</td>\n",
       "      <td>-2.727227e+00</td>\n",
       "      <td>-4.926420e+00</td>\n",
       "      <td>-1.758650e+00</td>\n",
       "      <td>-4.205518e+00</td>\n",
       "      <td>-1.036521e+00</td>\n",
       "      <td>-9.647661e-01</td>\n",
       "    </tr>\n",
       "    <tr>\n",
       "      <th>25%</th>\n",
       "      <td>-6.804214e-01</td>\n",
       "      <td>-6.421283e-01</td>\n",
       "      <td>-5.283953e-01</td>\n",
       "      <td>-6.589027e-01</td>\n",
       "      <td>-6.876618e-01</td>\n",
       "      <td>-1.036521e+00</td>\n",
       "      <td>-9.647661e-01</td>\n",
       "    </tr>\n",
       "    <tr>\n",
       "      <th>50%</th>\n",
       "      <td>1.353307e-02</td>\n",
       "      <td>-7.521187e-02</td>\n",
       "      <td>-2.162395e-02</td>\n",
       "      <td>-1.674968e-01</td>\n",
       "      <td>-1.633716e-01</td>\n",
       "      <td>9.647661e-01</td>\n",
       "      <td>-9.647661e-01</td>\n",
       "    </tr>\n",
       "    <tr>\n",
       "      <th>75%</th>\n",
       "      <td>5.053146e-01</td>\n",
       "      <td>6.423536e-01</td>\n",
       "      <td>5.845309e-01</td>\n",
       "      <td>3.907292e-01</td>\n",
       "      <td>6.688350e-01</td>\n",
       "      <td>9.647661e-01</td>\n",
       "      <td>1.036521e+00</td>\n",
       "    </tr>\n",
       "    <tr>\n",
       "      <th>max</th>\n",
       "      <td>1.009120e+01</td>\n",
       "      <td>4.511657e+00</td>\n",
       "      <td>2.785702e+00</td>\n",
       "      <td>9.913981e+00</td>\n",
       "      <td>5.179395e+00</td>\n",
       "      <td>9.647661e-01</td>\n",
       "      <td>1.036521e+00</td>\n",
       "    </tr>\n",
       "  </tbody>\n",
       "</table>\n",
       "</div>"
      ],
      "text/plain": [
       "                 GR     ILD_log10      DeltaPHI         PHIND            PE  \\\n",
       "count  3.319000e+03  3.319000e+03  3.319000e+03  3.319000e+03  3.319000e+03   \n",
       "mean  -4.103125e-17  4.282337e-16 -6.489402e-17  1.729392e-16  3.260088e-16   \n",
       "std    1.000151e+00  1.000151e+00  1.000151e+00  1.000151e+00  1.000151e+00   \n",
       "min   -1.857426e+00 -2.727227e+00 -4.926420e+00 -1.758650e+00 -4.205518e+00   \n",
       "25%   -6.804214e-01 -6.421283e-01 -5.283953e-01 -6.589027e-01 -6.876618e-01   \n",
       "50%    1.353307e-02 -7.521187e-02 -2.162395e-02 -1.674968e-01 -1.633716e-01   \n",
       "75%    5.053146e-01  6.423536e-01  5.845309e-01  3.907292e-01  6.688350e-01   \n",
       "max    1.009120e+01  4.511657e+00  2.785702e+00  9.913981e+00  5.179395e+00   \n",
       "\n",
       "             marine    non_marine  \n",
       "count  3.319000e+03  3.319000e+03  \n",
       "mean  -1.631048e-16  1.703301e-16  \n",
       "std    1.000151e+00  1.000151e+00  \n",
       "min   -1.036521e+00 -9.647661e-01  \n",
       "25%   -1.036521e+00 -9.647661e-01  \n",
       "50%    9.647661e-01 -9.647661e-01  \n",
       "75%    9.647661e-01  1.036521e+00  \n",
       "max    9.647661e-01  1.036521e+00  "
      ]
     },
     "execution_count": 67,
     "metadata": {},
     "output_type": "execute_result"
    }
   ],
   "source": [
    "X_train.describe()"
   ]
  },
  {
   "cell_type": "markdown",
   "metadata": {},
   "source": [
    "after scaling, we could see that for every wireline measurement feature, now they are having standard deviation equal to 1 and mean equal to 0"
   ]
  },
  {
   "cell_type": "markdown",
   "metadata": {},
   "source": [
    "## F. Label Encoding Output Feature"
   ]
  },
  {
   "cell_type": "code",
   "execution_count": 68,
   "metadata": {},
   "outputs": [],
   "source": [
    "def facies_encoder(data:pd.Series) -> pd.Series :\n",
    "    facies_label_encoder = {'SS':0, 'CSiS':1, 'FSiS':2, 'SiSh':3, 'MS':4, 'WS':5, 'D':6, 'PS':7, 'BS':8}\n",
    "    encoded_data = data.map(facies_label_encoder)\n",
    "    \n",
    "    return encoded_data"
   ]
  },
  {
   "cell_type": "code",
   "execution_count": 69,
   "metadata": {},
   "outputs": [],
   "source": [
    "y_train_numerical = facies_encoder(data=y_train_clean)"
   ]
  },
  {
   "cell_type": "code",
   "execution_count": 70,
   "metadata": {},
   "outputs": [
    {
     "data": {
      "text/plain": [
       "2720    5\n",
       "3372    5\n",
       "3327    5\n",
       "2756    8\n",
       "3299    7\n",
       "Name: Facies, dtype: int64"
      ]
     },
     "execution_count": 70,
     "metadata": {},
     "output_type": "execute_result"
    }
   ],
   "source": [
    "y_train_numerical.head(5)"
   ]
  },
  {
   "cell_type": "markdown",
   "metadata": {},
   "source": [
    "as you can see, the facies data now already encoded by using label encoder in dictionary 'facies_label_encoder'"
   ]
  },
  {
   "cell_type": "markdown",
   "metadata": {},
   "source": [
    "## G. Balancing Train Data"
   ]
  },
  {
   "cell_type": "markdown",
   "metadata": {},
   "source": [
    "### G.1 Unbalance Train Data"
   ]
  },
  {
   "cell_type": "code",
   "execution_count": 71,
   "metadata": {},
   "outputs": [],
   "source": [
    "inverse_facies_label_encoder = {0:'SS', 1:'CSiS', 2:'FSiS', 3:'SiSh', 4:'MS', 5:'WS', 6:'D', 7:'PS', 8:'BS'}\n",
    "facies_colors_pallete = {'SS':'#F4D03F', 'CSiS':'#F5B041', 'FSiS':'#DC7633','SiSh':'#6E2C00',\n",
    "       'MS':'#1B4F72', 'WS':'#2E86C1', 'D':'#AED6F1', 'PS':'#A569BD', 'BS':'#196F3D'}"
   ]
  },
  {
   "cell_type": "code",
   "execution_count": 72,
   "metadata": {},
   "outputs": [
    {
     "data": {
      "text/plain": [
       "CSiS    752\n",
       "FSiS    624\n",
       "PS      549\n",
       "WS      465\n",
       "MS      237\n",
       "SiSh    217\n",
       "SS      214\n",
       "BS      148\n",
       "D       113\n",
       "Name: Facies, dtype: int64"
      ]
     },
     "execution_count": 72,
     "metadata": {},
     "output_type": "execute_result"
    }
   ],
   "source": [
    "y_train_clean.value_counts()"
   ]
  },
  {
   "cell_type": "code",
   "execution_count": 73,
   "metadata": {},
   "outputs": [
    {
     "data": {
      "image/png": "[encoded data removed]",
      "text/plain": [
       "<Figure size 432x288 with 1 Axes>"
      ]
     },
     "metadata": {
      "needs_background": "light"
     },
     "output_type": "display_data"
    }
   ],
   "source": [
    "y_train_summary = y_train_clean.value_counts()\n",
    "sns.barplot(x=y_train_summary.index,\n",
    "            y=y_train_summary.values,\n",
    "            palette=facies_colors_pallete,\n",
    "            order=y_train_summary.index)\n",
    "plt.title(\"Category Distribution on Train Data\", fontsize=16)\n",
    "plt.show()"
   ]
  },
  {
   "cell_type": "markdown",
   "metadata": {},
   "source": [
    "we could see that the categories are not balance each other from the train data, for experiment purpose let's we try unbalance, undersampling, oversampling and smote sampling data to search for best model. I will use x_train, and y_train as unbalance train data"
   ]
  },
  {
   "cell_type": "markdown",
   "metadata": {},
   "source": [
    "### G.2. Random Under Sampling Train Data"
   ]
  },
  {
   "cell_type": "code",
   "execution_count": 74,
   "metadata": {},
   "outputs": [
    {
     "data": {
      "image/png": "[encoded data removed]",
      "text/plain": [
       "<Figure size 432x288 with 1 Axes>"
      ]
     },
     "metadata": {
      "needs_background": "light"
     },
     "output_type": "display_data"
    }
   ],
   "source": [
    "rus = RandomUnderSampler()\n",
    "x_train_rus, y_train_rus = rus.fit_resample(X = X_train.values, y = y_train_numerical)\n",
    "x_train_rus = pd.DataFrame(data=x_train_rus, columns=X_train.columns)\n",
    "y_train_rus_summary = y_train_rus.value_counts()\n",
    "y_train_rus_summary.index = y_train_rus_summary.index.map(inverse_facies_label_encoder)\n",
    "sns.barplot(x=y_train_rus_summary.index,\n",
    "            y=y_train_rus_summary.values,\n",
    "            palette=facies_colors_pallete,\n",
    "            order=y_train_rus_summary.index)\n",
    "plt.title(\"Category Distribution on Random Under Sampling Train Data\", fontsize=16)\n",
    "plt.show()"
   ]
  },
  {
   "cell_type": "markdown",
   "metadata": {},
   "source": [
    "because the smallest category is D, then the random under sampling algorithm cut the amount of others category to be the same amout as D, hence we will have least input than the unbalance training data."
   ]
  },
  {
   "cell_type": "markdown",
   "metadata": {},
   "source": [
    "### G.3. Random Over Sampling Train Data"
   ]
  },
  {
   "cell_type": "code",
   "execution_count": 75,
   "metadata": {},
   "outputs": [
    {
     "data": {
      "image/png": "[encoded data removed]",
      "text/plain": [
       "<Figure size 432x288 with 1 Axes>"
      ]
     },
     "metadata": {
      "needs_background": "light"
     },
     "output_type": "display_data"
    }
   ],
   "source": [
    "ros = RandomOverSampler()\n",
    "x_train_ros, y_train_ros = ros.fit_resample(X = X_train.values, y=y_train_numerical)\n",
    "x_train_ros = pd.DataFrame(data=x_train_ros, columns=X_train.columns)\n",
    "y_train_ros_summary = y_train_ros.value_counts()\n",
    "y_train_ros_summary.index = y_train_ros_summary.index.map(inverse_facies_label_encoder)\n",
    "sns.barplot(x=y_train_ros_summary.index,\n",
    "            y=y_train_ros_summary.values,\n",
    "            palette=facies_colors_pallete,\n",
    "            order=y_train_ros_summary.index)\n",
    "plt.title(\"Category Distribution on Random Over Sampling Train Data\", fontsize=16)\n",
    "plt.show()"
   ]
  },
  {
   "cell_type": "markdown",
   "metadata": {},
   "source": [
    "because the largest category is CSiS, then the random over sampling algorithm extend the amount of others category to be the same amout as CSiS, hence we will have more input than unblance training data"
   ]
  },
  {
   "cell_type": "markdown",
   "metadata": {},
   "source": [
    "### G.4. SMOTE Sampling Train Data"
   ]
  },
  {
   "cell_type": "code",
   "execution_count": 76,
   "metadata": {},
   "outputs": [
    {
     "data": {
      "image/png": "[encoded data removed]",
      "text/plain": [
       "<Figure size 432x288 with 1 Axes>"
      ]
     },
     "metadata": {
      "needs_background": "light"
     },
     "output_type": "display_data"
    }
   ],
   "source": [
    "smote = SMOTE()\n",
    "x_train_smote, y_train_smote = smote.fit_resample(X = X_train.values,y = y_train_numerical)\n",
    "x_train_smote = pd.DataFrame(data=x_train_smote, columns=X_train.columns)\n",
    "y_train_smote_summary = y_train_smote.value_counts()\n",
    "y_train_smote_summary.index = y_train_smote_summary.index.map(inverse_facies_label_encoder)\n",
    "sns.barplot(x=y_train_smote_summary.index,\n",
    "            y=y_train_smote_summary.values,\n",
    "            palette=facies_colors_pallete,\n",
    "            order=y_train_smote_summary.index)\n",
    "plt.title(\"Category Distribution on Smote Sampling Train Data\", fontsize=16)\n",
    "plt.show()"
   ]
  },
  {
   "cell_type": "markdown",
   "metadata": {},
   "source": [
    "we will get smote train data as much as over sampling training data, but with much variation in the data"
   ]
  },
  {
   "cell_type": "code",
   "execution_count": 77,
   "metadata": {},
   "outputs": [],
   "source": [
    "def make_modeling_data(X_data:pd.DataFrame, y_data:pd.DataFrame) -> dict :\n",
    "    rus = RandomUnderSampler()\n",
    "    ros = RandomOverSampler()\n",
    "    smote = SMOTE()\n",
    "    \n",
    "    X_train_rus, y_train_rus = rus.fit_resample(X = X_data.values, y = y_data)\n",
    "    X_train_ros, y_train_ros = ros.fit_resample(X = X_data.values, y=y_data)\n",
    "    X_train_smote, y_train_smote = smote.fit_resample(X = X_data.values,y = y_data)\n",
    "    \n",
    "    X_train_rus = pd.DataFrame(data=X_train_rus, columns=X_data.columns)\n",
    "    X_train_ros = pd.DataFrame(data=X_train_ros, columns=X_data.columns)\n",
    "    X_train_smote = pd.DataFrame(data=X_train_smote, columns=X_data.columns)\n",
    "    \n",
    "    modeling_data = {\"X_train\":{\"unbalance\":X_data, \"rus\":X_train_rus, \"ros\":X_train_ros, \"smote\": X_train_smote},\n",
    "                     \"y_train\":{\"unbalance\":y_data, \"rus\":y_train_rus, \"ros\":y_train_ros, \"smote\": y_train_smote}}\n",
    "    \n",
    "    return modeling_data"
   ]
  },
  {
   "cell_type": "code",
   "execution_count": 78,
   "metadata": {},
   "outputs": [],
   "source": [
    "train_data = make_modeling_data(X_data=X_train, y_data=y_train_numerical)"
   ]
  },
  {
   "cell_type": "code",
   "execution_count": 79,
   "metadata": {},
   "outputs": [
    {
     "data": {
      "text/plain": [
       "{'ros', 'rus', 'smote', 'unbalance'}"
      ]
     },
     "execution_count": 79,
     "metadata": {},
     "output_type": "execute_result"
    }
   ],
   "source": [
    "set(train_data['X_train'].keys())"
   ]
  },
  {
   "cell_type": "code",
   "execution_count": 80,
   "metadata": {},
   "outputs": [],
   "source": [
    "util.dump_pickle(data=train_data, file_path=config['data_modeling_path'][0])"
   ]
  },
  {
   "cell_type": "code",
   "execution_count": 81,
   "metadata": {},
   "outputs": [
    {
     "data": {
      "text/html": [
       "<div>\n",
       "<style scoped>\n",
       "    .dataframe tbody tr th:only-of-type {\n",
       "        vertical-align: middle;\n",
       "    }\n",
       "\n",
       "    .dataframe tbody tr th {\n",
       "        vertical-align: top;\n",
       "    }\n",
       "\n",
       "    .dataframe thead th {\n",
       "        text-align: right;\n",
       "    }\n",
       "</style>\n",
       "<table border=\"1\" class=\"dataframe\">\n",
       "  <thead>\n",
       "    <tr style=\"text-align: right;\">\n",
       "      <th></th>\n",
       "      <th>GR</th>\n",
       "      <th>ILD_log10</th>\n",
       "      <th>DeltaPHI</th>\n",
       "      <th>PHIND</th>\n",
       "      <th>PE</th>\n",
       "      <th>marine</th>\n",
       "      <th>non_marine</th>\n",
       "    </tr>\n",
       "  </thead>\n",
       "  <tbody>\n",
       "    <tr>\n",
       "      <th>2720</th>\n",
       "      <td>-0.547132</td>\n",
       "      <td>1.102230</td>\n",
       "      <td>-0.059163</td>\n",
       "      <td>-0.881636</td>\n",
       "      <td>0.431062</td>\n",
       "      <td>0.964766</td>\n",
       "      <td>-0.964766</td>\n",
       "    </tr>\n",
       "    <tr>\n",
       "      <th>3372</th>\n",
       "      <td>-0.484870</td>\n",
       "      <td>0.567029</td>\n",
       "      <td>0.328611</td>\n",
       "      <td>-0.348468</td>\n",
       "      <td>-0.709061</td>\n",
       "      <td>0.964766</td>\n",
       "      <td>-0.964766</td>\n",
       "    </tr>\n",
       "    <tr>\n",
       "      <th>3327</th>\n",
       "      <td>1.173602</td>\n",
       "      <td>-0.352723</td>\n",
       "      <td>-0.103083</td>\n",
       "      <td>-0.001143</td>\n",
       "      <td>-0.600875</td>\n",
       "      <td>0.964766</td>\n",
       "      <td>-0.964766</td>\n",
       "    </tr>\n",
       "    <tr>\n",
       "      <th>2756</th>\n",
       "      <td>-0.849761</td>\n",
       "      <td>0.281589</td>\n",
       "      <td>-0.659780</td>\n",
       "      <td>-0.437561</td>\n",
       "      <td>2.095475</td>\n",
       "      <td>0.964766</td>\n",
       "      <td>-0.964766</td>\n",
       "    </tr>\n",
       "    <tr>\n",
       "      <th>3299</th>\n",
       "      <td>-0.832740</td>\n",
       "      <td>0.836612</td>\n",
       "      <td>-1.020339</td>\n",
       "      <td>-1.094904</td>\n",
       "      <td>0.930386</td>\n",
       "      <td>0.964766</td>\n",
       "      <td>-0.964766</td>\n",
       "    </tr>\n",
       "    <tr>\n",
       "      <th>...</th>\n",
       "      <td>...</td>\n",
       "      <td>...</td>\n",
       "      <td>...</td>\n",
       "      <td>...</td>\n",
       "      <td>...</td>\n",
       "      <td>...</td>\n",
       "      <td>...</td>\n",
       "    </tr>\n",
       "    <tr>\n",
       "      <th>3993</th>\n",
       "      <td>0.818616</td>\n",
       "      <td>-0.590590</td>\n",
       "      <td>1.367305</td>\n",
       "      <td>0.818795</td>\n",
       "      <td>-0.721831</td>\n",
       "      <td>-1.036521</td>\n",
       "      <td>1.036521</td>\n",
       "    </tr>\n",
       "    <tr>\n",
       "      <th>2579</th>\n",
       "      <td>-1.297748</td>\n",
       "      <td>0.023899</td>\n",
       "      <td>0.034684</td>\n",
       "      <td>-0.930359</td>\n",
       "      <td>0.549948</td>\n",
       "      <td>0.964766</td>\n",
       "      <td>-0.964766</td>\n",
       "    </tr>\n",
       "    <tr>\n",
       "      <th>485</th>\n",
       "      <td>-0.330627</td>\n",
       "      <td>0.959510</td>\n",
       "      <td>-0.359472</td>\n",
       "      <td>-1.146132</td>\n",
       "      <td>0.431062</td>\n",
       "      <td>0.964766</td>\n",
       "      <td>-0.964766</td>\n",
       "    </tr>\n",
       "    <tr>\n",
       "      <th>1214</th>\n",
       "      <td>0.176967</td>\n",
       "      <td>-1.944712</td>\n",
       "      <td>0.147300</td>\n",
       "      <td>0.433884</td>\n",
       "      <td>-0.986067</td>\n",
       "      <td>-1.036521</td>\n",
       "      <td>1.036521</td>\n",
       "    </tr>\n",
       "    <tr>\n",
       "      <th>1966</th>\n",
       "      <td>0.096594</td>\n",
       "      <td>1.205306</td>\n",
       "      <td>-0.040393</td>\n",
       "      <td>-1.121075</td>\n",
       "      <td>1.619928</td>\n",
       "      <td>-1.036521</td>\n",
       "      <td>1.036521</td>\n",
       "    </tr>\n",
       "  </tbody>\n",
       "</table>\n",
       "<p>3319 rows × 7 columns</p>\n",
       "</div>"
      ],
      "text/plain": [
       "            GR  ILD_log10  DeltaPHI     PHIND        PE    marine  non_marine\n",
       "2720 -0.547132   1.102230 -0.059163 -0.881636  0.431062  0.964766   -0.964766\n",
       "3372 -0.484870   0.567029  0.328611 -0.348468 -0.709061  0.964766   -0.964766\n",
       "3327  1.173602  -0.352723 -0.103083 -0.001143 -0.600875  0.964766   -0.964766\n",
       "2756 -0.849761   0.281589 -0.659780 -0.437561  2.095475  0.964766   -0.964766\n",
       "3299 -0.832740   0.836612 -1.020339 -1.094904  0.930386  0.964766   -0.964766\n",
       "...        ...        ...       ...       ...       ...       ...         ...\n",
       "3993  0.818616  -0.590590  1.367305  0.818795 -0.721831 -1.036521    1.036521\n",
       "2579 -1.297748   0.023899  0.034684 -0.930359  0.549948  0.964766   -0.964766\n",
       "485  -0.330627   0.959510 -0.359472 -1.146132  0.431062  0.964766   -0.964766\n",
       "1214  0.176967  -1.944712  0.147300  0.433884 -0.986067 -1.036521    1.036521\n",
       "1966  0.096594   1.205306 -0.040393 -1.121075  1.619928 -1.036521    1.036521\n",
       "\n",
       "[3319 rows x 7 columns]"
      ]
     },
     "execution_count": 81,
     "metadata": {},
     "output_type": "execute_result"
    }
   ],
   "source": [
    "train_data['X_train']['unbalance']"
   ]
  },
  {
   "cell_type": "code",
   "execution_count": 82,
   "metadata": {},
   "outputs": [
    {
     "data": {
      "text/plain": [
       "2720    5\n",
       "3372    5\n",
       "3327    5\n",
       "2756    8\n",
       "3299    7\n",
       "       ..\n",
       "3993    2\n",
       "2579    4\n",
       "485     5\n",
       "1214    0\n",
       "1966    2\n",
       "Name: Facies, Length: 3319, dtype: int64"
      ]
     },
     "execution_count": 82,
     "metadata": {},
     "output_type": "execute_result"
    }
   ],
   "source": [
    "train_data['y_train']['unbalance']"
   ]
  },
  {
   "cell_type": "code",
   "execution_count": 83,
   "metadata": {},
   "outputs": [
    {
     "data": {
      "text/html": [
       "<div>\n",
       "<style scoped>\n",
       "    .dataframe tbody tr th:only-of-type {\n",
       "        vertical-align: middle;\n",
       "    }\n",
       "\n",
       "    .dataframe tbody tr th {\n",
       "        vertical-align: top;\n",
       "    }\n",
       "\n",
       "    .dataframe thead th {\n",
       "        text-align: right;\n",
       "    }\n",
       "</style>\n",
       "<table border=\"1\" class=\"dataframe\">\n",
       "  <thead>\n",
       "    <tr style=\"text-align: right;\">\n",
       "      <th></th>\n",
       "      <th>GR</th>\n",
       "      <th>ILD_log10</th>\n",
       "      <th>DeltaPHI</th>\n",
       "      <th>PHIND</th>\n",
       "      <th>PE</th>\n",
       "      <th>marine</th>\n",
       "      <th>non_marine</th>\n",
       "    </tr>\n",
       "  </thead>\n",
       "  <tbody>\n",
       "    <tr>\n",
       "      <th>0</th>\n",
       "      <td>-0.371511</td>\n",
       "      <td>-2.615766</td>\n",
       "      <td>-0.303164</td>\n",
       "      <td>0.948955</td>\n",
       "      <td>-1.264262</td>\n",
       "      <td>-1.036521</td>\n",
       "      <td>1.036521</td>\n",
       "    </tr>\n",
       "    <tr>\n",
       "      <th>1</th>\n",
       "      <td>0.387820</td>\n",
       "      <td>-0.764688</td>\n",
       "      <td>0.954380</td>\n",
       "      <td>0.051060</td>\n",
       "      <td>-0.625841</td>\n",
       "      <td>-1.036521</td>\n",
       "      <td>1.036521</td>\n",
       "    </tr>\n",
       "    <tr>\n",
       "      <th>2</th>\n",
       "      <td>0.846530</td>\n",
       "      <td>-1.082182</td>\n",
       "      <td>0.766687</td>\n",
       "      <td>0.887007</td>\n",
       "      <td>-1.352238</td>\n",
       "      <td>-1.036521</td>\n",
       "      <td>1.036521</td>\n",
       "    </tr>\n",
       "    <tr>\n",
       "      <th>3</th>\n",
       "      <td>-0.099213</td>\n",
       "      <td>-0.124650</td>\n",
       "      <td>-0.209317</td>\n",
       "      <td>-0.617140</td>\n",
       "      <td>-0.579475</td>\n",
       "      <td>-1.036521</td>\n",
       "      <td>1.036521</td>\n",
       "    </tr>\n",
       "    <tr>\n",
       "      <th>4</th>\n",
       "      <td>-0.512273</td>\n",
       "      <td>-1.297631</td>\n",
       "      <td>-0.002855</td>\n",
       "      <td>-0.387446</td>\n",
       "      <td>-0.506954</td>\n",
       "      <td>-1.036521</td>\n",
       "      <td>1.036521</td>\n",
       "    </tr>\n",
       "    <tr>\n",
       "      <th>...</th>\n",
       "      <td>...</td>\n",
       "      <td>...</td>\n",
       "      <td>...</td>\n",
       "      <td>...</td>\n",
       "      <td>...</td>\n",
       "      <td>...</td>\n",
       "      <td>...</td>\n",
       "    </tr>\n",
       "    <tr>\n",
       "      <th>1012</th>\n",
       "      <td>-1.150825</td>\n",
       "      <td>0.745429</td>\n",
       "      <td>-1.037231</td>\n",
       "      <td>-0.280256</td>\n",
       "      <td>1.919523</td>\n",
       "      <td>0.964766</td>\n",
       "      <td>-0.964766</td>\n",
       "    </tr>\n",
       "    <tr>\n",
       "      <th>1013</th>\n",
       "      <td>-0.849761</td>\n",
       "      <td>0.281589</td>\n",
       "      <td>-0.659780</td>\n",
       "      <td>-0.437561</td>\n",
       "      <td>2.095475</td>\n",
       "      <td>0.964766</td>\n",
       "      <td>-0.964766</td>\n",
       "    </tr>\n",
       "    <tr>\n",
       "      <th>1014</th>\n",
       "      <td>-1.641228</td>\n",
       "      <td>1.197377</td>\n",
       "      <td>-2.367788</td>\n",
       "      <td>-0.763309</td>\n",
       "      <td>1.501042</td>\n",
       "      <td>0.964766</td>\n",
       "      <td>-0.964766</td>\n",
       "    </tr>\n",
       "    <tr>\n",
       "      <th>1015</th>\n",
       "      <td>-0.030381</td>\n",
       "      <td>-0.772955</td>\n",
       "      <td>1.273458</td>\n",
       "      <td>-0.351948</td>\n",
       "      <td>1.844679</td>\n",
       "      <td>0.964766</td>\n",
       "      <td>-0.964766</td>\n",
       "    </tr>\n",
       "    <tr>\n",
       "      <th>1016</th>\n",
       "      <td>-0.759347</td>\n",
       "      <td>-0.305150</td>\n",
       "      <td>-0.567248</td>\n",
       "      <td>0.465484</td>\n",
       "      <td>1.413066</td>\n",
       "      <td>0.964766</td>\n",
       "      <td>-0.964766</td>\n",
       "    </tr>\n",
       "  </tbody>\n",
       "</table>\n",
       "<p>1017 rows × 7 columns</p>\n",
       "</div>"
      ],
      "text/plain": [
       "            GR  ILD_log10  DeltaPHI     PHIND        PE    marine  non_marine\n",
       "0    -0.371511  -2.615766 -0.303164  0.948955 -1.264262 -1.036521    1.036521\n",
       "1     0.387820  -0.764688  0.954380  0.051060 -0.625841 -1.036521    1.036521\n",
       "2     0.846530  -1.082182  0.766687  0.887007 -1.352238 -1.036521    1.036521\n",
       "3    -0.099213  -0.124650 -0.209317 -0.617140 -0.579475 -1.036521    1.036521\n",
       "4    -0.512273  -1.297631 -0.002855 -0.387446 -0.506954 -1.036521    1.036521\n",
       "...        ...        ...       ...       ...       ...       ...         ...\n",
       "1012 -1.150825   0.745429 -1.037231 -0.280256  1.919523  0.964766   -0.964766\n",
       "1013 -0.849761   0.281589 -0.659780 -0.437561  2.095475  0.964766   -0.964766\n",
       "1014 -1.641228   1.197377 -2.367788 -0.763309  1.501042  0.964766   -0.964766\n",
       "1015 -0.030381  -0.772955  1.273458 -0.351948  1.844679  0.964766   -0.964766\n",
       "1016 -0.759347  -0.305150 -0.567248  0.465484  1.413066  0.964766   -0.964766\n",
       "\n",
       "[1017 rows x 7 columns]"
      ]
     },
     "execution_count": 83,
     "metadata": {},
     "output_type": "execute_result"
    }
   ],
   "source": [
    "train_data['X_train']['rus']"
   ]
  },
  {
   "cell_type": "code",
   "execution_count": 84,
   "metadata": {},
   "outputs": [
    {
     "data": {
      "text/plain": [
       "0       0\n",
       "1       0\n",
       "2       0\n",
       "3       0\n",
       "4       0\n",
       "       ..\n",
       "1012    8\n",
       "1013    8\n",
       "1014    8\n",
       "1015    8\n",
       "1016    8\n",
       "Name: Facies, Length: 1017, dtype: int64"
      ]
     },
     "execution_count": 84,
     "metadata": {},
     "output_type": "execute_result"
    }
   ],
   "source": [
    "train_data['y_train']['rus']"
   ]
  },
  {
   "cell_type": "code",
   "execution_count": 85,
   "metadata": {},
   "outputs": [
    {
     "data": {
      "text/html": [
       "<div>\n",
       "<style scoped>\n",
       "    .dataframe tbody tr th:only-of-type {\n",
       "        vertical-align: middle;\n",
       "    }\n",
       "\n",
       "    .dataframe tbody tr th {\n",
       "        vertical-align: top;\n",
       "    }\n",
       "\n",
       "    .dataframe thead th {\n",
       "        text-align: right;\n",
       "    }\n",
       "</style>\n",
       "<table border=\"1\" class=\"dataframe\">\n",
       "  <thead>\n",
       "    <tr style=\"text-align: right;\">\n",
       "      <th></th>\n",
       "      <th>GR</th>\n",
       "      <th>ILD_log10</th>\n",
       "      <th>DeltaPHI</th>\n",
       "      <th>PHIND</th>\n",
       "      <th>PE</th>\n",
       "      <th>marine</th>\n",
       "      <th>non_marine</th>\n",
       "    </tr>\n",
       "  </thead>\n",
       "  <tbody>\n",
       "    <tr>\n",
       "      <th>0</th>\n",
       "      <td>-0.547132</td>\n",
       "      <td>1.102230</td>\n",
       "      <td>-0.059163</td>\n",
       "      <td>-0.881636</td>\n",
       "      <td>0.431062</td>\n",
       "      <td>0.964766</td>\n",
       "      <td>-0.964766</td>\n",
       "    </tr>\n",
       "    <tr>\n",
       "      <th>1</th>\n",
       "      <td>-0.484870</td>\n",
       "      <td>0.567029</td>\n",
       "      <td>0.328611</td>\n",
       "      <td>-0.348468</td>\n",
       "      <td>-0.709061</td>\n",
       "      <td>0.964766</td>\n",
       "      <td>-0.964766</td>\n",
       "    </tr>\n",
       "    <tr>\n",
       "      <th>2</th>\n",
       "      <td>1.173602</td>\n",
       "      <td>-0.352723</td>\n",
       "      <td>-0.103083</td>\n",
       "      <td>-0.001143</td>\n",
       "      <td>-0.600875</td>\n",
       "      <td>0.964766</td>\n",
       "      <td>-0.964766</td>\n",
       "    </tr>\n",
       "    <tr>\n",
       "      <th>3</th>\n",
       "      <td>-0.849761</td>\n",
       "      <td>0.281589</td>\n",
       "      <td>-0.659780</td>\n",
       "      <td>-0.437561</td>\n",
       "      <td>2.095475</td>\n",
       "      <td>0.964766</td>\n",
       "      <td>-0.964766</td>\n",
       "    </tr>\n",
       "    <tr>\n",
       "      <th>4</th>\n",
       "      <td>-0.832740</td>\n",
       "      <td>0.836612</td>\n",
       "      <td>-1.020339</td>\n",
       "      <td>-1.094904</td>\n",
       "      <td>0.930386</td>\n",
       "      <td>0.964766</td>\n",
       "      <td>-0.964766</td>\n",
       "    </tr>\n",
       "    <tr>\n",
       "      <th>...</th>\n",
       "      <td>...</td>\n",
       "      <td>...</td>\n",
       "      <td>...</td>\n",
       "      <td>...</td>\n",
       "      <td>...</td>\n",
       "      <td>...</td>\n",
       "      <td>...</td>\n",
       "    </tr>\n",
       "    <tr>\n",
       "      <th>6763</th>\n",
       "      <td>-1.405490</td>\n",
       "      <td>0.511527</td>\n",
       "      <td>-0.074741</td>\n",
       "      <td>-0.446958</td>\n",
       "      <td>1.844679</td>\n",
       "      <td>0.964766</td>\n",
       "      <td>-0.964766</td>\n",
       "    </tr>\n",
       "    <tr>\n",
       "      <th>6764</th>\n",
       "      <td>-1.107183</td>\n",
       "      <td>0.630460</td>\n",
       "      <td>-1.095228</td>\n",
       "      <td>-0.481969</td>\n",
       "      <td>1.454676</td>\n",
       "      <td>0.964766</td>\n",
       "      <td>-0.964766</td>\n",
       "    </tr>\n",
       "    <tr>\n",
       "      <th>6765</th>\n",
       "      <td>-0.728982</td>\n",
       "      <td>0.384664</td>\n",
       "      <td>0.410633</td>\n",
       "      <td>-0.603985</td>\n",
       "      <td>1.844679</td>\n",
       "      <td>0.964766</td>\n",
       "      <td>-0.964766</td>\n",
       "    </tr>\n",
       "    <tr>\n",
       "      <th>6766</th>\n",
       "      <td>-1.505129</td>\n",
       "      <td>3.342144</td>\n",
       "      <td>-0.580762</td>\n",
       "      <td>-0.933352</td>\n",
       "      <td>1.844679</td>\n",
       "      <td>0.964766</td>\n",
       "      <td>-0.964766</td>\n",
       "    </tr>\n",
       "    <tr>\n",
       "      <th>6767</th>\n",
       "      <td>-1.577910</td>\n",
       "      <td>1.391635</td>\n",
       "      <td>-2.912098</td>\n",
       "      <td>-0.408327</td>\n",
       "      <td>1.382155</td>\n",
       "      <td>0.964766</td>\n",
       "      <td>-0.964766</td>\n",
       "    </tr>\n",
       "  </tbody>\n",
       "</table>\n",
       "<p>6768 rows × 7 columns</p>\n",
       "</div>"
      ],
      "text/plain": [
       "            GR  ILD_log10  DeltaPHI     PHIND        PE    marine  non_marine\n",
       "0    -0.547132   1.102230 -0.059163 -0.881636  0.431062  0.964766   -0.964766\n",
       "1    -0.484870   0.567029  0.328611 -0.348468 -0.709061  0.964766   -0.964766\n",
       "2     1.173602  -0.352723 -0.103083 -0.001143 -0.600875  0.964766   -0.964766\n",
       "3    -0.849761   0.281589 -0.659780 -0.437561  2.095475  0.964766   -0.964766\n",
       "4    -0.832740   0.836612 -1.020339 -1.094904  0.930386  0.964766   -0.964766\n",
       "...        ...        ...       ...       ...       ...       ...         ...\n",
       "6763 -1.405490   0.511527 -0.074741 -0.446958  1.844679  0.964766   -0.964766\n",
       "6764 -1.107183   0.630460 -1.095228 -0.481969  1.454676  0.964766   -0.964766\n",
       "6765 -0.728982   0.384664  0.410633 -0.603985  1.844679  0.964766   -0.964766\n",
       "6766 -1.505129   3.342144 -0.580762 -0.933352  1.844679  0.964766   -0.964766\n",
       "6767 -1.577910   1.391635 -2.912098 -0.408327  1.382155  0.964766   -0.964766\n",
       "\n",
       "[6768 rows x 7 columns]"
      ]
     },
     "execution_count": 85,
     "metadata": {},
     "output_type": "execute_result"
    }
   ],
   "source": [
    "train_data['X_train']['ros']"
   ]
  },
  {
   "cell_type": "code",
   "execution_count": 86,
   "metadata": {},
   "outputs": [
    {
     "data": {
      "text/plain": [
       "0       5\n",
       "1       5\n",
       "2       5\n",
       "3       8\n",
       "4       7\n",
       "       ..\n",
       "6763    8\n",
       "6764    8\n",
       "6765    8\n",
       "6766    8\n",
       "6767    8\n",
       "Name: Facies, Length: 6768, dtype: int64"
      ]
     },
     "execution_count": 86,
     "metadata": {},
     "output_type": "execute_result"
    }
   ],
   "source": [
    "train_data['y_train']['ros']"
   ]
  },
  {
   "cell_type": "code",
   "execution_count": 87,
   "metadata": {},
   "outputs": [
    {
     "data": {
      "text/html": [
       "<div>\n",
       "<style scoped>\n",
       "    .dataframe tbody tr th:only-of-type {\n",
       "        vertical-align: middle;\n",
       "    }\n",
       "\n",
       "    .dataframe tbody tr th {\n",
       "        vertical-align: top;\n",
       "    }\n",
       "\n",
       "    .dataframe thead th {\n",
       "        text-align: right;\n",
       "    }\n",
       "</style>\n",
       "<table border=\"1\" class=\"dataframe\">\n",
       "  <thead>\n",
       "    <tr style=\"text-align: right;\">\n",
       "      <th></th>\n",
       "      <th>GR</th>\n",
       "      <th>ILD_log10</th>\n",
       "      <th>DeltaPHI</th>\n",
       "      <th>PHIND</th>\n",
       "      <th>PE</th>\n",
       "      <th>marine</th>\n",
       "      <th>non_marine</th>\n",
       "    </tr>\n",
       "  </thead>\n",
       "  <tbody>\n",
       "    <tr>\n",
       "      <th>0</th>\n",
       "      <td>-0.547132</td>\n",
       "      <td>1.102230</td>\n",
       "      <td>-0.059163</td>\n",
       "      <td>-0.881636</td>\n",
       "      <td>0.431062</td>\n",
       "      <td>0.964766</td>\n",
       "      <td>-0.964766</td>\n",
       "    </tr>\n",
       "    <tr>\n",
       "      <th>1</th>\n",
       "      <td>-0.484870</td>\n",
       "      <td>0.567029</td>\n",
       "      <td>0.328611</td>\n",
       "      <td>-0.348468</td>\n",
       "      <td>-0.709061</td>\n",
       "      <td>0.964766</td>\n",
       "      <td>-0.964766</td>\n",
       "    </tr>\n",
       "    <tr>\n",
       "      <th>2</th>\n",
       "      <td>1.173602</td>\n",
       "      <td>-0.352723</td>\n",
       "      <td>-0.103083</td>\n",
       "      <td>-0.001143</td>\n",
       "      <td>-0.600875</td>\n",
       "      <td>0.964766</td>\n",
       "      <td>-0.964766</td>\n",
       "    </tr>\n",
       "    <tr>\n",
       "      <th>3</th>\n",
       "      <td>-0.849761</td>\n",
       "      <td>0.281589</td>\n",
       "      <td>-0.659780</td>\n",
       "      <td>-0.437561</td>\n",
       "      <td>2.095475</td>\n",
       "      <td>0.964766</td>\n",
       "      <td>-0.964766</td>\n",
       "    </tr>\n",
       "    <tr>\n",
       "      <th>4</th>\n",
       "      <td>-0.832740</td>\n",
       "      <td>0.836612</td>\n",
       "      <td>-1.020339</td>\n",
       "      <td>-1.094904</td>\n",
       "      <td>0.930386</td>\n",
       "      <td>0.964766</td>\n",
       "      <td>-0.964766</td>\n",
       "    </tr>\n",
       "    <tr>\n",
       "      <th>...</th>\n",
       "      <td>...</td>\n",
       "      <td>...</td>\n",
       "      <td>...</td>\n",
       "      <td>...</td>\n",
       "      <td>...</td>\n",
       "      <td>...</td>\n",
       "      <td>...</td>\n",
       "    </tr>\n",
       "    <tr>\n",
       "      <th>6763</th>\n",
       "      <td>-0.529774</td>\n",
       "      <td>-1.102472</td>\n",
       "      <td>1.194133</td>\n",
       "      <td>-0.099288</td>\n",
       "      <td>1.844679</td>\n",
       "      <td>0.964766</td>\n",
       "      <td>-0.964766</td>\n",
       "    </tr>\n",
       "    <tr>\n",
       "      <th>6764</th>\n",
       "      <td>-0.937302</td>\n",
       "      <td>0.401211</td>\n",
       "      <td>-0.328319</td>\n",
       "      <td>-0.753619</td>\n",
       "      <td>2.197027</td>\n",
       "      <td>0.964766</td>\n",
       "      <td>-0.964766</td>\n",
       "    </tr>\n",
       "    <tr>\n",
       "      <th>6765</th>\n",
       "      <td>-0.790781</td>\n",
       "      <td>-1.665089</td>\n",
       "      <td>-0.501500</td>\n",
       "      <td>0.598621</td>\n",
       "      <td>2.489647</td>\n",
       "      <td>0.964766</td>\n",
       "      <td>-0.964766</td>\n",
       "    </tr>\n",
       "    <tr>\n",
       "      <th>6766</th>\n",
       "      <td>-0.868908</td>\n",
       "      <td>0.918584</td>\n",
       "      <td>-0.640673</td>\n",
       "      <td>-0.103336</td>\n",
       "      <td>1.124182</td>\n",
       "      <td>0.964766</td>\n",
       "      <td>-0.964766</td>\n",
       "    </tr>\n",
       "    <tr>\n",
       "      <th>6767</th>\n",
       "      <td>-0.897577</td>\n",
       "      <td>-1.691944</td>\n",
       "      <td>-0.600707</td>\n",
       "      <td>0.543467</td>\n",
       "      <td>2.231763</td>\n",
       "      <td>0.964766</td>\n",
       "      <td>-0.964766</td>\n",
       "    </tr>\n",
       "  </tbody>\n",
       "</table>\n",
       "<p>6768 rows × 7 columns</p>\n",
       "</div>"
      ],
      "text/plain": [
       "            GR  ILD_log10  DeltaPHI     PHIND        PE    marine  non_marine\n",
       "0    -0.547132   1.102230 -0.059163 -0.881636  0.431062  0.964766   -0.964766\n",
       "1    -0.484870   0.567029  0.328611 -0.348468 -0.709061  0.964766   -0.964766\n",
       "2     1.173602  -0.352723 -0.103083 -0.001143 -0.600875  0.964766   -0.964766\n",
       "3    -0.849761   0.281589 -0.659780 -0.437561  2.095475  0.964766   -0.964766\n",
       "4    -0.832740   0.836612 -1.020339 -1.094904  0.930386  0.964766   -0.964766\n",
       "...        ...        ...       ...       ...       ...       ...         ...\n",
       "6763 -0.529774  -1.102472  1.194133 -0.099288  1.844679  0.964766   -0.964766\n",
       "6764 -0.937302   0.401211 -0.328319 -0.753619  2.197027  0.964766   -0.964766\n",
       "6765 -0.790781  -1.665089 -0.501500  0.598621  2.489647  0.964766   -0.964766\n",
       "6766 -0.868908   0.918584 -0.640673 -0.103336  1.124182  0.964766   -0.964766\n",
       "6767 -0.897577  -1.691944 -0.600707  0.543467  2.231763  0.964766   -0.964766\n",
       "\n",
       "[6768 rows x 7 columns]"
      ]
     },
     "execution_count": 87,
     "metadata": {},
     "output_type": "execute_result"
    }
   ],
   "source": [
    "train_data['X_train']['smote']"
   ]
  },
  {
   "cell_type": "code",
   "execution_count": 88,
   "metadata": {},
   "outputs": [
    {
     "data": {
      "text/plain": [
       "0       5\n",
       "1       5\n",
       "2       5\n",
       "3       8\n",
       "4       7\n",
       "       ..\n",
       "6763    8\n",
       "6764    8\n",
       "6765    8\n",
       "6766    8\n",
       "6767    8\n",
       "Name: Facies, Length: 6768, dtype: int64"
      ]
     },
     "execution_count": 88,
     "metadata": {},
     "output_type": "execute_result"
    }
   ],
   "source": [
    "train_data['y_train']['smote']"
   ]
  },
  {
   "cell_type": "markdown",
   "metadata": {},
   "source": [
    "this **train_data** dictionary will consist of X_train and y_train for unbalance, undersampling, oversampling, and SMOTE train data. I will try this all sampling into machine learning model"
   ]
  },
  {
   "cell_type": "markdown",
   "metadata": {},
   "source": [
    "## H. Feature Engineering on Test Data"
   ]
  },
  {
   "cell_type": "markdown",
   "metadata": {},
   "source": [
    "we will do what has been done on the training data into the testing data"
   ]
  },
  {
   "cell_type": "code",
   "execution_count": 89,
   "metadata": {},
   "outputs": [],
   "source": [
    "X_test_numerical, X_test_categorical = split_numerical_categorical(data=X_test_clean)"
   ]
  },
  {
   "cell_type": "code",
   "execution_count": 90,
   "metadata": {},
   "outputs": [
    {
     "name": "stdout",
     "output_type": "stream",
     "text": [
      "<class 'pandas.core.frame.DataFrame'>\n",
      "Int64Index: 830 entries, 1226 to 1401\n",
      "Data columns (total 10 columns):\n",
      " #   Column     Non-Null Count  Dtype  \n",
      "---  ------     --------------  -----  \n",
      " 0   Formation  830 non-null    object \n",
      " 1   Well Name  830 non-null    object \n",
      " 2   Depth      830 non-null    float64\n",
      " 3   GR         830 non-null    float64\n",
      " 4   ILD_log10  830 non-null    float64\n",
      " 5   DeltaPHI   830 non-null    float64\n",
      " 6   PHIND      830 non-null    float64\n",
      " 7   PE         830 non-null    float64\n",
      " 8   NM_M       830 non-null    int32  \n",
      " 9   RELPOS     830 non-null    float64\n",
      "dtypes: float64(7), int32(1), object(2)\n",
      "memory usage: 68.1+ KB\n"
     ]
    }
   ],
   "source": [
    "X_test_clean.info()"
   ]
  },
  {
   "cell_type": "code",
   "execution_count": 91,
   "metadata": {},
   "outputs": [
    {
     "data": {
      "text/html": [
       "<div>\n",
       "<style scoped>\n",
       "    .dataframe tbody tr th:only-of-type {\n",
       "        vertical-align: middle;\n",
       "    }\n",
       "\n",
       "    .dataframe tbody tr th {\n",
       "        vertical-align: top;\n",
       "    }\n",
       "\n",
       "    .dataframe thead th {\n",
       "        text-align: right;\n",
       "    }\n",
       "</style>\n",
       "<table border=\"1\" class=\"dataframe\">\n",
       "  <thead>\n",
       "    <tr style=\"text-align: right;\">\n",
       "      <th></th>\n",
       "      <th>GR</th>\n",
       "      <th>ILD_log10</th>\n",
       "      <th>DeltaPHI</th>\n",
       "      <th>PHIND</th>\n",
       "      <th>PE</th>\n",
       "    </tr>\n",
       "  </thead>\n",
       "  <tbody>\n",
       "    <tr>\n",
       "      <th>1226</th>\n",
       "      <td>66.187</td>\n",
       "      <td>0.510411</td>\n",
       "      <td>-12.800</td>\n",
       "      <td>28.000</td>\n",
       "      <td>2.788000</td>\n",
       "    </tr>\n",
       "    <tr>\n",
       "      <th>2561</th>\n",
       "      <td>66.400</td>\n",
       "      <td>0.606000</td>\n",
       "      <td>4.500</td>\n",
       "      <td>10.650</td>\n",
       "      <td>3.100000</td>\n",
       "    </tr>\n",
       "    <tr>\n",
       "      <th>1643</th>\n",
       "      <td>61.994</td>\n",
       "      <td>0.797000</td>\n",
       "      <td>6.988</td>\n",
       "      <td>9.147</td>\n",
       "      <td>3.204093</td>\n",
       "    </tr>\n",
       "    <tr>\n",
       "      <th>1122</th>\n",
       "      <td>97.407</td>\n",
       "      <td>0.609167</td>\n",
       "      <td>-6.800</td>\n",
       "      <td>24.700</td>\n",
       "      <td>3.058000</td>\n",
       "    </tr>\n",
       "    <tr>\n",
       "      <th>4077</th>\n",
       "      <td>52.620</td>\n",
       "      <td>0.913000</td>\n",
       "      <td>4.700</td>\n",
       "      <td>8.500</td>\n",
       "      <td>4.234412</td>\n",
       "    </tr>\n",
       "  </tbody>\n",
       "</table>\n",
       "</div>"
      ],
      "text/plain": [
       "          GR  ILD_log10  DeltaPHI   PHIND        PE\n",
       "1226  66.187   0.510411   -12.800  28.000  2.788000\n",
       "2561  66.400   0.606000     4.500  10.650  3.100000\n",
       "1643  61.994   0.797000     6.988   9.147  3.204093\n",
       "1122  97.407   0.609167    -6.800  24.700  3.058000\n",
       "4077  52.620   0.913000     4.700   8.500  4.234412"
      ]
     },
     "execution_count": 91,
     "metadata": {},
     "output_type": "execute_result"
    }
   ],
   "source": [
    "X_test_numerical.head(5)"
   ]
  },
  {
   "cell_type": "code",
   "execution_count": 92,
   "metadata": {},
   "outputs": [
    {
     "data": {
      "text/plain": [
       "1226    2\n",
       "2561    1\n",
       "1643    1\n",
       "1122    1\n",
       "4077    2\n",
       "Name: NM_M, dtype: int32"
      ]
     },
     "execution_count": 92,
     "metadata": {},
     "output_type": "execute_result"
    }
   ],
   "source": [
    "X_test_categorical.head(5)"
   ]
  },
  {
   "cell_type": "code",
   "execution_count": 93,
   "metadata": {},
   "outputs": [],
   "source": [
    "def categorical_handling_test_data(data:pd.Series, ohe:OneHotEncoder) -> pd.DataFrame:\n",
    "    non_marine_marine_label = {1:\"non_marine\",2:\"marine\"}\n",
    "    data_marine = data.map(non_marine_marine_label)\n",
    "    ohe_data = ohe.transform(np.array(data_marine.to_list()).reshape(-1,1))\n",
    "    ohe_data = pd.DataFrame(data=ohe_data, columns=list(ohe_train.categories_[0]), index=data_marine.index)\n",
    "    \n",
    "    return ohe_data"
   ]
  },
  {
   "cell_type": "code",
   "execution_count": 94,
   "metadata": {},
   "outputs": [],
   "source": [
    "X_test_categorical = categorical_handling_test_data(data=X_test_categorical, ohe=ohe_train)"
   ]
  },
  {
   "cell_type": "code",
   "execution_count": 95,
   "metadata": {},
   "outputs": [
    {
     "data": {
      "text/html": [
       "<div>\n",
       "<style scoped>\n",
       "    .dataframe tbody tr th:only-of-type {\n",
       "        vertical-align: middle;\n",
       "    }\n",
       "\n",
       "    .dataframe tbody tr th {\n",
       "        vertical-align: top;\n",
       "    }\n",
       "\n",
       "    .dataframe thead th {\n",
       "        text-align: right;\n",
       "    }\n",
       "</style>\n",
       "<table border=\"1\" class=\"dataframe\">\n",
       "  <thead>\n",
       "    <tr style=\"text-align: right;\">\n",
       "      <th></th>\n",
       "      <th>marine</th>\n",
       "      <th>non_marine</th>\n",
       "    </tr>\n",
       "  </thead>\n",
       "  <tbody>\n",
       "    <tr>\n",
       "      <th>1226</th>\n",
       "      <td>1.0</td>\n",
       "      <td>0.0</td>\n",
       "    </tr>\n",
       "    <tr>\n",
       "      <th>2561</th>\n",
       "      <td>0.0</td>\n",
       "      <td>1.0</td>\n",
       "    </tr>\n",
       "    <tr>\n",
       "      <th>1643</th>\n",
       "      <td>0.0</td>\n",
       "      <td>1.0</td>\n",
       "    </tr>\n",
       "    <tr>\n",
       "      <th>1122</th>\n",
       "      <td>0.0</td>\n",
       "      <td>1.0</td>\n",
       "    </tr>\n",
       "    <tr>\n",
       "      <th>4077</th>\n",
       "      <td>1.0</td>\n",
       "      <td>0.0</td>\n",
       "    </tr>\n",
       "  </tbody>\n",
       "</table>\n",
       "</div>"
      ],
      "text/plain": [
       "      marine  non_marine\n",
       "1226     1.0         0.0\n",
       "2561     0.0         1.0\n",
       "1643     0.0         1.0\n",
       "1122     0.0         1.0\n",
       "4077     1.0         0.0"
      ]
     },
     "execution_count": 95,
     "metadata": {},
     "output_type": "execute_result"
    }
   ],
   "source": [
    "X_test_categorical.head(5)"
   ]
  },
  {
   "cell_type": "code",
   "execution_count": 96,
   "metadata": {},
   "outputs": [],
   "source": [
    "def normalize_test_data(numerical_data:pd.DataFrame, categorical_data:pd.DataFrame, scaler:StandardScaler) -> pd.DataFrame:\n",
    "    data = pd.concat([numerical_data, categorical_data], axis=1)\n",
    "    normalized_data = scaler.transform(data.values)\n",
    "    normalized_data = pd.DataFrame(data=normalized_data, index=data.index, columns=data.columns)\n",
    "    \n",
    "    return normalized_data"
   ]
  },
  {
   "cell_type": "code",
   "execution_count": 97,
   "metadata": {},
   "outputs": [],
   "source": [
    "X_test = normalize_test_data(numerical_data=X_test_numerical,\n",
    "                            categorical_data=X_test_categorical,\n",
    "                            scaler=standard_scaler_train)"
   ]
  },
  {
   "cell_type": "code",
   "execution_count": 110,
   "metadata": {},
   "outputs": [
    {
     "data": {
      "text/plain": [
       "7.001054772853159"
      ]
     },
     "execution_count": 110,
     "metadata": {},
     "output_type": "execute_result"
    }
   ],
   "source": [
    "X_train.std().sum()"
   ]
  },
  {
   "cell_type": "code",
   "execution_count": 99,
   "metadata": {},
   "outputs": [
    {
     "data": {
      "text/html": [
       "<div>\n",
       "<style scoped>\n",
       "    .dataframe tbody tr th:only-of-type {\n",
       "        vertical-align: middle;\n",
       "    }\n",
       "\n",
       "    .dataframe tbody tr th {\n",
       "        vertical-align: top;\n",
       "    }\n",
       "\n",
       "    .dataframe thead th {\n",
       "        text-align: right;\n",
       "    }\n",
       "</style>\n",
       "<table border=\"1\" class=\"dataframe\">\n",
       "  <thead>\n",
       "    <tr style=\"text-align: right;\">\n",
       "      <th></th>\n",
       "      <th>GR</th>\n",
       "      <th>ILD_log10</th>\n",
       "      <th>DeltaPHI</th>\n",
       "      <th>PHIND</th>\n",
       "      <th>PE</th>\n",
       "      <th>marine</th>\n",
       "      <th>non_marine</th>\n",
       "    </tr>\n",
       "  </thead>\n",
       "  <tbody>\n",
       "    <tr>\n",
       "      <th>1226</th>\n",
       "      <td>0.050196</td>\n",
       "      <td>-0.600855</td>\n",
       "      <td>-3.231176</td>\n",
       "      <td>2.062623</td>\n",
       "      <td>-1.128731</td>\n",
       "      <td>0.964766</td>\n",
       "      <td>-0.964766</td>\n",
       "    </tr>\n",
       "    <tr>\n",
       "      <th>2561</th>\n",
       "      <td>0.057447</td>\n",
       "      <td>-0.221897</td>\n",
       "      <td>0.015915</td>\n",
       "      <td>-0.352644</td>\n",
       "      <td>-0.757805</td>\n",
       "      <td>-1.036521</td>\n",
       "      <td>1.036521</td>\n",
       "    </tr>\n",
       "    <tr>\n",
       "      <th>1643</th>\n",
       "      <td>-0.092540</td>\n",
       "      <td>0.535313</td>\n",
       "      <td>0.482895</td>\n",
       "      <td>-0.561874</td>\n",
       "      <td>-0.634052</td>\n",
       "      <td>-1.036521</td>\n",
       "      <td>1.036521</td>\n",
       "    </tr>\n",
       "    <tr>\n",
       "      <th>1122</th>\n",
       "      <td>1.112974</td>\n",
       "      <td>-0.209340</td>\n",
       "      <td>-2.105017</td>\n",
       "      <td>1.603235</td>\n",
       "      <td>-0.807737</td>\n",
       "      <td>-1.036521</td>\n",
       "      <td>1.036521</td>\n",
       "    </tr>\n",
       "    <tr>\n",
       "      <th>4077</th>\n",
       "      <td>-0.411646</td>\n",
       "      <td>0.995190</td>\n",
       "      <td>0.053453</td>\n",
       "      <td>-0.651942</td>\n",
       "      <td>0.590860</td>\n",
       "      <td>0.964766</td>\n",
       "      <td>-0.964766</td>\n",
       "    </tr>\n",
       "  </tbody>\n",
       "</table>\n",
       "</div>"
      ],
      "text/plain": [
       "            GR  ILD_log10  DeltaPHI     PHIND        PE    marine  non_marine\n",
       "1226  0.050196  -0.600855 -3.231176  2.062623 -1.128731  0.964766   -0.964766\n",
       "2561  0.057447  -0.221897  0.015915 -0.352644 -0.757805 -1.036521    1.036521\n",
       "1643 -0.092540   0.535313  0.482895 -0.561874 -0.634052 -1.036521    1.036521\n",
       "1122  1.112974  -0.209340 -2.105017  1.603235 -0.807737 -1.036521    1.036521\n",
       "4077 -0.411646   0.995190  0.053453 -0.651942  0.590860  0.964766   -0.964766"
      ]
     },
     "execution_count": 99,
     "metadata": {},
     "output_type": "execute_result"
    }
   ],
   "source": [
    "X_test.head(5)"
   ]
  },
  {
   "cell_type": "code",
   "execution_count": 100,
   "metadata": {},
   "outputs": [
    {
     "data": {
      "text/html": [
       "<div>\n",
       "<style scoped>\n",
       "    .dataframe tbody tr th:only-of-type {\n",
       "        vertical-align: middle;\n",
       "    }\n",
       "\n",
       "    .dataframe tbody tr th {\n",
       "        vertical-align: top;\n",
       "    }\n",
       "\n",
       "    .dataframe thead th {\n",
       "        text-align: right;\n",
       "    }\n",
       "</style>\n",
       "<table border=\"1\" class=\"dataframe\">\n",
       "  <thead>\n",
       "    <tr style=\"text-align: right;\">\n",
       "      <th></th>\n",
       "      <th>GR</th>\n",
       "      <th>ILD_log10</th>\n",
       "      <th>DeltaPHI</th>\n",
       "      <th>PHIND</th>\n",
       "      <th>PE</th>\n",
       "      <th>marine</th>\n",
       "      <th>non_marine</th>\n",
       "    </tr>\n",
       "  </thead>\n",
       "  <tbody>\n",
       "    <tr>\n",
       "      <th>count</th>\n",
       "      <td>830.000000</td>\n",
       "      <td>830.000000</td>\n",
       "      <td>830.000000</td>\n",
       "      <td>830.000000</td>\n",
       "      <td>830.000000</td>\n",
       "      <td>830.000000</td>\n",
       "      <td>830.000000</td>\n",
       "    </tr>\n",
       "    <tr>\n",
       "      <th>mean</th>\n",
       "      <td>0.037697</td>\n",
       "      <td>-0.047678</td>\n",
       "      <td>-0.011939</td>\n",
       "      <td>0.012426</td>\n",
       "      <td>0.015956</td>\n",
       "      <td>0.005113</td>\n",
       "      <td>-0.005113</td>\n",
       "    </tr>\n",
       "    <tr>\n",
       "      <th>std</th>\n",
       "      <td>1.148706</td>\n",
       "      <td>1.008222</td>\n",
       "      <td>0.949220</td>\n",
       "      <td>0.964157</td>\n",
       "      <td>0.992184</td>\n",
       "      <td>1.000406</td>\n",
       "      <td>1.000406</td>\n",
       "    </tr>\n",
       "    <tr>\n",
       "      <th>min</th>\n",
       "      <td>-1.751863</td>\n",
       "      <td>-2.671927</td>\n",
       "      <td>-4.263488</td>\n",
       "      <td>-1.590903</td>\n",
       "      <td>-3.254425</td>\n",
       "      <td>-1.036521</td>\n",
       "      <td>-0.964766</td>\n",
       "    </tr>\n",
       "    <tr>\n",
       "      <th>25%</th>\n",
       "      <td>-0.676064</td>\n",
       "      <td>-0.685737</td>\n",
       "      <td>-0.522624</td>\n",
       "      <td>-0.640632</td>\n",
       "      <td>-0.721831</td>\n",
       "      <td>-1.036521</td>\n",
       "      <td>-0.964766</td>\n",
       "    </tr>\n",
       "    <tr>\n",
       "      <th>50%</th>\n",
       "      <td>0.002980</td>\n",
       "      <td>-0.142608</td>\n",
       "      <td>-0.057192</td>\n",
       "      <td>-0.146268</td>\n",
       "      <td>-0.153266</td>\n",
       "      <td>0.964766</td>\n",
       "      <td>-0.964766</td>\n",
       "    </tr>\n",
       "    <tr>\n",
       "      <th>75%</th>\n",
       "      <td>0.484830</td>\n",
       "      <td>0.605682</td>\n",
       "      <td>0.522686</td>\n",
       "      <td>0.421738</td>\n",
       "      <td>0.668835</td>\n",
       "      <td>0.964766</td>\n",
       "      <td>1.036521</td>\n",
       "    </tr>\n",
       "    <tr>\n",
       "      <th>max</th>\n",
       "      <td>10.009159</td>\n",
       "      <td>4.361008</td>\n",
       "      <td>2.796025</td>\n",
       "      <td>5.948627</td>\n",
       "      <td>5.179395</td>\n",
       "      <td>0.964766</td>\n",
       "      <td>1.036521</td>\n",
       "    </tr>\n",
       "  </tbody>\n",
       "</table>\n",
       "</div>"
      ],
      "text/plain": [
       "               GR   ILD_log10    DeltaPHI       PHIND          PE      marine  \\\n",
       "count  830.000000  830.000000  830.000000  830.000000  830.000000  830.000000   \n",
       "mean     0.037697   -0.047678   -0.011939    0.012426    0.015956    0.005113   \n",
       "std      1.148706    1.008222    0.949220    0.964157    0.992184    1.000406   \n",
       "min     -1.751863   -2.671927   -4.263488   -1.590903   -3.254425   -1.036521   \n",
       "25%     -0.676064   -0.685737   -0.522624   -0.640632   -0.721831   -1.036521   \n",
       "50%      0.002980   -0.142608   -0.057192   -0.146268   -0.153266    0.964766   \n",
       "75%      0.484830    0.605682    0.522686    0.421738    0.668835    0.964766   \n",
       "max     10.009159    4.361008    2.796025    5.948627    5.179395    0.964766   \n",
       "\n",
       "       non_marine  \n",
       "count  830.000000  \n",
       "mean    -0.005113  \n",
       "std      1.000406  \n",
       "min     -0.964766  \n",
       "25%     -0.964766  \n",
       "50%     -0.964766  \n",
       "75%      1.036521  \n",
       "max      1.036521  "
      ]
     },
     "execution_count": 100,
     "metadata": {},
     "output_type": "execute_result"
    }
   ],
   "source": [
    "X_test.describe()"
   ]
  },
  {
   "cell_type": "code",
   "execution_count": 101,
   "metadata": {},
   "outputs": [],
   "source": [
    "y_test_numerical = facies_encoder(y_test_clean)"
   ]
  },
  {
   "cell_type": "code",
   "execution_count": 102,
   "metadata": {},
   "outputs": [
    {
     "data": {
      "text/plain": [
       "1226    4\n",
       "2561    1\n",
       "1643    1\n",
       "1122    1\n",
       "4077    5\n",
       "Name: Facies, dtype: int64"
      ]
     },
     "execution_count": 102,
     "metadata": {},
     "output_type": "execute_result"
    }
   ],
   "source": [
    "y_test_numerical.head(5)"
   ]
  },
  {
   "cell_type": "code",
   "execution_count": 103,
   "metadata": {},
   "outputs": [],
   "source": [
    "def create_test_data (X_data:pd.DataFrame, y_data:pd.DataFrame) -> dict:\n",
    "    test_data = {'X_test':X_data, 'y_test':y_data}\n",
    "    return test_data"
   ]
  },
  {
   "cell_type": "code",
   "execution_count": 104,
   "metadata": {},
   "outputs": [],
   "source": [
    "test_data = create_test_data(X_data=X_test, y_data=y_test_numerical)"
   ]
  },
  {
   "cell_type": "code",
   "execution_count": 105,
   "metadata": {},
   "outputs": [],
   "source": [
    "util.dump_pickle(data=test_data, file_path=config['data_modeling_path'][1])"
   ]
  },
  {
   "cell_type": "code",
   "execution_count": 106,
   "metadata": {},
   "outputs": [
    {
     "data": {
      "text/plain": [
       "{'X_test':             GR  ILD_log10  DeltaPHI     PHIND        PE    marine  non_marine\n",
       " 1226  0.050196  -0.600855 -3.231176  2.062623 -1.128731  0.964766   -0.964766\n",
       " 2561  0.057447  -0.221897  0.015915 -0.352644 -0.757805 -1.036521    1.036521\n",
       " 1643 -0.092540   0.535313  0.482895 -0.561874 -0.634052 -1.036521    1.036521\n",
       " 1122  1.112974  -0.209340 -2.105017  1.603235 -0.807737 -1.036521    1.036521\n",
       " 4077 -0.411646   0.995190  0.053453 -0.651942  0.590860  0.964766   -0.964766\n",
       " ...        ...        ...       ...       ...       ...       ...         ...\n",
       " 4099  0.228676   0.412416  0.147300 -0.076315  0.081348  0.964766   -0.964766\n",
       " 3422 -1.076342   1.431279 -0.302413 -0.689389  0.743734  0.964766   -0.964766\n",
       " 3204  0.218463  -0.154501 -2.743174  1.564953 -0.995578 -1.036521    1.036521\n",
       " 382  -1.031679   1.098265 -0.939631 -1.113975  0.437006  0.964766   -0.964766\n",
       " 1401  0.008495  -0.285328  0.359018 -0.263133 -0.721831 -1.036521    1.036521\n",
       " \n",
       " [830 rows x 7 columns],\n",
       " 'y_test': 1226    4\n",
       " 2561    1\n",
       " 1643    1\n",
       " 1122    1\n",
       " 4077    5\n",
       "        ..\n",
       " 4099    3\n",
       " 3422    7\n",
       " 3204    2\n",
       " 382     4\n",
       " 1401    2\n",
       " Name: Facies, Length: 830, dtype: int64}"
      ]
     },
     "execution_count": 106,
     "metadata": {},
     "output_type": "execute_result"
    }
   ],
   "source": [
    "test_data"
   ]
  },
  {
   "cell_type": "markdown",
   "metadata": {},
   "source": [
    "here test data consist of X_test and y_test that has been engineered as train data, then we will use this train data and test data dictionary for modeling purpose"
   ]
  },
  {
   "cell_type": "code",
   "execution_count": 62,
   "metadata": {},
   "outputs": [
    {
     "data": {
      "text/html": [
       "<div>\n",
       "<style scoped>\n",
       "    .dataframe tbody tr th:only-of-type {\n",
       "        vertical-align: middle;\n",
       "    }\n",
       "\n",
       "    .dataframe tbody tr th {\n",
       "        vertical-align: top;\n",
       "    }\n",
       "\n",
       "    .dataframe thead th {\n",
       "        text-align: right;\n",
       "    }\n",
       "</style>\n",
       "<table border=\"1\" class=\"dataframe\">\n",
       "  <thead>\n",
       "    <tr style=\"text-align: right;\">\n",
       "      <th></th>\n",
       "      <th>GR</th>\n",
       "      <th>ILD_log10</th>\n",
       "      <th>DeltaPHI</th>\n",
       "      <th>PHIND</th>\n",
       "      <th>PE</th>\n",
       "      <th>marine</th>\n",
       "      <th>non_marine</th>\n",
       "    </tr>\n",
       "  </thead>\n",
       "  <tbody>\n",
       "    <tr>\n",
       "      <th>1226</th>\n",
       "      <td>0.050196</td>\n",
       "      <td>-0.600855</td>\n",
       "      <td>-3.231176</td>\n",
       "      <td>2.062623</td>\n",
       "      <td>-1.128731</td>\n",
       "      <td>0.964766</td>\n",
       "      <td>-0.964766</td>\n",
       "    </tr>\n",
       "    <tr>\n",
       "      <th>2561</th>\n",
       "      <td>0.057447</td>\n",
       "      <td>-0.221897</td>\n",
       "      <td>0.015915</td>\n",
       "      <td>-0.352644</td>\n",
       "      <td>-0.757805</td>\n",
       "      <td>-1.036521</td>\n",
       "      <td>1.036521</td>\n",
       "    </tr>\n",
       "    <tr>\n",
       "      <th>1643</th>\n",
       "      <td>-0.092540</td>\n",
       "      <td>0.535313</td>\n",
       "      <td>0.482895</td>\n",
       "      <td>-0.561874</td>\n",
       "      <td>-0.634052</td>\n",
       "      <td>-1.036521</td>\n",
       "      <td>1.036521</td>\n",
       "    </tr>\n",
       "    <tr>\n",
       "      <th>1122</th>\n",
       "      <td>1.112974</td>\n",
       "      <td>-0.209340</td>\n",
       "      <td>-2.105017</td>\n",
       "      <td>1.603235</td>\n",
       "      <td>-0.807737</td>\n",
       "      <td>-1.036521</td>\n",
       "      <td>1.036521</td>\n",
       "    </tr>\n",
       "    <tr>\n",
       "      <th>4077</th>\n",
       "      <td>-0.411646</td>\n",
       "      <td>0.995190</td>\n",
       "      <td>0.053453</td>\n",
       "      <td>-0.651942</td>\n",
       "      <td>0.590860</td>\n",
       "      <td>0.964766</td>\n",
       "      <td>-0.964766</td>\n",
       "    </tr>\n",
       "    <tr>\n",
       "      <th>...</th>\n",
       "      <td>...</td>\n",
       "      <td>...</td>\n",
       "      <td>...</td>\n",
       "      <td>...</td>\n",
       "      <td>...</td>\n",
       "      <td>...</td>\n",
       "      <td>...</td>\n",
       "    </tr>\n",
       "    <tr>\n",
       "      <th>4099</th>\n",
       "      <td>0.228676</td>\n",
       "      <td>0.412416</td>\n",
       "      <td>0.147300</td>\n",
       "      <td>-0.076315</td>\n",
       "      <td>0.081348</td>\n",
       "      <td>0.964766</td>\n",
       "      <td>-0.964766</td>\n",
       "    </tr>\n",
       "    <tr>\n",
       "      <th>3422</th>\n",
       "      <td>-1.076342</td>\n",
       "      <td>1.431279</td>\n",
       "      <td>-0.302413</td>\n",
       "      <td>-0.689389</td>\n",
       "      <td>0.743734</td>\n",
       "      <td>0.964766</td>\n",
       "      <td>-0.964766</td>\n",
       "    </tr>\n",
       "    <tr>\n",
       "      <th>3204</th>\n",
       "      <td>0.218463</td>\n",
       "      <td>-0.154501</td>\n",
       "      <td>-2.743174</td>\n",
       "      <td>1.564953</td>\n",
       "      <td>-0.995578</td>\n",
       "      <td>-1.036521</td>\n",
       "      <td>1.036521</td>\n",
       "    </tr>\n",
       "    <tr>\n",
       "      <th>382</th>\n",
       "      <td>-1.031679</td>\n",
       "      <td>1.098265</td>\n",
       "      <td>-0.939631</td>\n",
       "      <td>-1.113975</td>\n",
       "      <td>0.437006</td>\n",
       "      <td>0.964766</td>\n",
       "      <td>-0.964766</td>\n",
       "    </tr>\n",
       "    <tr>\n",
       "      <th>1401</th>\n",
       "      <td>0.008495</td>\n",
       "      <td>-0.285328</td>\n",
       "      <td>0.359018</td>\n",
       "      <td>-0.263133</td>\n",
       "      <td>-0.721831</td>\n",
       "      <td>-1.036521</td>\n",
       "      <td>1.036521</td>\n",
       "    </tr>\n",
       "  </tbody>\n",
       "</table>\n",
       "<p>830 rows × 7 columns</p>\n",
       "</div>"
      ],
      "text/plain": [
       "            GR  ILD_log10  DeltaPHI     PHIND        PE    marine  non_marine\n",
       "1226  0.050196  -0.600855 -3.231176  2.062623 -1.128731  0.964766   -0.964766\n",
       "2561  0.057447  -0.221897  0.015915 -0.352644 -0.757805 -1.036521    1.036521\n",
       "1643 -0.092540   0.535313  0.482895 -0.561874 -0.634052 -1.036521    1.036521\n",
       "1122  1.112974  -0.209340 -2.105017  1.603235 -0.807737 -1.036521    1.036521\n",
       "4077 -0.411646   0.995190  0.053453 -0.651942  0.590860  0.964766   -0.964766\n",
       "...        ...        ...       ...       ...       ...       ...         ...\n",
       "4099  0.228676   0.412416  0.147300 -0.076315  0.081348  0.964766   -0.964766\n",
       "3422 -1.076342   1.431279 -0.302413 -0.689389  0.743734  0.964766   -0.964766\n",
       "3204  0.218463  -0.154501 -2.743174  1.564953 -0.995578 -1.036521    1.036521\n",
       "382  -1.031679   1.098265 -0.939631 -1.113975  0.437006  0.964766   -0.964766\n",
       "1401  0.008495  -0.285328  0.359018 -0.263133 -0.721831 -1.036521    1.036521\n",
       "\n",
       "[830 rows x 7 columns]"
      ]
     },
     "execution_count": 62,
     "metadata": {},
     "output_type": "execute_result"
    }
   ],
   "source": [
    "test_data['X_test']"
   ]
  }
 ],
 "metadata": {
  "kernelspec": {
   "display_name": "Python 3.9.12 ('base')",
   "language": "python",
   "name": "python3"
  },
  "language_info": {
   "codemirror_mode": {
    "name": "ipython",
    "version": 3
   },
   "file_extension": ".py",
   "mimetype": "text/x-python",
   "name": "python",
   "nbconvert_exporter": "python",
   "pygments_lexer": "ipython3",
   "version": "3.9.12"
  },
  "orig_nbformat": 4,
  "vscode": {
   "interpreter": {
    "hash": "34e617279dcb4f9d491a2221293956721f8be46cd74f3e42d7ebd6a28f1373b7"
   }
  }
 },
 "nbformat": 4,
 "nbformat_minor": 2
}
