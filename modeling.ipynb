{
 "cells": [
  {
   "cell_type": "markdown",
   "metadata": {},
   "source": [
    "# Modeling"
   ]
  },
  {
   "cell_type": "markdown",
   "metadata": {},
   "source": [
    "## A. Import Library"
   ]
  },
  {
   "cell_type": "code",
   "execution_count": 1,
   "metadata": {},
   "outputs": [],
   "source": [
    "import warnings\n",
    "warnings.filterwarnings('ignore')"
   ]
  },
  {
   "cell_type": "code",
   "execution_count": 54,
   "metadata": {},
   "outputs": [],
   "source": [
    "import numpy as np     # for calculation\n",
    "import pandas as pd     # for manipulating DataFrame\n",
    "import seaborn as sns     # for plotting data\n",
    "import matplotlib.pyplot as plt     # for plotting data\n",
    "import yaml     # for interacting with config.yaml  \n",
    "import src.util as util     # import common function\n",
    "import os     # library for interacting with directory"
   ]
  },
  {
   "cell_type": "code",
   "execution_count": 3,
   "metadata": {},
   "outputs": [],
   "source": [
    "from sklearn.dummy import DummyClassifier\n",
    "from sklearn.neighbors import KNeighborsClassifier\n",
    "from sklearn.linear_model import LogisticRegression\n",
    "from sklearn.svm import SVC\n",
    "from sklearn.tree import DecisionTreeClassifier\n",
    "from sklearn.ensemble import RandomForestClassifier\n",
    "from xgboost import XGBClassifier\n",
    "from sklearn.model_selection import GridSearchCV"
   ]
  },
  {
   "cell_type": "code",
   "execution_count": 4,
   "metadata": {},
   "outputs": [],
   "source": [
    "from sklearn.metrics import confusion_matrix"
   ]
  },
  {
   "cell_type": "markdown",
   "metadata": {},
   "source": [
    "## B. Import Data"
   ]
  },
  {
   "cell_type": "code",
   "execution_count": 49,
   "metadata": {},
   "outputs": [],
   "source": [
    "config = util.load_config()"
   ]
  },
  {
   "cell_type": "code",
   "execution_count": 50,
   "metadata": {},
   "outputs": [
    {
     "data": {
      "text/plain": [
       "{'raw_dataset_dir': 'data/raw/',\n",
       " 'raw_data_path': 'data/processed/raw_data.pkl',\n",
       " 'data_train_path': ['data/processed/X_train_clean.pkl',\n",
       "  'data/processed/y_train_clean.pkl'],\n",
       " 'data_test_path': ['data/processed/X_test_clean.pkl',\n",
       "  'data/processed/y_test_clean.pkl'],\n",
       " 'data_modeling_path': ['data/processed/train_data_modeling.pkl',\n",
       "  'data/processed/test_data_modeling.pkl'],\n",
       " 'ohe_train_path': 'models/ohe_train.pkl',\n",
       " 'standard_scaler_path': 'models/standard_scaler_train.pkl',\n",
       " 'modeling_summary': 'models/modeling_summary.pkl',\n",
       " 'production_model': 'models/production_model.pkl'}"
      ]
     },
     "execution_count": 50,
     "metadata": {},
     "output_type": "execute_result"
    }
   ],
   "source": [
    "config"
   ]
  },
  {
   "cell_type": "code",
   "execution_count": 7,
   "metadata": {},
   "outputs": [],
   "source": [
    "train_data = util.load_pickle(file_path=config['data_modeling_path'][0])\n",
    "test_data = util.load_pickle(file_path=config['data_modeling_path'][1])"
   ]
  },
  {
   "cell_type": "code",
   "execution_count": 8,
   "metadata": {},
   "outputs": [
    {
     "data": {
      "text/plain": [
       "{'X_train': {'unbalance':             GR  ILD_log10  DeltaPHI     PHIND        PE    marine  non_marine\n",
       "  2720 -0.547132   1.102230 -0.059163 -0.881636  0.431062  0.964766   -0.964766\n",
       "  3372 -0.484870   0.567029  0.328611 -0.348468 -0.709061  0.964766   -0.964766\n",
       "  3327  1.173602  -0.352723 -0.103083 -0.001143 -0.600875  0.964766   -0.964766\n",
       "  2756 -0.849761   0.281589 -0.659780 -0.437561  2.095475  0.964766   -0.964766\n",
       "  3299 -0.832740   0.836612 -1.020339 -1.094904  0.930386  0.964766   -0.964766\n",
       "  ...        ...        ...       ...       ...       ...       ...         ...\n",
       "  3993  0.818616  -0.590590  1.367305  0.818795 -0.721831 -1.036521    1.036521\n",
       "  2579 -1.297748   0.023899  0.034684 -0.930359  0.549948  0.964766   -0.964766\n",
       "  485  -0.330627   0.959510 -0.359472 -1.146132  0.431062  0.964766   -0.964766\n",
       "  1214  0.176967  -1.944712  0.147300  0.433884 -0.986067 -1.036521    1.036521\n",
       "  1966  0.096594   1.205306 -0.040393 -1.121075  1.619928 -1.036521    1.036521\n",
       "  \n",
       "  [3319 rows x 7 columns],\n",
       "  'rus':             GR  ILD_log10  DeltaPHI     PHIND        PE    marine  non_marine\n",
       "  0    -0.227924  -2.403294 -0.115470  0.893272 -1.249996 -1.036521    1.036521\n",
       "  1    -0.157934  -2.540349 -0.284394  0.872390 -1.269018 -1.036521    1.036521\n",
       "  2    -0.202631  -1.220938 -0.171778  0.522977 -1.233352 -1.036521    1.036521\n",
       "  3    -0.170291  -1.054431 -0.678550  0.096303 -0.995578 -1.036521    1.036521\n",
       "  4    -0.463219  -1.685615 -0.021624  0.635736 -1.211952 -1.036521    1.036521\n",
       "  ...        ...        ...       ...       ...       ...       ...         ...\n",
       "  1012 -0.423186  -0.697631 -0.137994  0.561677  4.653916  0.964766   -0.964766\n",
       "  1013 -0.989332  -1.169400 -1.748400  0.482607  1.025495  0.964766   -0.964766\n",
       "  1014  0.316163   0.420344 -0.783095 -0.489068  2.299960  0.964766   -0.964766\n",
       "  1015 -0.849761   0.281589 -0.659780 -0.437561  2.095475  0.964766   -0.964766\n",
       "  1016 -1.143540   0.166620 -0.509626 -0.258678  1.857702  0.964766   -0.964766\n",
       "  \n",
       "  [1017 rows x 7 columns],\n",
       "  'ros':             GR  ILD_log10  DeltaPHI     PHIND        PE    marine  non_marine\n",
       "  0    -0.547132   1.102230 -0.059163 -0.881636  0.431062  0.964766   -0.964766\n",
       "  1    -0.484870   0.567029  0.328611 -0.348468 -0.709061  0.964766   -0.964766\n",
       "  2     1.173602  -0.352723 -0.103083 -0.001143 -0.600875  0.964766   -0.964766\n",
       "  3    -0.849761   0.281589 -0.659780 -0.437561  2.095475  0.964766   -0.964766\n",
       "  4    -0.832740   0.836612 -1.020339 -1.094904  0.930386  0.964766   -0.964766\n",
       "  ...        ...        ...       ...       ...       ...       ...         ...\n",
       "  6763 -0.728982   0.384664  0.410633 -0.603985  1.844679  0.964766   -0.964766\n",
       "  6764 -1.226601   0.186442 -0.472087 -0.280952  1.976588  0.964766   -0.964766\n",
       "  6765 -1.107183   0.630460 -1.095228 -0.481969  1.454676  0.964766   -0.964766\n",
       "  6766 -0.500835  -1.197151 -1.523169  0.607894  1.025495  0.964766   -0.964766\n",
       "  6767 -0.030381  -0.772955  1.273458 -0.351948  1.844679  0.964766   -0.964766\n",
       "  \n",
       "  [6768 rows x 7 columns],\n",
       "  'smote':             GR  ILD_log10  DeltaPHI     PHIND        PE    marine  non_marine\n",
       "  0    -0.547132   1.102230 -0.059163 -0.881636  0.431062  0.964766   -0.964766\n",
       "  1    -0.484870   0.567029  0.328611 -0.348468 -0.709061  0.964766   -0.964766\n",
       "  2     1.173602  -0.352723 -0.103083 -0.001143 -0.600875  0.964766   -0.964766\n",
       "  3    -0.849761   0.281589 -0.659780 -0.437561  2.095475  0.964766   -0.964766\n",
       "  4    -0.832740   0.836612 -1.020339 -1.094904  0.930386  0.964766   -0.964766\n",
       "  ...        ...        ...       ...       ...       ...       ...         ...\n",
       "  6763 -1.157348   0.218810 -0.510399 -0.340623  1.976588  0.964766   -0.964766\n",
       "  6764 -0.828790  -1.646645 -0.668051  0.449483  1.684276  0.964766   -0.964766\n",
       "  6765 -0.995238  -1.205080 -2.058025  0.622967  1.025495  0.964766   -0.964766\n",
       "  6766 -0.675522  -0.508466 -0.706055  0.421924  1.789494  0.964766   -0.964766\n",
       "  6767 -1.127974   0.685230 -1.067599 -0.385876  1.676122  0.964766   -0.964766\n",
       "  \n",
       "  [6768 rows x 7 columns]},\n",
       " 'y_train': {'unbalance': 2720    5\n",
       "  3372    5\n",
       "  3327    5\n",
       "  2756    8\n",
       "  3299    7\n",
       "         ..\n",
       "  3993    2\n",
       "  2579    4\n",
       "  485     5\n",
       "  1214    0\n",
       "  1966    2\n",
       "  Name: Facies, Length: 3319, dtype: int64,\n",
       "  'rus': 0       0\n",
       "  1       0\n",
       "  2       0\n",
       "  3       0\n",
       "  4       0\n",
       "         ..\n",
       "  1012    8\n",
       "  1013    8\n",
       "  1014    8\n",
       "  1015    8\n",
       "  1016    8\n",
       "  Name: Facies, Length: 1017, dtype: int64,\n",
       "  'ros': 0       5\n",
       "  1       5\n",
       "  2       5\n",
       "  3       8\n",
       "  4       7\n",
       "         ..\n",
       "  6763    8\n",
       "  6764    8\n",
       "  6765    8\n",
       "  6766    8\n",
       "  6767    8\n",
       "  Name: Facies, Length: 6768, dtype: int64,\n",
       "  'smote': 0       5\n",
       "  1       5\n",
       "  2       5\n",
       "  3       8\n",
       "  4       7\n",
       "         ..\n",
       "  6763    8\n",
       "  6764    8\n",
       "  6765    8\n",
       "  6766    8\n",
       "  6767    8\n",
       "  Name: Facies, Length: 6768, dtype: int64}}"
      ]
     },
     "execution_count": 8,
     "metadata": {},
     "output_type": "execute_result"
    }
   ],
   "source": [
    "train_data"
   ]
  },
  {
   "cell_type": "code",
   "execution_count": 10,
   "metadata": {},
   "outputs": [
    {
     "data": {
      "text/plain": [
       "{'X_test':             GR  ILD_log10  DeltaPHI     PHIND        PE    marine  non_marine\n",
       " 1226  0.050196  -0.600855 -3.231176  2.062623 -1.128731  0.964766   -0.964766\n",
       " 2561  0.057447  -0.221897  0.015915 -0.352644 -0.757805 -1.036521    1.036521\n",
       " 1643 -0.092540   0.535313  0.482895 -0.561874 -0.634052 -1.036521    1.036521\n",
       " 1122  1.112974  -0.209340 -2.105017  1.603235 -0.807737 -1.036521    1.036521\n",
       " 4077 -0.411646   0.995190  0.053453 -0.651942  0.590860  0.964766   -0.964766\n",
       " ...        ...        ...       ...       ...       ...       ...         ...\n",
       " 4099  0.228676   0.412416  0.147300 -0.076315  0.081348  0.964766   -0.964766\n",
       " 3422 -1.076342   1.431279 -0.302413 -0.689389  0.743734  0.964766   -0.964766\n",
       " 3204  0.218463  -0.154501 -2.743174  1.564953 -0.995578 -1.036521    1.036521\n",
       " 382  -1.031679   1.098265 -0.939631 -1.113975  0.437006  0.964766   -0.964766\n",
       " 1401  0.008495  -0.285328  0.359018 -0.263133 -0.721831 -1.036521    1.036521\n",
       " \n",
       " [830 rows x 7 columns],\n",
       " 'y_test': 1226    4\n",
       " 2561    1\n",
       " 1643    1\n",
       " 1122    1\n",
       " 4077    5\n",
       "        ..\n",
       " 4099    3\n",
       " 3422    7\n",
       " 3204    2\n",
       " 382     4\n",
       " 1401    2\n",
       " Name: Facies, Length: 830, dtype: int64}"
      ]
     },
     "execution_count": 10,
     "metadata": {},
     "output_type": "execute_result"
    }
   ],
   "source": [
    "test_data"
   ]
  },
  {
   "cell_type": "markdown",
   "metadata": {},
   "source": [
    "## B. Create Baseline Model"
   ]
  },
  {
   "cell_type": "code",
   "execution_count": 11,
   "metadata": {},
   "outputs": [],
   "source": [
    "dummy_clf = DummyClassifier(strategy=\"most_frequent\")\n",
    "dummy_clf.fit(X=train_data[\"X_train\"][\"unbalance\"],\n",
    "              y=train_data[\"y_train\"][\"unbalance\"])\n",
    "y_pred_dummy = dummy_clf.predict(train_data[\"X_train\"][\"unbalance\"])"
   ]
  },
  {
   "cell_type": "code",
   "execution_count": 12,
   "metadata": {},
   "outputs": [
    {
     "name": "stdout",
     "output_type": "stream",
     "text": [
      "     Pred    SS  CSiS  FSiS  SiSh    MS    WS     D    PS    BS Total\n",
      "     True\n",
      "       SS     0   214     0     0     0     0     0     0     0   214\n",
      "     CSiS     0   752     0     0     0     0     0     0     0   752\n",
      "     FSiS     0   624     0     0     0     0     0     0     0   624\n",
      "     SiSh     0   217     0     0     0     0     0     0     0   217\n",
      "       MS     0   237     0     0     0     0     0     0     0   237\n",
      "       WS     0   465     0     0     0     0     0     0     0   465\n",
      "        D     0   113     0     0     0     0     0     0     0   113\n",
      "       PS     0   549     0     0     0     0     0     0     0   549\n",
      "       BS     0   148     0     0     0     0     0     0     0   148\n",
      "\n",
      "Precision  0.00  0.23  0.00  0.00  0.00  0.00  0.00  0.00  0.00  0.05\n",
      "   Recall  0.00  1.00  0.00  0.00  0.00  0.00  0.00  0.00  0.00  0.23\n",
      "       F1  0.00  0.37  0.00  0.00  0.00  0.00  0.00  0.00  0.00  0.08\n",
      "Facies classification accuracy = 0.23\n",
      "---------------------------------------------------------------------\n",
      "     Pred    SS  CSiS  FSiS  SiSh    MS    WS     D    PS    BS Total\n",
      "     True\n",
      "       SS   214     0     0     0     0     0     0     0     0   214\n",
      "     CSiS     0   752     0     0     0     0     0     0     0   752\n",
      "     FSiS     0     0   624     0     0     0     0     0     0   624\n",
      "     SiSh     0   217     0     0     0     0     0     0     0   217\n",
      "       MS     0   237     0     0     0     0     0     0     0   237\n",
      "       WS     0   465     0     0     0     0     0     0     0   465\n",
      "        D     0   113     0     0     0     0     0     0     0   113\n",
      "       PS     0   549     0     0     0     0     0     0     0   549\n",
      "       BS     0   148     0     0     0     0     0     0     0   148\n",
      "Adjacent facies classification accuracy = 0.48\n"
     ]
    }
   ],
   "source": [
    "dummy_conf_matrix = confusion_matrix(y_true=train_data[\"y_train\"][\"unbalance\"], \n",
    "                                     y_pred=y_pred_dummy)\n",
    "util.display_cm(dummy_conf_matrix, hide_zeros=False, display_metrics=True)\n",
    "print('Facies classification accuracy = %.2f' % util.accuracy(dummy_conf_matrix))\n",
    "print(\"---------------------------------------------------------------------\")\n",
    "util.display_adj_cm(cm=dummy_conf_matrix)\n",
    "print('Adjacent facies classification accuracy = %.2f' % util.accuracy_adjacent(dummy_conf_matrix))"
   ]
  },
  {
   "cell_type": "markdown",
   "metadata": {},
   "source": [
    "from the baseline model score, we need to create model which have accuracy more than 0.23 and adjacent accuracy for more than 0.48"
   ]
  },
  {
   "cell_type": "markdown",
   "metadata": {},
   "source": [
    "## C. Create Model Object"
   ]
  },
  {
   "cell_type": "code",
   "execution_count": 24,
   "metadata": {},
   "outputs": [],
   "source": [
    "def create_model_object() -> list:\n",
    "    knn = KNeighborsClassifier()       # create object k-nearest neighbors classifier\n",
    "    dct = DecisionTreeClassifier()     # create object decision tree classifier\n",
    "    logreg = LogisticRegression()      # create object logistic regression\n",
    "    svm = SVC()                        # create object support vector machine\n",
    "    rfc = RandomForestClassifier()     # create object random forest classifier\n",
    "    xgb = XGBClassifier()              # create object extreme gradient boosting classifier\n",
    "    \n",
    "    list_of_model = [\n",
    "        {\"model_name\" : knn.__class__.__name__, \"model_object\":knn},\n",
    "        {\"model_name\" : dct.__class__.__name__, \"model_object\":dct},\n",
    "        {\"model_name\" : logreg.__class__.__name__, \"model_object\":logreg},\n",
    "        {\"model_name\" : svm.__class__.__name__, \"model_object\":svm},\n",
    "        {\"model_name\" : rfc.__class__.__name__, \"model_object\":rfc},\n",
    "        {\"model_name\" : xgb.__class__.__name__, \"model_object\":xgb}]\n",
    "    return list_of_model"
   ]
  },
  {
   "cell_type": "code",
   "execution_count": 25,
   "metadata": {},
   "outputs": [
    {
     "data": {
      "text/plain": [
       "[{'model_name': 'KNeighborsClassifier',\n",
       "  'model_object': KNeighborsClassifier()},\n",
       " {'model_name': 'DecisionTreeClassifier',\n",
       "  'model_object': DecisionTreeClassifier()},\n",
       " {'model_name': 'LogisticRegression', 'model_object': LogisticRegression()},\n",
       " {'model_name': 'SVC', 'model_object': SVC()},\n",
       " {'model_name': 'RandomForestClassifier',\n",
       "  'model_object': RandomForestClassifier()},\n",
       " {'model_name': 'XGBClassifier',\n",
       "  'model_object': XGBClassifier(base_score=None, booster=None, callbacks=None,\n",
       "                colsample_bylevel=None, colsample_bynode=None,\n",
       "                colsample_bytree=None, early_stopping_rounds=None,\n",
       "                enable_categorical=False, eval_metric=None, feature_types=None,\n",
       "                gamma=None, gpu_id=None, grow_policy=None, importance_type=None,\n",
       "                interaction_constraints=None, learning_rate=None, max_bin=None,\n",
       "                max_cat_threshold=None, max_cat_to_onehot=None,\n",
       "                max_delta_step=None, max_depth=None, max_leaves=None,\n",
       "                min_child_weight=None, missing=nan, monotone_constraints=None,\n",
       "                n_estimators=100, n_jobs=None, num_parallel_tree=None,\n",
       "                predictor=None, random_state=None, ...)}]"
      ]
     },
     "execution_count": 25,
     "metadata": {},
     "output_type": "execute_result"
    }
   ],
   "source": [
    "model = create_model_object()\n",
    "model"
   ]
  },
  {
   "cell_type": "code",
   "execution_count": 15,
   "metadata": {},
   "outputs": [],
   "source": [
    "def model_hyperparameter(model_name:str) -> dict:\n",
    "    knn_hyper_parameter = {\n",
    "        \"algorithm\" : [\"ball_tree\", \"kd_tree\", \"brute\"],\n",
    "        \"n_neighbors\" : [2, 5, 10, 25],\n",
    "        \"leaf_size\" : [2, 5, 10, 25],\n",
    "    }\n",
    "    dct_hyper_parameter = {\n",
    "        \"criterion\" : [\"gini\", \"entropy\", \"log_loss\"],\n",
    "        \"max_depth\" : [1,5,10],\n",
    "        \"min_samples_split\" : [2, 5, 10],\n",
    "        \"min_samples_leaf\" : [1, 2, 4]\n",
    "    }\n",
    "    logreg_hyper_parameter = {\n",
    "        \"penalty\" : [\"l2\",\"l1\",\"elasticnet\"],\n",
    "        \"C\" : [0.01, 0.05, 0.1, 0.5, 1, 5, 10],\n",
    "        \"max_iter\" : np.arange(100,210,10)    \n",
    "    }\n",
    "    svm_hyper_parameter = {\n",
    "        \"C\" : [0.001, 0.05, 0.1, 1, 5, 10, 25, 50],\n",
    "        \"kernel\" : [\"linear\",\"rbf\"]\n",
    "    }\n",
    "    rfc_hyper_parameter = {\n",
    "        \"criterion\" : [\"gini\", \"entropy\", \"log_loss\"],\n",
    "        \"n_estimators\" : [1,5,10],\n",
    "        \"min_samples_split\" : [2, 5, 10],\n",
    "        \"min_samples_leaf\" : [1, 2, 4]\n",
    "    }\n",
    "    xgb_hyper_parameter = {\n",
    "        \"n_estimators\" : [1,5,10,25,50,100]\n",
    "    }\n",
    "        \n",
    "    list_of_hyper_parameter = {\n",
    "        \"KNeighborsClassifier\" : knn_hyper_parameter,\n",
    "        \"DecisionTreeClassifier\" : dct_hyper_parameter,\n",
    "        \"LogisticRegression\" : logreg_hyper_parameter,\n",
    "        \"SVC\" : svm_hyper_parameter,\n",
    "        \"RandomForestClassifier\" : rfc_hyper_parameter,\n",
    "        \"XGBClassifier\" : xgb_hyper_parameter\n",
    "    }\n",
    "    \n",
    "    return list_of_hyper_parameter[model_name]"
   ]
  },
  {
   "cell_type": "code",
   "execution_count": 65,
   "metadata": {},
   "outputs": [],
   "source": [
    "def brute_force_modeling(train_data:dict = train_data, test_data:dict = test_data) -> dict:\n",
    "    print(\"========== Starting Train Model ==========\")\n",
    "\n",
    "    list_of_model = create_model_object()\n",
    "    modeling_summary = {}\n",
    "\n",
    "    for model in list_of_model:\n",
    "        print(f\"-----Start Training model for {model['model_name']}-----\")\n",
    "        # create variable for storing indformation\n",
    "        model_summary = {}\n",
    "        model_summary['model_highest_accuracy']=0 \n",
    "\n",
    "        for data_type in [\"unbalance\",\"rus\",\"ros\",\"smote\"]:\n",
    "            # Experiment by GridSearch CV\n",
    "            print(f\"Training Model {model['model_name']} for {data_type} data...\")\n",
    "            model_cv = GridSearchCV(estimator = model['model_object'], param_grid=model_hyperparameter(model['model_name']), cv=10)\n",
    "            model_cv.fit(X = train_data[\"X_train\"][data_type].values, y=train_data[\"y_train\"][data_type])\n",
    "        \n",
    "\n",
    "            # Create the model with best params\n",
    "            # KNeighborsClassifier Modeling\n",
    "            if model['model_name'] == 'KNeighborsClassifier' :\n",
    "                model_train = KNeighborsClassifier(algorithm = model_cv.best_params_['algorithm'],\n",
    "                                            n_neighbors = model_cv.best_params_['n_neighbors'],\n",
    "                                            leaf_size = model_cv.best_params_['leaf_size'])\n",
    "            # DecisionTreeClassifier Modeling\n",
    "            elif model['model_name'] == \"DecisionTreeClassifier\" :\n",
    "                model_train = DecisionTreeClassifier(criterion = model_cv.best_params_['criterion'],\n",
    "                                               max_depth = model_cv.best_params_['max_depth'],\n",
    "                                               min_samples_leaf = model_cv.best_params_['min_samples_leaf'],\n",
    "                                               min_samples_split = model_cv.best_params_['min_samples_split'])\n",
    "            # LogisticRegression Modeling \n",
    "            elif model['model_name'] == 'LogisticRegression' :\n",
    "                model_train = LogisticRegression(penalty = model_cv.best_params_[\"penalty\"],\n",
    "                                           max_iter = model_cv.best_params_[\"max_iter\"],\n",
    "                                           C = model_cv.best_params_[\"C\"])\n",
    "            # SVC Modeling\n",
    "            elif model['model_name'] == 'SVC' :\n",
    "                model_train = SVC(C = model_cv.best_params_[\"C\"],\n",
    "                            kernel = model_cv.best_params_[\"kernel\"])\n",
    "            # RandomForestClassifier Modeling\n",
    "            elif model['model_name'] == 'RandomForestClassifier' :\n",
    "                model_train = RandomForestClassifier(n_estimators = model_cv.best_params_[\"n_estimators\"],\n",
    "                                               criterion = model_cv.best_params_[\"criterion\"],\n",
    "                                               min_samples_leaf = model_cv.best_params_[\"min_samples_leaf\"],\n",
    "                                               min_samples_split = model_cv.best_params_['min_samples_split'])                \n",
    "            # XGBClassifier Modeling\n",
    "            else :\n",
    "                model_train = XGBClassifier(n_estimators=model_cv.best_params_[\"n_estimators\"],\n",
    "                                            num_class=9)\n",
    "\n",
    "\n",
    "            # Fit best model to train data\n",
    "            model_train.fit(X=train_data[\"X_train\"][data_type].values,\n",
    "                        y=train_data[\"y_train\"][data_type])\n",
    "            \n",
    "            # Predict output using train data\n",
    "            y_train_pred  = model_train.predict(train_data[\"X_train\"][data_type].values)\n",
    "            \n",
    "            # create confusion matrix for training data\n",
    "            conf_train = confusion_matrix(y_true=train_data[\"y_train\"][data_type],\n",
    "                                        y_pred=y_train_pred)\n",
    "            \n",
    "            # Predict output using test data\n",
    "            y_test_pred = model_train.predict(test_data['X_test'].values)\n",
    "            \n",
    "            \n",
    "            # create confusion matrix for testing data\n",
    "            conf_test = confusion_matrix(y_true=test_data['y_test'], \n",
    "                                        y_pred=y_test_pred)\n",
    "            \n",
    "            # summarize the modeling\n",
    "            model_summary[data_type] = {\"model\":model_train, \n",
    "                                    \"cv_score\":model_cv.best_score_,\n",
    "                                    \"acc_train\":util.accuracy(conf_train), \n",
    "                                    \"adj_acc_train\":util.accuracy_adjacent(conf_train),\n",
    "                                    \"acc_test\": util.accuracy(conf_test),\n",
    "                                    \"adj_acc_test\":util.accuracy_adjacent(conf_test)}\n",
    "            \n",
    "            # get the best model from accuracy value\n",
    "            if model_summary[data_type][\"acc_test\"] > model_summary['model_highest_accuracy']:\n",
    "                model_summary['model_highest_accuracy'] = model_summary[data_type][\"acc_test\"] \n",
    "                model_summary['best_model'] = model_summary[data_type]['model']\n",
    "                model_summary['best_data'] = data_type\n",
    "                model_summary['model_best_score'] = {\"cv_score\" : model_summary[data_type][\"cv_score\"],\n",
    "                                                     \"acc_test\" : model_summary[data_type][\"acc_test\"],\n",
    "                                                     \"adj_acc_test\" : model_summary[data_type][\"adj_acc_test\"]}\n",
    "\n",
    "        # put modeling information into a dictionary\n",
    "        print(f\"-----End Training model for {model['model_name']}-----\")\n",
    "        modeling_summary[model['model_name']] = model_summary\n",
    "    print(\"========== Ending Train Model ==========\")     \n",
    "    return modeling_summary"
   ]
  },
  {
   "cell_type": "code",
   "execution_count": 64,
   "metadata": {},
   "outputs": [],
   "source": [
    "def train_model(train_data:pd.DataFrame = train_data, test_data:pd.DataFrame = test_data, retrain_model:bool=False):\n",
    "    if os.path.exists(\"models/production_model.pkl\"):\n",
    "        if retrain_model:\n",
    "            modeling_summary = brute_force_modeling(train_data=train_data, test_data=test_data)\n",
    "        else :\n",
    "            modeling_summary = util.load_pickle(config['modeling_summary'])\n",
    "    else:\n",
    "        modeling_summary = brute_force_modeling(train_data=train_data, test_data=test_data)\n",
    "    return modeling_summary  "
   ]
  },
  {
   "cell_type": "code",
   "execution_count": 63,
   "metadata": {},
   "outputs": [],
   "source": [
    "modeling_summary = train_model(train_data = train_data, test_data = test_data, retrain_model = False)"
   ]
  },
  {
   "cell_type": "code",
   "execution_count": 62,
   "metadata": {},
   "outputs": [
    {
     "data": {
      "text/plain": [
       "{'KNeighborsClassifier': {'model_highest_accuracy': 0.6879518072289157,\n",
       "  'unbalance': {'model': KNeighborsClassifier(algorithm='ball_tree', leaf_size=2),\n",
       "   'cv_score': 0.646873293779347,\n",
       "   'acc_train': 0.7824645977704128,\n",
       "   'adj_acc_train': 0.9427538415185297,\n",
       "   'acc_test': 0.6879518072289157,\n",
       "   'adj_acc_test': 0.9180722891566265},\n",
       "  'best_model': KNeighborsClassifier(algorithm='ball_tree', leaf_size=2),\n",
       "  'best_data': 'unbalance',\n",
       "  'model_best_score': {'cv_score': 0.646873293779347,\n",
       "   'acc_test': 0.6879518072289157,\n",
       "   'adj_acc_test': 0.9180722891566265},\n",
       "  'rus': {'model': KNeighborsClassifier(algorithm='ball_tree', leaf_size=2),\n",
       "   'cv_score': 0.6204135119394291,\n",
       "   'acc_train': 0.7453294001966568,\n",
       "   'adj_acc_train': 0.904621435594887,\n",
       "   'acc_test': 0.4903614457831325,\n",
       "   'adj_acc_test': 0.8734939759036144},\n",
       "  'ros': {'model': KNeighborsClassifier(algorithm='ball_tree', leaf_size=2, n_neighbors=2),\n",
       "   'cv_score': 0.8577259577145954,\n",
       "   'acc_train': 0.9491725768321513,\n",
       "   'adj_acc_train': 0.9895094562647754,\n",
       "   'acc_test': 0.6674698795180722,\n",
       "   'adj_acc_test': 0.9024096385542169},\n",
       "  'smote': {'model': KNeighborsClassifier(algorithm='ball_tree', leaf_size=2, n_neighbors=2),\n",
       "   'cv_score': 0.8479750989835072,\n",
       "   'acc_train': 0.9385342789598109,\n",
       "   'adj_acc_train': 0.983451536643026,\n",
       "   'acc_test': 0.6506024096385542,\n",
       "   'adj_acc_test': 0.9096385542168675}},\n",
       " 'DecisionTreeClassifier': {'model_highest_accuracy': 0.6518072289156627,\n",
       "  'unbalance': {'model': DecisionTreeClassifier(max_depth=10, min_samples_split=10),\n",
       "   'cv_score': 0.6513986459432897,\n",
       "   'acc_train': 0.8128954504368786,\n",
       "   'adj_acc_train': 0.955106959927689,\n",
       "   'acc_test': 0.6518072289156627,\n",
       "   'adj_acc_test': 0.9120481927710843},\n",
       "  'best_model': DecisionTreeClassifier(max_depth=10, min_samples_split=10),\n",
       "  'best_data': 'unbalance',\n",
       "  'model_best_score': {'cv_score': 0.6513986459432897,\n",
       "   'acc_test': 0.6518072289156627,\n",
       "   'adj_acc_test': 0.9120481927710843},\n",
       "  'rus': {'model': DecisionTreeClassifier(max_depth=10),\n",
       "   'cv_score': 0.6067171423024654,\n",
       "   'acc_train': 0.9252704031465093,\n",
       "   'adj_acc_train': 0.976401179941003,\n",
       "   'acc_test': 0.563855421686747,\n",
       "   'adj_acc_test': 0.8698795180722891},\n",
       "  'ros': {'model': DecisionTreeClassifier(criterion='log_loss', max_depth=10),\n",
       "   'cv_score': 0.8082250268763167,\n",
       "   'acc_train': 0.8674645390070922,\n",
       "   'adj_acc_train': 0.9661643026004728,\n",
       "   'acc_test': 0.6349397590361445,\n",
       "   'adj_acc_test': 0.8879518072289156},\n",
       "  'smote': {'model': DecisionTreeClassifier(criterion='entropy', max_depth=10),\n",
       "   'cv_score': 0.7662603899906479,\n",
       "   'acc_train': 0.852098108747045,\n",
       "   'adj_acc_train': 0.9636524822695035,\n",
       "   'acc_test': 0.6445783132530121,\n",
       "   'adj_acc_test': 0.8963855421686747}},\n",
       " 'LogisticRegression': {'model_highest_accuracy': 0.5843373493975904,\n",
       "  'unbalance': {'model': LogisticRegression(C=0.05),\n",
       "   'cv_score': 0.5661231026826339,\n",
       "   'acc_train': 0.5676408556794215,\n",
       "   'adj_acc_train': 0.9189514914130762,\n",
       "   'acc_test': 0.5843373493975904,\n",
       "   'adj_acc_test': 0.9048192771084337},\n",
       "  'best_model': LogisticRegression(C=0.05),\n",
       "  'best_data': 'unbalance',\n",
       "  'model_best_score': {'cv_score': 0.5661231026826339,\n",
       "   'acc_test': 0.5843373493975904,\n",
       "   'adj_acc_test': 0.9048192771084337},\n",
       "  'rus': {'model': LogisticRegression(C=0.05),\n",
       "   'cv_score': 0.5880217433508056,\n",
       "   'acc_train': 0.6066863323500492,\n",
       "   'adj_acc_train': 0.8741396263520157,\n",
       "   'acc_test': 0.491566265060241,\n",
       "   'adj_acc_test': 0.8710843373493976},\n",
       "  'ros': {'model': LogisticRegression(C=10, max_iter=110),\n",
       "   'cv_score': 0.5839262146784019,\n",
       "   'acc_train': 0.5865839243498818,\n",
       "   'adj_acc_train': 0.8863770685579196,\n",
       "   'acc_test': 0.5072289156626506,\n",
       "   'adj_acc_test': 0.8819277108433735},\n",
       "  'smote': {'model': LogisticRegression(C=10, max_iter=110),\n",
       "   'cv_score': 0.6046146416928145,\n",
       "   'acc_train': 0.6062352245862884,\n",
       "   'adj_acc_train': 0.8968676122931442,\n",
       "   'acc_test': 0.5228915662650603,\n",
       "   'adj_acc_test': 0.8831325301204819}},\n",
       " 'SVC': {'model_highest_accuracy': 0.6650602409638554,\n",
       "  'unbalance': {'model': SVC(C=50),\n",
       "   'cv_score': 0.6302933789538819,\n",
       "   'acc_train': 0.7080445917445014,\n",
       "   'adj_acc_train': 0.9487797529376318,\n",
       "   'acc_test': 0.6650602409638554,\n",
       "   'adj_acc_test': 0.9180722891566265},\n",
       "  'best_model': SVC(C=50),\n",
       "  'best_data': 'unbalance',\n",
       "  'model_best_score': {'cv_score': 0.6302933789538819,\n",
       "   'acc_test': 0.6650602409638554,\n",
       "   'adj_acc_test': 0.9180722891566265},\n",
       "  'rus': {'model': SVC(C=50),\n",
       "   'cv_score': 0.6293923509998057,\n",
       "   'acc_train': 0.7669616519174042,\n",
       "   'adj_acc_train': 0.9341199606686332,\n",
       "   'acc_test': 0.5493975903614458,\n",
       "   'adj_acc_test': 0.9},\n",
       "  'ros': {'model': SVC(C=50),\n",
       "   'cv_score': 0.7356775453838287,\n",
       "   'acc_train': 0.767434988179669,\n",
       "   'adj_acc_train': 0.9417848699763594,\n",
       "   'acc_test': 0.619277108433735,\n",
       "   'adj_acc_test': 0.9},\n",
       "  'smote': {'model': SVC(C=50),\n",
       "   'cv_score': 0.7386330661725504,\n",
       "   'acc_train': 0.7746749408983451,\n",
       "   'adj_acc_train': 0.9487293144208038,\n",
       "   'acc_test': 0.6156626506024097,\n",
       "   'adj_acc_test': 0.9096385542168675}},\n",
       " 'RandomForestClassifier': {'model_highest_accuracy': 0.7192771084337349,\n",
       "  'unbalance': {'model': RandomForestClassifier(criterion='entropy', min_samples_split=5,\n",
       "                          n_estimators=10),\n",
       "   'cv_score': 0.7050285735085356,\n",
       "   'acc_train': 0.9608315757758361,\n",
       "   'adj_acc_train': 0.9864416993070202,\n",
       "   'acc_test': 0.7192771084337349,\n",
       "   'adj_acc_test': 0.9325301204819277},\n",
       "  'best_model': RandomForestClassifier(criterion='entropy', min_samples_split=5,\n",
       "                         n_estimators=10),\n",
       "  'best_data': 'unbalance',\n",
       "  'model_best_score': {'cv_score': 0.7050285735085356,\n",
       "   'acc_test': 0.7192771084337349,\n",
       "   'adj_acc_test': 0.9325301204819277},\n",
       "  'rus': {'model': RandomForestClassifier(criterion='log_loss', min_samples_leaf=2,\n",
       "                          n_estimators=10),\n",
       "   'cv_score': 0.6716559891283246,\n",
       "   'acc_train': 0.9292035398230089,\n",
       "   'adj_acc_train': 0.976401179941003,\n",
       "   'acc_test': 0.5879518072289157,\n",
       "   'adj_acc_test': 0.8975903614457831},\n",
       "  'ros': {'model': RandomForestClassifier(criterion='log_loss', n_estimators=10),\n",
       "   'cv_score': 0.9100322952811307,\n",
       "   'acc_train': 0.995419621749409,\n",
       "   'adj_acc_train': 0.999113475177305,\n",
       "   'acc_test': 0.7036144578313253,\n",
       "   'adj_acc_test': 0.9253012048192771},\n",
       "  'smote': {'model': RandomForestClassifier(n_estimators=10),\n",
       "   'cv_score': 0.8541809060159247,\n",
       "   'acc_train': 0.9937943262411347,\n",
       "   'adj_acc_train': 0.9980791962174941,\n",
       "   'acc_test': 0.7120481927710843,\n",
       "   'adj_acc_test': 0.9265060240963855}},\n",
       " 'XGBClassifier': {'model_highest_accuracy': 0.7421686746987952,\n",
       "  'unbalance': {'model': XGBClassifier(base_score=0.5, booster='gbtree', callbacks=None,\n",
       "                 colsample_bylevel=1, colsample_bynode=1, colsample_bytree=1,\n",
       "                 early_stopping_rounds=None, enable_categorical=False,\n",
       "                 eval_metric=None, feature_types=None, gamma=0, gpu_id=-1,\n",
       "                 grow_policy='depthwise', importance_type=None,\n",
       "                 interaction_constraints='', learning_rate=0.300000012,\n",
       "                 max_bin=256, max_cat_threshold=64, max_cat_to_onehot=4,\n",
       "                 max_delta_step=0, max_depth=6, max_leaves=0, min_child_weight=1,\n",
       "                 missing=nan, monotone_constraints='()', n_estimators=50, n_jobs=0,\n",
       "                 num_class=9, num_parallel_tree=1, objective='multi:softprob', ...),\n",
       "   'cv_score': 0.7336448513085575,\n",
       "   'acc_train': 0.9900572461584815,\n",
       "   'adj_acc_train': 0.9990961132871347,\n",
       "   'acc_test': 0.7421686746987952,\n",
       "   'adj_acc_test': 0.9421686746987952},\n",
       "  'best_model': XGBClassifier(base_score=0.5, booster='gbtree', callbacks=None,\n",
       "                colsample_bylevel=1, colsample_bynode=1, colsample_bytree=1,\n",
       "                early_stopping_rounds=None, enable_categorical=False,\n",
       "                eval_metric=None, feature_types=None, gamma=0, gpu_id=-1,\n",
       "                grow_policy='depthwise', importance_type=None,\n",
       "                interaction_constraints='', learning_rate=0.300000012,\n",
       "                max_bin=256, max_cat_threshold=64, max_cat_to_onehot=4,\n",
       "                max_delta_step=0, max_depth=6, max_leaves=0, min_child_weight=1,\n",
       "                missing=nan, monotone_constraints='()', n_estimators=50, n_jobs=0,\n",
       "                num_class=9, num_parallel_tree=1, objective='multi:softprob', ...),\n",
       "  'best_data': 'unbalance',\n",
       "  'model_best_score': {'cv_score': 0.7336448513085575,\n",
       "   'acc_test': 0.7421686746987952,\n",
       "   'adj_acc_test': 0.9421686746987952},\n",
       "  'rus': {'model': XGBClassifier(base_score=0.5, booster='gbtree', callbacks=None,\n",
       "                 colsample_bylevel=1, colsample_bynode=1, colsample_bytree=1,\n",
       "                 early_stopping_rounds=None, enable_categorical=False,\n",
       "                 eval_metric=None, feature_types=None, gamma=0, gpu_id=-1,\n",
       "                 grow_policy='depthwise', importance_type=None,\n",
       "                 interaction_constraints='', learning_rate=0.300000012,\n",
       "                 max_bin=256, max_cat_threshold=64, max_cat_to_onehot=4,\n",
       "                 max_delta_step=0, max_depth=6, max_leaves=0, min_child_weight=1,\n",
       "                 missing=nan, monotone_constraints='()', n_estimators=50, n_jobs=0,\n",
       "                 num_class=9, num_parallel_tree=1, objective='multi:softprob', ...),\n",
       "   'cv_score': 0.6981848184818481,\n",
       "   'acc_train': 0.9990167158308751,\n",
       "   'adj_acc_train': 0.9990167158308751,\n",
       "   'acc_test': 0.6216867469879518,\n",
       "   'adj_acc_test': 0.9132530120481928},\n",
       "  'ros': {'model': XGBClassifier(base_score=0.5, booster='gbtree', callbacks=None,\n",
       "                 colsample_bylevel=1, colsample_bynode=1, colsample_bytree=1,\n",
       "                 early_stopping_rounds=None, enable_categorical=False,\n",
       "                 eval_metric=None, feature_types=None, gamma=0, gpu_id=-1,\n",
       "                 grow_policy='depthwise', importance_type=None,\n",
       "                 interaction_constraints='', learning_rate=0.300000012,\n",
       "                 max_bin=256, max_cat_threshold=64, max_cat_to_onehot=4,\n",
       "                 max_delta_step=0, max_depth=6, max_leaves=0, min_child_weight=1,\n",
       "                 missing=nan, monotone_constraints='()', n_estimators=50, n_jobs=0,\n",
       "                 num_class=9, num_parallel_tree=1, objective='multi:softprob', ...),\n",
       "   'cv_score': 0.9175659671540822,\n",
       "   'acc_train': 0.9906914893617021,\n",
       "   'adj_acc_train': 0.99822695035461,\n",
       "   'acc_test': 0.7421686746987952,\n",
       "   'adj_acc_test': 0.9337349397590361},\n",
       "  'smote': {'model': XGBClassifier(base_score=0.5, booster='gbtree', callbacks=None,\n",
       "                 colsample_bylevel=1, colsample_bynode=1, colsample_bytree=1,\n",
       "                 early_stopping_rounds=None, enable_categorical=False,\n",
       "                 eval_metric=None, feature_types=None, gamma=0, gpu_id=-1,\n",
       "                 grow_policy='depthwise', importance_type=None,\n",
       "                 interaction_constraints='', learning_rate=0.300000012,\n",
       "                 max_bin=256, max_cat_threshold=64, max_cat_to_onehot=4,\n",
       "                 max_delta_step=0, max_depth=6, max_leaves=0, min_child_weight=1,\n",
       "                 missing=nan, monotone_constraints='()', n_estimators=50, n_jobs=0,\n",
       "                 num_class=9, num_parallel_tree=1, objective='multi:softprob', ...),\n",
       "   'cv_score': 0.8587592756067929,\n",
       "   'acc_train': 0.9872931442080378,\n",
       "   'adj_acc_train': 0.9971926713947991,\n",
       "   'acc_test': 0.7409638554216867,\n",
       "   'adj_acc_test': 0.936144578313253}}}"
      ]
     },
     "execution_count": 62,
     "metadata": {},
     "output_type": "execute_result"
    }
   ],
   "source": [
    "modeling_summary"
   ]
  },
  {
   "cell_type": "code",
   "execution_count": 41,
   "metadata": {},
   "outputs": [],
   "source": [
    "util.dump_pickle(data=modeling_summary, file_path=config['modeling_summary'])"
   ]
  },
  {
   "cell_type": "code",
   "execution_count": 46,
   "metadata": {},
   "outputs": [],
   "source": [
    "def pick_best_model(modeling_summary:dict):\n",
    "\n",
    "    model_best_accuracy = 0\n",
    "    best_model = []\n",
    "    for model in modeling_summary:\n",
    "        if modeling_summary[model]['model_highest_accuracy'] > model_best_accuracy:\n",
    "            model_best_accuracy = modeling_summary[model]['model_highest_accuracy']\n",
    "            best_model = modeling_summary[model]['best_model']\n",
    "    \n",
    "    return best_model"
   ]
  },
  {
   "cell_type": "code",
   "execution_count": 51,
   "metadata": {},
   "outputs": [],
   "source": [
    "production_model = pick_best_model(modeling_summary=modeling_summary)"
   ]
  },
  {
   "cell_type": "code",
   "execution_count": 52,
   "metadata": {},
   "outputs": [
    {
     "data": {
      "text/html": [
       "<style>#sk-container-id-2 {color: black;background-color: white;}#sk-container-id-2 pre{padding: 0;}#sk-container-id-2 div.sk-toggleable {background-color: white;}#sk-container-id-2 label.sk-toggleable__label {cursor: pointer;display: block;width: 100%;margin-bottom: 0;padding: 0.3em;box-sizing: border-box;text-align: center;}#sk-container-id-2 label.sk-toggleable__label-arrow:before {content: \"▸\";float: left;margin-right: 0.25em;color: #696969;}#sk-container-id-2 label.sk-toggleable__label-arrow:hover:before {color: black;}#sk-container-id-2 div.sk-estimator:hover label.sk-toggleable__label-arrow:before {color: black;}#sk-container-id-2 div.sk-toggleable__content {max-height: 0;max-width: 0;overflow: hidden;text-align: left;background-color: #f0f8ff;}#sk-container-id-2 div.sk-toggleable__content pre {margin: 0.2em;color: black;border-radius: 0.25em;background-color: #f0f8ff;}#sk-container-id-2 input.sk-toggleable__control:checked~div.sk-toggleable__content {max-height: 200px;max-width: 100%;overflow: auto;}#sk-container-id-2 input.sk-toggleable__control:checked~label.sk-toggleable__label-arrow:before {content: \"▾\";}#sk-container-id-2 div.sk-estimator input.sk-toggleable__control:checked~label.sk-toggleable__label {background-color: #d4ebff;}#sk-container-id-2 div.sk-label input.sk-toggleable__control:checked~label.sk-toggleable__label {background-color: #d4ebff;}#sk-container-id-2 input.sk-hidden--visually {border: 0;clip: rect(1px 1px 1px 1px);clip: rect(1px, 1px, 1px, 1px);height: 1px;margin: -1px;overflow: hidden;padding: 0;position: absolute;width: 1px;}#sk-container-id-2 div.sk-estimator {font-family: monospace;background-color: #f0f8ff;border: 1px dotted black;border-radius: 0.25em;box-sizing: border-box;margin-bottom: 0.5em;}#sk-container-id-2 div.sk-estimator:hover {background-color: #d4ebff;}#sk-container-id-2 div.sk-parallel-item::after {content: \"\";width: 100%;border-bottom: 1px solid gray;flex-grow: 1;}#sk-container-id-2 div.sk-label:hover label.sk-toggleable__label {background-color: #d4ebff;}#sk-container-id-2 div.sk-serial::before {content: \"\";position: absolute;border-left: 1px solid gray;box-sizing: border-box;top: 0;bottom: 0;left: 50%;z-index: 0;}#sk-container-id-2 div.sk-serial {display: flex;flex-direction: column;align-items: center;background-color: white;padding-right: 0.2em;padding-left: 0.2em;position: relative;}#sk-container-id-2 div.sk-item {position: relative;z-index: 1;}#sk-container-id-2 div.sk-parallel {display: flex;align-items: stretch;justify-content: center;background-color: white;position: relative;}#sk-container-id-2 div.sk-item::before, #sk-container-id-2 div.sk-parallel-item::before {content: \"\";position: absolute;border-left: 1px solid gray;box-sizing: border-box;top: 0;bottom: 0;left: 50%;z-index: -1;}#sk-container-id-2 div.sk-parallel-item {display: flex;flex-direction: column;z-index: 1;position: relative;background-color: white;}#sk-container-id-2 div.sk-parallel-item:first-child::after {align-self: flex-end;width: 50%;}#sk-container-id-2 div.sk-parallel-item:last-child::after {align-self: flex-start;width: 50%;}#sk-container-id-2 div.sk-parallel-item:only-child::after {width: 0;}#sk-container-id-2 div.sk-dashed-wrapped {border: 1px dashed gray;margin: 0 0.4em 0.5em 0.4em;box-sizing: border-box;padding-bottom: 0.4em;background-color: white;}#sk-container-id-2 div.sk-label label {font-family: monospace;font-weight: bold;display: inline-block;line-height: 1.2em;}#sk-container-id-2 div.sk-label-container {text-align: center;}#sk-container-id-2 div.sk-container {/* jupyter's `normalize.less` sets `[hidden] { display: none; }` but bootstrap.min.css set `[hidden] { display: none !important; }` so we also need the `!important` here to be able to override the default hidden behavior on the sphinx rendered scikit-learn.org. See: https://github.com/scikit-learn/scikit-learn/issues/21755 */display: inline-block !important;position: relative;}#sk-container-id-2 div.sk-text-repr-fallback {display: none;}</style><div id=\"sk-container-id-2\" class=\"sk-top-container\"><div class=\"sk-text-repr-fallback\"><pre>XGBClassifier(base_score=0.5, booster=&#x27;gbtree&#x27;, callbacks=None,\n",
       "              colsample_bylevel=1, colsample_bynode=1, colsample_bytree=1,\n",
       "              early_stopping_rounds=None, enable_categorical=False,\n",
       "              eval_metric=None, feature_types=None, gamma=0, gpu_id=-1,\n",
       "              grow_policy=&#x27;depthwise&#x27;, importance_type=None,\n",
       "              interaction_constraints=&#x27;&#x27;, learning_rate=0.300000012,\n",
       "              max_bin=256, max_cat_threshold=64, max_cat_to_onehot=4,\n",
       "              max_delta_step=0, max_depth=6, max_leaves=0, min_child_weight=1,\n",
       "              missing=nan, monotone_constraints=&#x27;()&#x27;, n_estimators=50, n_jobs=0,\n",
       "              num_class=9, num_parallel_tree=1, objective=&#x27;multi:softprob&#x27;, ...)</pre><b>In a Jupyter environment, please rerun this cell to show the HTML representation or trust the notebook. <br />On GitHub, the HTML representation is unable to render, please try loading this page with nbviewer.org.</b></div><div class=\"sk-container\" hidden><div class=\"sk-item\"><div class=\"sk-estimator sk-toggleable\"><input class=\"sk-toggleable__control sk-hidden--visually\" id=\"sk-estimator-id-2\" type=\"checkbox\" checked><label for=\"sk-estimator-id-2\" class=\"sk-toggleable__label sk-toggleable__label-arrow\">XGBClassifier</label><div class=\"sk-toggleable__content\"><pre>XGBClassifier(base_score=0.5, booster=&#x27;gbtree&#x27;, callbacks=None,\n",
       "              colsample_bylevel=1, colsample_bynode=1, colsample_bytree=1,\n",
       "              early_stopping_rounds=None, enable_categorical=False,\n",
       "              eval_metric=None, feature_types=None, gamma=0, gpu_id=-1,\n",
       "              grow_policy=&#x27;depthwise&#x27;, importance_type=None,\n",
       "              interaction_constraints=&#x27;&#x27;, learning_rate=0.300000012,\n",
       "              max_bin=256, max_cat_threshold=64, max_cat_to_onehot=4,\n",
       "              max_delta_step=0, max_depth=6, max_leaves=0, min_child_weight=1,\n",
       "              missing=nan, monotone_constraints=&#x27;()&#x27;, n_estimators=50, n_jobs=0,\n",
       "              num_class=9, num_parallel_tree=1, objective=&#x27;multi:softprob&#x27;, ...)</pre></div></div></div></div></div>"
      ],
      "text/plain": [
       "XGBClassifier(base_score=0.5, booster='gbtree', callbacks=None,\n",
       "              colsample_bylevel=1, colsample_bynode=1, colsample_bytree=1,\n",
       "              early_stopping_rounds=None, enable_categorical=False,\n",
       "              eval_metric=None, feature_types=None, gamma=0, gpu_id=-1,\n",
       "              grow_policy='depthwise', importance_type=None,\n",
       "              interaction_constraints='', learning_rate=0.300000012,\n",
       "              max_bin=256, max_cat_threshold=64, max_cat_to_onehot=4,\n",
       "              max_delta_step=0, max_depth=6, max_leaves=0, min_child_weight=1,\n",
       "              missing=nan, monotone_constraints='()', n_estimators=50, n_jobs=0,\n",
       "              num_class=9, num_parallel_tree=1, objective='multi:softprob', ...)"
      ]
     },
     "execution_count": 52,
     "metadata": {},
     "output_type": "execute_result"
    }
   ],
   "source": [
    "production_model"
   ]
  },
  {
   "cell_type": "code",
   "execution_count": 53,
   "metadata": {},
   "outputs": [],
   "source": [
    "util.dump_pickle(data=production_model, file_path=config['production_model'])"
   ]
  },
  {
   "cell_type": "code",
   "execution_count": 56,
   "metadata": {},
   "outputs": [
    {
     "data": {
      "text/plain": [
       "True"
      ]
     },
     "execution_count": 56,
     "metadata": {},
     "output_type": "execute_result"
    }
   ],
   "source": [
    "path = \"models/production_model.pkl\"\n",
    "print(os.path.exists(path))"
   ]
  },
  {
   "cell_type": "code",
   "execution_count": null,
   "metadata": {},
   "outputs": [],
   "source": []
  },
  {
   "cell_type": "code",
   "execution_count": null,
   "metadata": {},
   "outputs": [],
   "source": []
  },
  {
   "cell_type": "code",
   "execution_count": null,
   "metadata": {},
   "outputs": [],
   "source": []
  },
  {
   "cell_type": "code",
   "execution_count": null,
   "metadata": {},
   "outputs": [],
   "source": []
  },
  {
   "cell_type": "code",
   "execution_count": null,
   "metadata": {},
   "outputs": [],
   "source": []
  },
  {
   "cell_type": "code",
   "execution_count": null,
   "metadata": {},
   "outputs": [],
   "source": []
  },
  {
   "cell_type": "code",
   "execution_count": null,
   "metadata": {},
   "outputs": [],
   "source": []
  },
  {
   "cell_type": "code",
   "execution_count": null,
   "metadata": {},
   "outputs": [],
   "source": []
  },
  {
   "cell_type": "code",
   "execution_count": null,
   "metadata": {},
   "outputs": [],
   "source": []
  },
  {
   "cell_type": "code",
   "execution_count": null,
   "metadata": {},
   "outputs": [],
   "source": []
  },
  {
   "cell_type": "code",
   "execution_count": null,
   "metadata": {},
   "outputs": [],
   "source": []
  },
  {
   "cell_type": "code",
   "execution_count": null,
   "metadata": {},
   "outputs": [],
   "source": []
  },
  {
   "cell_type": "code",
   "execution_count": null,
   "metadata": {},
   "outputs": [],
   "source": []
  },
  {
   "cell_type": "code",
   "execution_count": null,
   "metadata": {},
   "outputs": [],
   "source": []
  },
  {
   "cell_type": "code",
   "execution_count": null,
   "metadata": {},
   "outputs": [],
   "source": []
  },
  {
   "cell_type": "code",
   "execution_count": null,
   "metadata": {},
   "outputs": [],
   "source": []
  },
  {
   "cell_type": "code",
   "execution_count": null,
   "metadata": {},
   "outputs": [],
   "source": []
  },
  {
   "cell_type": "code",
   "execution_count": null,
   "metadata": {},
   "outputs": [],
   "source": []
  },
  {
   "cell_type": "code",
   "execution_count": null,
   "metadata": {},
   "outputs": [],
   "source": []
  },
  {
   "cell_type": "code",
   "execution_count": null,
   "metadata": {},
   "outputs": [],
   "source": []
  },
  {
   "cell_type": "code",
   "execution_count": null,
   "metadata": {},
   "outputs": [],
   "source": []
  },
  {
   "cell_type": "code",
   "execution_count": null,
   "metadata": {},
   "outputs": [],
   "source": []
  },
  {
   "cell_type": "code",
   "execution_count": null,
   "metadata": {},
   "outputs": [],
   "source": []
  },
  {
   "cell_type": "code",
   "execution_count": null,
   "metadata": {},
   "outputs": [],
   "source": []
  },
  {
   "cell_type": "code",
   "execution_count": null,
   "metadata": {},
   "outputs": [],
   "source": []
  },
  {
   "cell_type": "code",
   "execution_count": null,
   "metadata": {},
   "outputs": [],
   "source": []
  },
  {
   "cell_type": "code",
   "execution_count": null,
   "metadata": {},
   "outputs": [],
   "source": []
  },
  {
   "cell_type": "code",
   "execution_count": null,
   "metadata": {},
   "outputs": [],
   "source": []
  },
  {
   "cell_type": "code",
   "execution_count": null,
   "metadata": {},
   "outputs": [],
   "source": []
  }
 ],
 "metadata": {
  "kernelspec": {
   "display_name": "Python 3.9.12 ('base')",
   "language": "python",
   "name": "python3"
  },
  "language_info": {
   "codemirror_mode": {
    "name": "ipython",
    "version": 3
   },
   "file_extension": ".py",
   "mimetype": "text/x-python",
   "name": "python",
   "nbconvert_exporter": "python",
   "pygments_lexer": "ipython3",
   "version": "3.9.12"
  },
  "orig_nbformat": 4,
  "vscode": {
   "interpreter": {
    "hash": "34e617279dcb4f9d491a2221293956721f8be46cd74f3e42d7ebd6a28f1373b7"
   }
  }
 },
 "nbformat": 4,
 "nbformat_minor": 2
}
